{
 "cells": [
  {
   "cell_type": "markdown",
   "metadata": {
    "pycharm": {
     "name": "#%% md\n"
    }
   },
   "source": [
    "# Lab 2: Reviewing Syntax"
   ]
  },
  {
   "cell_type": "markdown",
   "metadata": {
    "pycharm": {
     "name": "#%% md\n"
    }
   },
   "source": [
    "## Goals\n",
    "Welcome to your second lab day! \n",
    "The primary goal of this lab is to make sure that you master basic python syntax.\n",
    "\n",
    "Most of what we'll see during this lab is things you're already somewhat familiar with. As a consequence, many of the exercises are about correcting faulty syntax. Tracking and correcting buggy code, be it syntactically wrong or semantically faulty, is a major part of day-to-day programming. Better get you used to it!\n",
    "**Tip:** _Don't hesitate to open up previous class materials and refer to it, as it might prove helpful._\n",
    "\n",
    "**Note:** At the end of the lab are two exercises that you are expected to submit for grading on Arche. You will have until 9:59am on Friday, 30th September (just before our next lab) to submit. You will find the submission instructions at the end of this notebook."
   ]
  },
  {
   "cell_type": "markdown",
   "metadata": {
    "pycharm": {
     "name": "#%% md\n"
    }
   },
   "source": [
    "## Conditional execution\n",
    "\n",
    "\"Conditional execution\" is just a fancy way of saying \"run the instruction, if and only if a certain condition applies\".\n",
    "\n",
    "Typically, in python, we use the keyword `if`, followed by a condition (anything that can be evaluated as `True` or `False`) and a colon (`:`) for that purpose. Instructions that are to be conditionally executed are to be indented. For example:\n",
    "\n",
    "```\n",
    "if number_of_peanuts_i_have > 42:\n",
    "    give_peanuts_to_everyone()\n",
    "```\n",
    "\n",
    "In the case you want to define a behavior if the condition fails, use the `else` keyword:\n",
    "\n",
    "```\n",
    "if number_of_peanuts_i_have > 42:\n",
    "    give_peanuts_to_everyone()\n",
    "else:\n",
    "    eat_peanuts_in_secret()\n",
    "```\n",
    "\n",
    "If you want to define a behavior in case your first `if` condition fails, but depending on some second condition, use the `elif` (as in, \"else if\") keyword:\n",
    "\n",
    "```\n",
    "if number_of_peanuts_i_have > 42:\n",
    "    give_peanuts_to_everyone()\n",
    "elif number_of_peanuts_i_have > 10:\n",
    "    give_peanuts_to_close_friends_only()\n",
    "else:\n",
    "    eat_peanuts_in_secret()\n",
    "```"
   ]
  },
  {
   "cell_type": "markdown",
   "metadata": {
    "pycharm": {
     "name": "#%% md\n"
    }
   },
   "source": [
    "### Exercise #1 : Fix it!\n",
    "\n",
    "Below is a cell containing syntactically wrong conditional instructions. Fix them!\n",
    "\n",
    "**Tip:** _Running a cell to test how it behaves and whether it is correct is a good practice. Pay attention to the error messages you get: they give valuable hint as to what you need to fix!_"
   ]
  },
  {
   "cell_type": "code",
   "execution_count": 1,
   "metadata": {
    "pycharm": {
     "name": "#%%\n"
    }
   },
   "outputs": [
    {
     "name": "stdout",
     "output_type": "stream",
     "text": [
      "I am a DJ\n",
      "didgeridoo\n"
     ]
    }
   ],
   "source": [
    "some_value = 42\n",
    "   \n",
    "if some_value == 42:\n",
    "    print(\"I am a DJ\")\n",
    "if some_value >= 43:\n",
    "    print(\"kangaroo\")\n",
    "else:\n",
    "    if some_value <= 43:\n",
    "        print(\"didgeridoo\")\n",
    "    else:\n",
    "        print(\"berimbau\")"
   ]
  },
  {
   "cell_type": "markdown",
   "metadata": {
    "pycharm": {
     "name": "#%% md\n"
    }
   },
   "source": [
    "## Any value can pass as a test\n",
    "\n",
    "One important point in python is that virtually any value can be used as a condition. \n",
    "\n",
    "We divide values between *truthy* and *falsy* values. By default, all values are truthy: when put after an `if`, they will be evaluated as if they were `True`.\n",
    "\n",
    "The exceptions to that are:\n",
    "\n",
    " - The `False` boolean value\n",
    " - Boolean statement that evaluate to `False`: e.g., `42 < 2`\n",
    " - Values equal to zero: for example `0`, `0.0`\n",
    " - The empty string: `\"\"`\n",
    " - The special `None` object\n",
    " - An empty list `[]` or dictionary `{}`\n",
    "\n",
    "All of these are falsy and will be evaluated as if they were `False` in conditional instructions."
   ]
  },
  {
   "cell_type": "markdown",
   "metadata": {
    "pycharm": {
     "name": "#%% md\n"
    }
   },
   "source": [
    "### Exercise #2 : Which is syntactically wrong?\n",
    "\n",
    "The consequence of all values being either `falsy` or `truhty` is that the syntax of conditions is very flexible! Below are a number of conditional instruction blocks. Remove only those blocks that are syntactically incorrect!"
   ]
  },
  {
   "cell_type": "code",
   "execution_count": 14,
   "metadata": {
    "pycharm": {
     "name": "#%%\n"
    }
   },
   "outputs": [
    {
     "name": "stdout",
     "output_type": "stream",
     "text": [
      "<built-in function print>\n",
      "poor\n"
     ]
    }
   ],
   "source": [
    "\n",
    "# Block 2\n",
    "if print:\n",
    "    print(print)\n",
    "    \n",
    "# Block 5\n",
    "if \"\":\n",
    "    print(\"Alack\")\n",
    "elif \"Shakespeare\":\n",
    "    print(\"poor\")\n",
    "else:\n",
    "    print(\"Yorrick\")"
   ]
  },
  {
   "cell_type": "markdown",
   "metadata": {
    "pycharm": {
     "name": "#%% md\n"
    }
   },
   "source": [
    "## Being in the loop\n",
    "\n",
    "Another very important aspect of python syntax is the  ability to loop over a series of instruction. Python offers two means of achieving this.\n",
    "\n",
    "The first one is called a `while` loop, as it uses the `while` keyword. It basically repeats the same instructions over and over, stoping only when the condition after the `while` keyword is falsy:\n",
    "\n",
    "```\n",
    "while i_have_some_peanuts():\n",
    "    eat_one_peanut()\n",
    "```\n",
    "\n",
    "Badly written `while` loops can be dangerous: if the condition never gets falsy (e.g., if I have an infinite supply of peanuts! ... or if I forget to subtract eaten peanuts from the total number of remaining peanuts) then the code will **never** stop.\n",
    "\n",
    "The second means of looping over instructions is called a `for` loop. It iterates over each element in a collection for instance, items in a list, or characters in a string), and stops when there are no more. Each element, in turn, is stored in the variable declared right after the `for` keyword. We put the collection after an `in` keyword. For example:\n",
    "\n",
    "```\n",
    "for my_peanut in all_the_peanuts_i_have():\n",
    "    eat(my_peanut)\n",
    "```"
   ]
  },
  {
   "cell_type": "markdown",
   "metadata": {
    "pycharm": {
     "name": "#%% md\n"
    }
   },
   "source": [
    "### Exercise #3 : Somebody make it stop!\n",
    "\n",
    "The following code cell contains a never-ending `while` loop. Spot the mistake and correct it, so that the execution stops after 42 loops."
   ]
  },
  {
   "cell_type": "code",
   "execution_count": 7,
   "metadata": {
    "pycharm": {
     "name": "#%%\n"
    }
   },
   "outputs": [
    {
     "name": "stdout",
     "output_type": "stream",
     "text": [
      "42\n"
     ]
    }
   ],
   "source": [
    "i = 21\n",
    "n = 42\n",
    "\n",
    "# this loop will never stop, why?\n",
    "\n",
    " # Because i has the value of 21. 21 always smaller than 42. If we simultaneously substitute one for i and n, the result will the same as i always smaller than n.\n",
    "\n",
    "\n",
    "\n",
    "while n > 0:\n",
    "    i -= 1\n",
    "    n -= 1"
   ]
  },
  {
   "cell_type": "markdown",
   "metadata": {
    "pycharm": {
     "name": "#%% md\n"
    }
   },
   "source": [
    "### Exercise #4 : 99 Bottles of beer on the wall\n",
    "\n",
    "One (somewhat) famous song in code programming is called [\"99 bottles of beer\"](https://en.wikipedia.org/wiki/99_Bottles_of_Beer). It's frequently used to demonstrate the ability of a programming language to loop over a series of instructions. The song goes like this:\n",
    "\n",
    "> 99 bottles of beer on the wall, 99 bottles of beer on the wall,\n",
    "\n",
    "> Take one down, pass it around, 98 bottles of beer on the wall\n",
    "\n",
    "> 98 bottles of beer on the wall, 98 bottles of beer on the wall,\n",
    "\n",
    "> Take one down, pass it around, 97 bottles of beer on the wall\n",
    "\n",
    "... and so on, until there are no more bottles to pass around:\n",
    "\n",
    "> 1 bottle of beer on the wall, 1 bottle of beer on the wall,\n",
    "\n",
    "> Take one down, pass it around, no more bottle of beer on the wall\n",
    "\n",
    "\n",
    "In the next code cell, write a series of instruction that prints the entire song, from 99 down to 0. *Be careful about plurals and singulars! After all, English syntax deserves as much respect as python syntax.*\n",
    "\n",
    "**Challenge:** &#9971; Golf it! If you don't know, in programming, golfing means \"writing some piece of code with as few characters as possible\". "
   ]
  },
  {
   "cell_type": "code",
   "execution_count": 12,
   "metadata": {
    "pycharm": {
     "name": "#%%\n"
    }
   },
   "outputs": [
    {
     "name": "stdout",
     "output_type": "stream",
     "text": [
      "99 bottles of beer on the wall, 99 bottles of beer.\n",
      "Take one down and pass it around, 98 bottles of beer on the wall.\n",
      " \n",
      "98 bottles of beer on the wall, 98 bottles of beer.\n",
      "Take one down and pass it around, 97 bottles of beer on the wall.\n",
      " \n",
      "97 bottles of beer on the wall, 97 bottles of beer.\n",
      "Take one down and pass it around, 96 bottles of beer on the wall.\n",
      " \n",
      "96 bottles of beer on the wall, 96 bottles of beer.\n",
      "Take one down and pass it around, 95 bottles of beer on the wall.\n",
      " \n",
      "95 bottles of beer on the wall, 95 bottles of beer.\n",
      "Take one down and pass it around, 94 bottles of beer on the wall.\n",
      " \n",
      "94 bottles of beer on the wall, 94 bottles of beer.\n",
      "Take one down and pass it around, 93 bottles of beer on the wall.\n",
      " \n",
      "93 bottles of beer on the wall, 93 bottles of beer.\n",
      "Take one down and pass it around, 92 bottles of beer on the wall.\n",
      " \n",
      "92 bottles of beer on the wall, 92 bottles of beer.\n",
      "Take one down and pass it around, 91 bottles of beer on the wall.\n",
      " \n",
      "91 bottles of beer on the wall, 91 bottles of beer.\n",
      "Take one down and pass it around, 90 bottles of beer on the wall.\n",
      " \n",
      "90 bottles of beer on the wall, 90 bottles of beer.\n",
      "Take one down and pass it around, 89 bottles of beer on the wall.\n",
      " \n",
      "89 bottles of beer on the wall, 89 bottles of beer.\n",
      "Take one down and pass it around, 88 bottles of beer on the wall.\n",
      " \n",
      "88 bottles of beer on the wall, 88 bottles of beer.\n",
      "Take one down and pass it around, 87 bottles of beer on the wall.\n",
      " \n",
      "87 bottles of beer on the wall, 87 bottles of beer.\n",
      "Take one down and pass it around, 86 bottles of beer on the wall.\n",
      " \n",
      "86 bottles of beer on the wall, 86 bottles of beer.\n",
      "Take one down and pass it around, 85 bottles of beer on the wall.\n",
      " \n",
      "85 bottles of beer on the wall, 85 bottles of beer.\n",
      "Take one down and pass it around, 84 bottles of beer on the wall.\n",
      " \n",
      "84 bottles of beer on the wall, 84 bottles of beer.\n",
      "Take one down and pass it around, 83 bottles of beer on the wall.\n",
      " \n",
      "83 bottles of beer on the wall, 83 bottles of beer.\n",
      "Take one down and pass it around, 82 bottles of beer on the wall.\n",
      " \n",
      "82 bottles of beer on the wall, 82 bottles of beer.\n",
      "Take one down and pass it around, 81 bottles of beer on the wall.\n",
      " \n",
      "81 bottles of beer on the wall, 81 bottles of beer.\n",
      "Take one down and pass it around, 80 bottles of beer on the wall.\n",
      " \n",
      "80 bottles of beer on the wall, 80 bottles of beer.\n",
      "Take one down and pass it around, 79 bottles of beer on the wall.\n",
      " \n",
      "79 bottles of beer on the wall, 79 bottles of beer.\n",
      "Take one down and pass it around, 78 bottles of beer on the wall.\n",
      " \n",
      "78 bottles of beer on the wall, 78 bottles of beer.\n",
      "Take one down and pass it around, 77 bottles of beer on the wall.\n",
      " \n",
      "77 bottles of beer on the wall, 77 bottles of beer.\n",
      "Take one down and pass it around, 76 bottles of beer on the wall.\n",
      " \n",
      "76 bottles of beer on the wall, 76 bottles of beer.\n",
      "Take one down and pass it around, 75 bottles of beer on the wall.\n",
      " \n",
      "75 bottles of beer on the wall, 75 bottles of beer.\n",
      "Take one down and pass it around, 74 bottles of beer on the wall.\n",
      " \n",
      "74 bottles of beer on the wall, 74 bottles of beer.\n",
      "Take one down and pass it around, 73 bottles of beer on the wall.\n",
      " \n",
      "73 bottles of beer on the wall, 73 bottles of beer.\n",
      "Take one down and pass it around, 72 bottles of beer on the wall.\n",
      " \n",
      "72 bottles of beer on the wall, 72 bottles of beer.\n",
      "Take one down and pass it around, 71 bottles of beer on the wall.\n",
      " \n",
      "71 bottles of beer on the wall, 71 bottles of beer.\n",
      "Take one down and pass it around, 70 bottles of beer on the wall.\n",
      " \n",
      "70 bottles of beer on the wall, 70 bottles of beer.\n",
      "Take one down and pass it around, 69 bottles of beer on the wall.\n",
      " \n",
      "69 bottles of beer on the wall, 69 bottles of beer.\n",
      "Take one down and pass it around, 68 bottles of beer on the wall.\n",
      " \n",
      "68 bottles of beer on the wall, 68 bottles of beer.\n",
      "Take one down and pass it around, 67 bottles of beer on the wall.\n",
      " \n",
      "67 bottles of beer on the wall, 67 bottles of beer.\n",
      "Take one down and pass it around, 66 bottles of beer on the wall.\n",
      " \n",
      "66 bottles of beer on the wall, 66 bottles of beer.\n",
      "Take one down and pass it around, 65 bottles of beer on the wall.\n",
      " \n",
      "65 bottles of beer on the wall, 65 bottles of beer.\n",
      "Take one down and pass it around, 64 bottles of beer on the wall.\n",
      " \n",
      "64 bottles of beer on the wall, 64 bottles of beer.\n",
      "Take one down and pass it around, 63 bottles of beer on the wall.\n",
      " \n",
      "63 bottles of beer on the wall, 63 bottles of beer.\n",
      "Take one down and pass it around, 62 bottles of beer on the wall.\n",
      " \n",
      "62 bottles of beer on the wall, 62 bottles of beer.\n",
      "Take one down and pass it around, 61 bottles of beer on the wall.\n",
      " \n",
      "61 bottles of beer on the wall, 61 bottles of beer.\n",
      "Take one down and pass it around, 60 bottles of beer on the wall.\n",
      " \n",
      "60 bottles of beer on the wall, 60 bottles of beer.\n",
      "Take one down and pass it around, 59 bottles of beer on the wall.\n",
      " \n",
      "59 bottles of beer on the wall, 59 bottles of beer.\n",
      "Take one down and pass it around, 58 bottles of beer on the wall.\n",
      " \n",
      "58 bottles of beer on the wall, 58 bottles of beer.\n",
      "Take one down and pass it around, 57 bottles of beer on the wall.\n",
      " \n",
      "57 bottles of beer on the wall, 57 bottles of beer.\n",
      "Take one down and pass it around, 56 bottles of beer on the wall.\n",
      " \n",
      "56 bottles of beer on the wall, 56 bottles of beer.\n",
      "Take one down and pass it around, 55 bottles of beer on the wall.\n",
      " \n",
      "55 bottles of beer on the wall, 55 bottles of beer.\n",
      "Take one down and pass it around, 54 bottles of beer on the wall.\n",
      " \n",
      "54 bottles of beer on the wall, 54 bottles of beer.\n",
      "Take one down and pass it around, 53 bottles of beer on the wall.\n",
      " \n",
      "53 bottles of beer on the wall, 53 bottles of beer.\n",
      "Take one down and pass it around, 52 bottles of beer on the wall.\n",
      " \n",
      "52 bottles of beer on the wall, 52 bottles of beer.\n",
      "Take one down and pass it around, 51 bottles of beer on the wall.\n",
      " \n",
      "51 bottles of beer on the wall, 51 bottles of beer.\n",
      "Take one down and pass it around, 50 bottles of beer on the wall.\n",
      " \n",
      "50 bottles of beer on the wall, 50 bottles of beer.\n",
      "Take one down and pass it around, 49 bottles of beer on the wall.\n",
      " \n",
      "49 bottles of beer on the wall, 49 bottles of beer.\n",
      "Take one down and pass it around, 48 bottles of beer on the wall.\n",
      " \n",
      "48 bottles of beer on the wall, 48 bottles of beer.\n",
      "Take one down and pass it around, 47 bottles of beer on the wall.\n",
      " \n",
      "47 bottles of beer on the wall, 47 bottles of beer.\n",
      "Take one down and pass it around, 46 bottles of beer on the wall.\n",
      " \n",
      "46 bottles of beer on the wall, 46 bottles of beer.\n",
      "Take one down and pass it around, 45 bottles of beer on the wall.\n",
      " \n",
      "45 bottles of beer on the wall, 45 bottles of beer.\n",
      "Take one down and pass it around, 44 bottles of beer on the wall.\n",
      " \n",
      "44 bottles of beer on the wall, 44 bottles of beer.\n",
      "Take one down and pass it around, 43 bottles of beer on the wall.\n",
      " \n",
      "43 bottles of beer on the wall, 43 bottles of beer.\n",
      "Take one down and pass it around, 42 bottles of beer on the wall.\n",
      " \n",
      "42 bottles of beer on the wall, 42 bottles of beer.\n",
      "Take one down and pass it around, 41 bottles of beer on the wall.\n",
      " \n",
      "41 bottles of beer on the wall, 41 bottles of beer.\n",
      "Take one down and pass it around, 40 bottles of beer on the wall.\n",
      " \n",
      "40 bottles of beer on the wall, 40 bottles of beer.\n",
      "Take one down and pass it around, 39 bottles of beer on the wall.\n",
      " \n",
      "39 bottles of beer on the wall, 39 bottles of beer.\n",
      "Take one down and pass it around, 38 bottles of beer on the wall.\n",
      " \n",
      "38 bottles of beer on the wall, 38 bottles of beer.\n",
      "Take one down and pass it around, 37 bottles of beer on the wall.\n",
      " \n",
      "37 bottles of beer on the wall, 37 bottles of beer.\n",
      "Take one down and pass it around, 36 bottles of beer on the wall.\n",
      " \n",
      "36 bottles of beer on the wall, 36 bottles of beer.\n",
      "Take one down and pass it around, 35 bottles of beer on the wall.\n",
      " \n",
      "35 bottles of beer on the wall, 35 bottles of beer.\n",
      "Take one down and pass it around, 34 bottles of beer on the wall.\n",
      " \n",
      "34 bottles of beer on the wall, 34 bottles of beer.\n",
      "Take one down and pass it around, 33 bottles of beer on the wall.\n",
      " \n",
      "33 bottles of beer on the wall, 33 bottles of beer.\n",
      "Take one down and pass it around, 32 bottles of beer on the wall.\n",
      " \n",
      "32 bottles of beer on the wall, 32 bottles of beer.\n",
      "Take one down and pass it around, 31 bottles of beer on the wall.\n",
      " \n",
      "31 bottles of beer on the wall, 31 bottles of beer.\n",
      "Take one down and pass it around, 30 bottles of beer on the wall.\n",
      " \n",
      "30 bottles of beer on the wall, 30 bottles of beer.\n",
      "Take one down and pass it around, 29 bottles of beer on the wall.\n",
      " \n",
      "29 bottles of beer on the wall, 29 bottles of beer.\n",
      "Take one down and pass it around, 28 bottles of beer on the wall.\n",
      " \n",
      "28 bottles of beer on the wall, 28 bottles of beer.\n",
      "Take one down and pass it around, 27 bottles of beer on the wall.\n",
      " \n",
      "27 bottles of beer on the wall, 27 bottles of beer.\n",
      "Take one down and pass it around, 26 bottles of beer on the wall.\n",
      " \n",
      "26 bottles of beer on the wall, 26 bottles of beer.\n",
      "Take one down and pass it around, 25 bottles of beer on the wall.\n",
      " \n",
      "25 bottles of beer on the wall, 25 bottles of beer.\n",
      "Take one down and pass it around, 24 bottles of beer on the wall.\n",
      " \n",
      "24 bottles of beer on the wall, 24 bottles of beer.\n",
      "Take one down and pass it around, 23 bottles of beer on the wall.\n",
      " \n",
      "23 bottles of beer on the wall, 23 bottles of beer.\n",
      "Take one down and pass it around, 22 bottles of beer on the wall.\n",
      " \n",
      "22 bottles of beer on the wall, 22 bottles of beer.\n",
      "Take one down and pass it around, 21 bottles of beer on the wall.\n",
      " \n",
      "21 bottles of beer on the wall, 21 bottles of beer.\n",
      "Take one down and pass it around, 20 bottles of beer on the wall.\n",
      " \n",
      "20 bottles of beer on the wall, 20 bottles of beer.\n",
      "Take one down and pass it around, 19 bottles of beer on the wall.\n",
      " \n",
      "19 bottles of beer on the wall, 19 bottles of beer.\n",
      "Take one down and pass it around, 18 bottles of beer on the wall.\n",
      " \n",
      "18 bottles of beer on the wall, 18 bottles of beer.\n",
      "Take one down and pass it around, 17 bottles of beer on the wall.\n",
      " \n",
      "17 bottles of beer on the wall, 17 bottles of beer.\n",
      "Take one down and pass it around, 16 bottles of beer on the wall.\n",
      " \n",
      "16 bottles of beer on the wall, 16 bottles of beer.\n",
      "Take one down and pass it around, 15 bottles of beer on the wall.\n",
      " \n",
      "15 bottles of beer on the wall, 15 bottles of beer.\n",
      "Take one down and pass it around, 14 bottles of beer on the wall.\n",
      " \n",
      "14 bottles of beer on the wall, 14 bottles of beer.\n",
      "Take one down and pass it around, 13 bottles of beer on the wall.\n",
      " \n",
      "13 bottles of beer on the wall, 13 bottles of beer.\n",
      "Take one down and pass it around, 12 bottles of beer on the wall.\n",
      " \n",
      "12 bottles of beer on the wall, 12 bottles of beer.\n",
      "Take one down and pass it around, 11 bottles of beer on the wall.\n",
      " \n",
      "11 bottles of beer on the wall, 11 bottles of beer.\n",
      "Take one down and pass it around, 10 bottles of beer on the wall.\n",
      " \n",
      "10 bottles of beer on the wall, 10 bottles of beer.\n",
      "Take one down and pass it around, 9 bottles of beer on the wall.\n",
      " \n",
      "9 bottles of beer on the wall, 9 bottles of beer.\n",
      "Take one down and pass it around, 8 bottles of beer on the wall.\n",
      " \n",
      "8 bottles of beer on the wall, 8 bottles of beer.\n",
      "Take one down and pass it around, 7 bottles of beer on the wall.\n",
      " \n",
      "7 bottles of beer on the wall, 7 bottles of beer.\n",
      "Take one down and pass it around, 6 bottles of beer on the wall.\n",
      " \n",
      "6 bottles of beer on the wall, 6 bottles of beer.\n",
      "Take one down and pass it around, 5 bottles of beer on the wall.\n",
      " \n",
      "5 bottles of beer on the wall, 5 bottles of beer.\n",
      "Take one down and pass it around, 4 bottles of beer on the wall.\n",
      " \n",
      "4 bottles of beer on the wall, 4 bottles of beer.\n",
      "Take one down and pass it around, 3 bottles of beer on the wall.\n",
      " \n",
      "3 bottles of beer on the wall, 3 bottles of beer.\n",
      "Take one down and pass it around, 2 bottles of beer on the wall.\n",
      " \n",
      "2 bottles of beer on the wall, 2 bottles of beer.\n",
      "Take one down and pass it around, 1 bottle of beer on the wall.\n",
      " \n",
      "1 bottle of beer on the wall, 1 bottle of beer.\n",
      "Take one down and pass it around, 0 bottles of beer on the wall.\n",
      " \n",
      "No more bottles of beer on the wall, no more bottles of beer.\n",
      "Go to the store and buy some more, 99 bottles of beer on the wall.\n"
     ]
    }
   ],
   "source": [
    "# And now for 99 bottle of beers...\n",
    "def sing(n):\n",
    "\n",
    "\tif n == 1:\n",
    "\t\tobjects = 'bottle'\n",
    "\t\tobjectsMinusOne = 'bottles'\n",
    "\telif n == 2:\n",
    "\t\tobjects = 'bottles'\n",
    "\t\tobjectsMinusOne = 'bottle'\n",
    "\telse:\n",
    "\t\tobjects = 'bottles'\n",
    "\t\tobjectsMinusOne = 'bottles'\n",
    "\n",
    "\n",
    "\tif n > 0:\n",
    "\t\tprint(str(n) + \" \" + objects + \" of beer on the wall, \" + str(n) + \" \" + objects + \" of beer.\")\n",
    "\t\tprint(\"Take one down and pass it around, \" + str(n-1) + \" \" + objectsMinusOne + \" of beer on the wall.\")\n",
    "\t\tprint(\" \")\n",
    "\telif n == 0:\n",
    "\t\tprint(\"No more bottles of beer on the wall, no more bottles of beer.\")\n",
    "\t\tprint(\"Go to the store and buy some more, 99 bottles of beer on the wall.\")\n",
    "\telse:\n",
    "\t\tprint(\"Error: Wheres the booze?\")\n",
    "\n",
    "bottles = 99\n",
    "\n",
    "while bottles >= 0:\n",
    "\tsing(bottles)\n",
    "\tbottles -= 1\n"
   ]
  },
  {
   "cell_type": "markdown",
   "metadata": {
    "pycharm": {
     "name": "#%% md\n"
    }
   },
   "source": [
    "### Exercise #5 : All this while I didn't know\n",
    "\n",
    "The next exercise is about writing a function to discover the value of a secret integer!\n",
    "\n",
    "You might know this game as \"hot or cold\". We randomly select one integer between 1 and 100 (included). \n",
    "\n",
    "You have to implement the function `find_mystery_number()` such that when called, it returns the mystery number. Your function **must not** refer to the mystery number. Instead, you **must** use the function `hot_or_cold()` to see whether your current guess is correct or not.\n",
    "\n",
    "**Challenge 1:** Try to make as few guesses as possible!\n",
    "\n",
    "**Challenge 2:** &#9971; Golf it!"
   ]
  },
  {
   "cell_type": "code",
   "execution_count": 1,
   "metadata": {
    "pycharm": {
     "name": "#%%\n"
    }
   },
   "outputs": [],
   "source": [
    "import random\n",
    "\n",
    "# this is for replicability\n",
    "random.seed(a=42)\n",
    "\n",
    "# this is the secret number to guess. Don't look at it!\n",
    "_THE_MYSTERY_NUMBER = random.randint(1, 100)\n",
    "\n",
    "\n",
    "def hot_or_cold(guess_number):\n",
    "    \"\"\"\n",
    "    Oracle function to tell how far your guess is from the truth.\n",
    "    \"\"\"\n",
    "    if guess_number == _THE_MYSTERY_NUMBER:\n",
    "        return \"bingo bango!\"\n",
    "    elif _THE_MYSTERY_NUMBER - 5 < guess_number < _THE_MYSTERY_NUMBER + 5:\n",
    "        return \"you're hot!\"\n",
    "    elif _THE_MYSTERY_NUMBER - 10 < guess_number < _THE_MYSTERY_NUMBER + 10:\n",
    "        return \"you're warm!\"\n",
    "    elif _THE_MYSTERY_NUMBER - 20 < guess_number < _THE_MYSTERY_NUMBER + 20:\n",
    "        return \"uh... not really...\"\n",
    "    else:\n",
    "        return \"cold. so cold.\"\n",
    "    \n",
    "    \n",
    "    \n",
    "def find_mystery_number(guess):\n",
    "    # your code goes here!\n",
    "    hot_or_cold(guess)\n",
    "\n",
    "\n",
    "\n",
    "\n"
   ]
  },
  {
   "cell_type": "markdown",
   "metadata": {
    "pycharm": {
     "name": "#%% md\n"
    }
   },
   "source": [
    "# Assignment Exercise\n",
    "\n",
    "### Collatz Sequence\n",
    "\n",
    "You may have seen this problem before.\n",
    "\n",
    "The *Collatz sequence* is an iterative sequence defined on the positive integers by:\n",
    "\n",
    "```\n",
    "n -> n / 2    if n is even\n",
    "n -> 3n + 1   if n is odd\n",
    "```\n",
    "\n",
    "For example, using the rule above and starting with 13 yields the sequence:\n",
    "\n",
    "```\n",
    "13 -> 40 -> 20 -> 10 -> 5 -> 16 -> 8 -> 4 -> 2 -> 1\n",
    "```\n",
    "\n",
    "It can be seen that this sequence (starting at 13 and finishing at 1) contains 10 terms. Although unproven, it it hypothesized that all starting numbers finish at 1.\n",
    "\n",
    "What is the length of the longest chain which has a starting number under 1,000,000?\n",
    "\n",
    "*NOTE: Once the chain starts the terms are allowed to go above one thousand.*\n",
    "\n",
    "### Exercise 1\n",
    "\n",
    "Write a function called `collatz_len()`, which, given a number `n` (`n` <= 1,000,000), returns the length of the Collatz sequence starting at `n`.\n",
    "\n",
    "### Exercise 2\n",
    "\n",
    "Write a function called `max_collatz_len()`, which, given a number `n` (n <= 1,000,000), returns the length of the longest Collatz sequence for numbers smaller than `n`. (You are allowed to call your `collatz_len()` function within your `max_collatz_len()` function.\n",
    "\n",
    "**Hint**: You may want to write a naive algorithm first which works for numbers under 1000. Then write a cleverer-than-naive algorithm so that is works for any starting number under 1,000,000. Or just go directly for the challenge ;-)"
   ]
  },
  {
   "cell_type": "code",
   "execution_count": 2,
   "metadata": {
    "pycharm": {
     "name": "#%%\n"
    }
   },
   "outputs": [
    {
     "name": "stdout",
     "output_type": "stream",
     "text": [
      "179\n",
      "525\n"
     ]
    }
   ],
   "source": [
    "def collatz_len(n):\n",
    "    \"\"\"Computes the length of the Collatz sequence starting at `n`.\"\"\"\n",
    "    collatz_list=list() #list to store the values of sequence\n",
    "    while n!=1:\n",
    "        collatz_list.append(n)\n",
    "        #if n is even\n",
    "        if n%2==0:\n",
    "            n=n/2\n",
    "        else:\n",
    "          #if n is odd\n",
    "            n=(3*n)+1\n",
    "    collatz_list.append(1)  #print 1 in the end\n",
    "    l=len(collatz_list)\n",
    "    return l\n",
    "\n",
    "def max_collatz_len(n):\n",
    "    \"\"\"Computes the longest Collatz sequence length for starting numbers < `n`\"\"\"\n",
    "    largest_number=0\n",
    "    ctr_point=int(n/2)\n",
    "    for num in range(ctr_point,n+1):\n",
    "         if collatz_len(num)>largest_number:\n",
    "            largest_number=collatz_len(num)\n",
    "    return largest_number\n",
    "\n",
    "\n",
    "print(max_collatz_len(1000))\n",
    "print(max_collatz_len(1000000))"
   ]
  },
  {
   "cell_type": "markdown",
   "metadata": {
    "pycharm": {
     "name": "#%% md\n"
    }
   },
   "source": [
    "### Submission instructions\n",
    "\n",
    "Alright, you did it! Enough beers and peanuts for today.\n",
    "\n",
    "You will need to submit the last two exercises (the `collatz_len()` and `max_collatz_len()` functions) on Arche before 9:59am on Friday, 30th September (just before our next lab). Submit either a `.py` or an `.ipynb` file containing the two functions and name it `td2_firstname_lastname.py` or `td2_firstname_lastname.ipynb` accordingly, where `firstname` should be your first name and `lastname` should be your last name (e.h. Jane Doe's submission should be called `td2_jane_doe.py` or `td2_jane_doe.ipynb`, depending on whether Jane submitted a Python script or a Jupyter notebook).\n",
    "\n",
    "To evaluate your submission, we will be looking at the following criteria:\n",
    "\n",
    "- Does your code run? (So **run** your program at least once before submitting!)\n",
    "- Does it run correctly? (So **test** your solution with a few different inputs!)\n",
    "- Is your code well-commented?\n",
    "- Is your code well-structured and Pythonic?"
   ]
  },
  {
   "cell_type": "markdown",
   "metadata": {
    "pycharm": {
     "name": "#%% md\n"
    }
   },
   "source": [
    "Credits go to CS41 authors (@sredmond) for the original Collatz problem.\n",
    "\n",
    "> Adapted with <3 and peanuts by tmickus"
   ]
  }
 ],
 "metadata": {
  "kernelspec": {
   "display_name": "Python 3 (ipykernel)",
   "language": "python",
   "name": "python3"
  },
  "language_info": {
   "codemirror_mode": {
    "name": "ipython",
    "version": 3
   },
   "file_extension": ".py",
   "mimetype": "text/x-python",
   "name": "python",
   "nbconvert_exporter": "python",
   "pygments_lexer": "ipython3",
   "version": "3.9.12"
  }
 },
 "nbformat": 4,
 "nbformat_minor": 4
}