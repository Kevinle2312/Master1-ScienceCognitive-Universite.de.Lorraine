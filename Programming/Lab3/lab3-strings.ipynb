{
 "cells": [
  {
   "cell_type": "markdown",
   "metadata": {
    "pycharm": {
     "name": "#%% md\n"
    }
   },
   "source": [
    "# Lab 3: Strings"
   ]
  },
  {
   "cell_type": "markdown",
   "metadata": {
    "pycharm": {
     "name": "#%% md\n"
    }
   },
   "source": [
    "## Overview\n",
    "\n",
    "Welcome to your third lab! The goal for today is to familiarize you with strings (or more precisely in python, `str`). Manipulating textual data is a frequent operation in day-to-day proramming &mdash; even more so for us in NLP.\n",
    "\n",
    "As usual, you will have to submit two exercises. You will find them and the submission instructions at the end of this notebook."
   ]
  },
  {
   "cell_type": "markdown",
   "metadata": {
    "pycharm": {
     "name": "#%% md\n"
    }
   },
   "source": [
    "## What's in a string?\n",
    "\n",
    "Strings are inherently an ordered sequence of characters. Which is why you can iterate over a string using a for-loop, or retrieve specific characters using a slice. \n",
    "\n",
    "Before executing the next cell, have a guess at what the output will produce!"
   ]
  },
  {
   "cell_type": "code",
   "execution_count": 27,
   "metadata": {
    "pycharm": {
     "name": "#%%\n"
    }
   },
   "outputs": [
    {
     "name": "stdout",
     "output_type": "stream",
     "text": [
      "I\n",
      " \n",
      "a\n",
      "m\n",
      " \n",
      "a\n",
      " \n",
      "c\n",
      "h\n",
      "i\n",
      "m\n",
      "p\n",
      ".\n",
      " \n",
      "I\n",
      " \n",
      "l\n",
      "o\n",
      "v\n",
      "e\n",
      " \n",
      "p\n",
      "e\n",
      "a\n",
      "n\n",
      "u\n",
      "t\n",
      "s\n",
      ".\n",
      " \n",
      "I\n",
      " \n",
      "h\n",
      "a\n",
      "v\n",
      "e\n",
      " \n",
      "a\n",
      " \n",
      "n\n",
      "e\n",
      "a\n",
      "t\n",
      ",\n",
      " \n",
      "t\n",
      "h\n",
      "o\n",
      "u\n",
      "g\n",
      "h\n",
      " \n",
      "s\n",
      "l\n",
      "i\n",
      "g\n",
      "h\n",
      "t\n",
      "l\n",
      "y\n",
      " \n",
      "o\n",
      "l\n",
      "d\n",
      ",\n",
      " \n",
      "t\n",
      "y\n",
      "p\n",
      "e\n",
      "w\n",
      "r\n",
      "i\n",
      "t\n",
      "e\n",
      "r\n",
      ".\n",
      "a  hm.Ilv ent.Ihv  et huhsihl l,tpwie\n"
     ]
    }
   ],
   "source": [
    "from twisted.python.util import println\n",
    "\n",
    "str_a = \"I am a chimp. I love peanuts. I have a neat, though slightly old, typewriter.\"\n",
    "for char in str_a:\n",
    "    print(char)\n",
    "    \n",
    "print(str_a[2:-2:2])"
   ]
  },
  {
   "cell_type": "markdown",
   "metadata": {
    "pycharm": {
     "name": "#%% md\n"
    }
   },
   "source": [
    "String objects in python actually accept a number of operators you might not expect!\n",
    "\n",
    " - `str_a + str_b` denotes the concatenation of the two strings `str_a` and `str_b`.\n",
    " - `str_a * i` corresponds to the concatenation of `i` copies of the string `str_a`.\n",
    " - `str_a % value` is the basic syntax for string formatting, which we've briefly covered in the first lab."
   ]
  },
  {
   "cell_type": "markdown",
   "metadata": {
    "pycharm": {
     "name": "#%% md\n"
    }
   },
   "source": [
    "### Exercise #1: Again and again\n",
    "\n",
    "Implement two functions, `self_mul(s, n=3)` and `self_add(s, n=3)`, that both take a `str` as argument, and return it concatenated `n` times. The first may only use the multiplication operator `*`, whereas the latter may only use the addition operator `+`.\n",
    "\n",
    "For instance:\n",
    "\n",
    "```\n",
    ">>> self_add(\"Figaro! \", n=3)\n",
    "'Figaro! Figaro! Figaro! '\n",
    ">>> self_mul(\"One! Two! \", n=2)\n",
    "'One! Two! One! Two! '\n",
    ">>> self_add(\"whatever\", n=42) == self_mul(\"whatever\", n=42)\n",
    "True\n",
    "```"
   ]
  },
  {
   "cell_type": "code",
   "execution_count": 28,
   "metadata": {
    "pycharm": {
     "name": "#%%\n"
    }
   },
   "outputs": [],
   "source": [
    "def self_add(s, n=3):\n",
    "    t = \"\"\n",
    "    while n >= 1:\n",
    "        t = t + s\n",
    "        n -= 1\n",
    "    return t\n",
    "\n",
    "def self_mul(s, n=3):\n",
    "    return s*n"
   ]
  },
  {
   "cell_type": "code",
   "execution_count": 29,
   "metadata": {
    "pycharm": {
     "name": "#%%\n"
    }
   },
   "outputs": [
    {
     "name": "stdout",
     "output_type": "stream",
     "text": [
      "Figaro! Figaro! Figaro! \n",
      "One! Two! One! Two! \n",
      "True\n"
     ]
    }
   ],
   "source": [
    "print(self_add(\"Figaro! \", n=3))\n",
    "print(self_mul(\"One! Two! \", n=2))\n",
    "print(self_add(\"whatever\", n=42) == self_mul(\"whatever\", n=42))"
   ]
  },
  {
   "cell_type": "markdown",
   "metadata": {
    "pycharm": {
     "name": "#%% md\n"
    }
   },
   "source": [
    "## Formatting strings\n",
    "\n",
    "One of the neatest features of `str` values in python is the ability to format them: embed the value of some other variable within the string itself.\n",
    "\n",
    "There is a very complete mini-language regarding string formatting, which you can read [here](https://docs.python.org/3/library/string.html#formatstrings)\n",
    "\n",
    "In short, there are three main ways of formatting strings:\n",
    "\n",
    "- Using the modulo operator `%`:"
   ]
  },
  {
   "cell_type": "code",
   "execution_count": 30,
   "metadata": {
    "pycharm": {
     "name": "#%%\n"
    }
   },
   "outputs": [
    {
     "data": {
      "text/plain": "'Hello James, welcome to my evil lair!'"
     },
     "execution_count": 30,
     "metadata": {},
     "output_type": "execute_result"
    }
   ],
   "source": [
    "name = 'James'\n",
    "'Hello %s, welcome to my evil lair!' % name"
   ]
  },
  {
   "cell_type": "markdown",
   "metadata": {
    "pycharm": {
     "name": "#%% md\n"
    }
   },
   "source": [
    " - Using the `str.format()` method:"
   ]
  },
  {
   "cell_type": "code",
   "execution_count": 31,
   "metadata": {
    "pycharm": {
     "name": "#%%\n"
    }
   },
   "outputs": [
    {
     "data": {
      "text/plain": "'My name is Bond, James Bond'"
     },
     "execution_count": 31,
     "metadata": {},
     "output_type": "execute_result"
    }
   ],
   "source": [
    "'My name is {1}, {0} {1}'.format('James', 'Bond')"
   ]
  },
  {
   "cell_type": "markdown",
   "metadata": {
    "pycharm": {
     "name": "#%% md\n"
    }
   },
   "source": [
    "- Referring to existing variables within a format string `f\"...\"`:"
   ]
  },
  {
   "cell_type": "code",
   "execution_count": 32,
   "metadata": {
    "pycharm": {
     "name": "#%%\n"
    }
   },
   "outputs": [
    {
     "name": "stdout",
     "output_type": "stream",
     "text": [
      "I am {age} year old\n",
      "I am 21 year old\n"
     ]
    }
   ],
   "source": [
    "age = 21\n",
    "\n",
    "# compare this:\n",
    "print('I am {age} year old')\n",
    "# with that:\n",
    "print(f'I am {age} year old')"
   ]
  },
  {
   "cell_type": "markdown",
   "metadata": {
    "pycharm": {
     "name": "#%% md\n"
    }
   },
   "source": [
    "Note that this barely scratches the surface! For instance the `str.format()` method also accepts keywords:"
   ]
  },
  {
   "cell_type": "code",
   "execution_count": 33,
   "metadata": {
    "pycharm": {
     "name": "#%%\n"
    }
   },
   "outputs": [
    {
     "name": "stdout",
     "output_type": "stream",
     "text": [
      "My plan, James?\n",
      "I shall destroy Paris using nut-deprived chimps!\n"
     ]
    }
   ],
   "source": [
    "print(\"My plan, {hero}?\".format(hero=name))\n",
    "print(\"I shall destroy {target} using {weapon}!\".format(target=\"Paris\", weapon=\"nut-deprived chimps\"))"
   ]
  },
  {
   "cell_type": "markdown",
   "metadata": {
    "pycharm": {
     "name": "#%% md\n"
    }
   },
   "source": [
    "### Exercise #2: Tell me what you've got\n",
    "\n",
    "Write a function called `dict_contents(d)` that takes as argument a dictionary `d` with `str` keys and `int` values, and lists its contents within a silly message. \"Which silly message\", you ask? Make sure you return the following:\n",
    "\n",
    "```\n",
    ">>> dict_contents({\"chimps\": 42, \"peanuts\": 0})\n",
    "\"As for chimps, I've got 42, sadly. As for peanuts, I've got 0, sadly.\"\n",
    "```"
   ]
  },
  {
   "cell_type": "code",
   "execution_count": 34,
   "metadata": {
    "pycharm": {
     "name": "#%%\n"
    }
   },
   "outputs": [
    {
     "name": "stdout",
     "output_type": "stream",
     "text": [
      "As for chimps, I've got 42, sadly. As for peanuts, I've got 0, sadly.\n"
     ]
    }
   ],
   "source": [
    "def dict_contents(d):\n",
    "    print(\"As for chimps, I've got {chimps}, sadly. As for peanuts, I've got {peanuts}, sadly.\".format(**d))\n",
    "\n",
    "dict_contents({\"chimps\": 42, \"peanuts\": 0})"
   ]
  },
  {
   "cell_type": "markdown",
   "metadata": {
    "pycharm": {
     "name": "#%% md\n"
    }
   },
   "source": [
    "## Split and join\n",
    "\n",
    "Two crucial functions you should know about are `str.join()` and `str.split()`.\n",
    "\n",
    " - `str.join()` links together a series of strings:"
   ]
  },
  {
   "cell_type": "code",
   "execution_count": 35,
   "metadata": {
    "pycharm": {
     "name": "#%%\n"
    }
   },
   "outputs": [
    {
     "name": "stdout",
     "output_type": "stream",
     "text": [
      "A list of bare necessities: peanut, typewriter, peanut (important!), evil plans.\n",
      "Monkeys love peanuts! Heroes like James Bond love peanuts! But evil blokes...\n"
     ]
    }
   ],
   "source": [
    "print(\"A list of bare necessities: %s.\" % \", \".join([\"peanut\", \"typewriter\", \"peanut (important!)\", \"evil plans\"]))\n",
    "\n",
    "print(\" love peanuts! \".join([\"Monkeys\", \"Heroes like James Bond\", \"But evil blokes...\"]))"
   ]
  },
  {
   "cell_type": "markdown",
   "metadata": {
    "pycharm": {
     "name": "#%% md\n"
    }
   },
   "source": [
    " - `str.split()` breaks down a single string into a list of strings"
   ]
  },
  {
   "cell_type": "code",
   "execution_count": 36,
   "metadata": {
    "pycharm": {
     "name": "#%%\n"
    }
   },
   "outputs": [
    {
     "name": "stdout",
     "output_type": "stream",
     "text": [
      "Chimps a\n",
      "e bo\n",
      "n \n",
      "ule\n",
      "s and maste\n",
      "s at eating peanuts!\n",
      "\n",
      "Chimps\n",
      "are\n",
      "born\n",
      "rulers\n",
      "and\n",
      "masters\n",
      "at\n",
      "eating\n",
      "peanuts!\n"
     ]
    }
   ],
   "source": [
    "the_obvious_truth = \"Chimps are born rulers and masters at eating peanuts!\"\n",
    "\n",
    "# when given an argument, we create a new string every time we encounter the argument\n",
    "strings = the_obvious_truth.split(\"r\")\n",
    "for s in strings:\n",
    "    print(s)\n",
    "    \n",
    "# this prints an empty line\n",
    "print() \n",
    "\n",
    "# without argument, we create a new string upon encountering white-spaces\n",
    "strings = the_obvious_truth.split()\n",
    "for s in strings:\n",
    "    print(s)\n",
    "    "
   ]
  },
  {
   "cell_type": "markdown",
   "metadata": {
    "pycharm": {
     "name": "#%% md\n"
    }
   },
   "source": [
    "### Exercise #3: Sifting through many words\n",
    "\n",
    "Implement a function `every_other_word(s)` that splits its argument string on spaces, joins every other item with an underscore and returns this transformed string. For instance:\n",
    "\n",
    "```\n",
    ">>> every_other_word(\"Figaro, that's a man who loves peanuts. But what about Bond? James Bond?\")\n",
    "'Figaro,_a_who_peanuts._what_Bond?_Bond?'\n",
    "```"
   ]
  },
  {
   "cell_type": "code",
   "execution_count": 37,
   "metadata": {
    "pycharm": {
     "name": "#%%\n"
    }
   },
   "outputs": [
    {
     "name": "stdout",
     "output_type": "stream",
     "text": [
      "Figaro,_that's_a_man_who_loves_peanuts._But_what_about_Bond?_James_Bond?\n"
     ]
    }
   ],
   "source": [
    "def every_other_word(string_new):\n",
    "    string_new = string_new.split()\n",
    "    separator = \"_\"\n",
    "    print(separator.join(string_new))\n",
    "\n",
    "every_other_word(\"Figaro, that's a man who loves peanuts. But what about Bond? James Bond?\")"
   ]
  },
  {
   "cell_type": "markdown",
   "metadata": {
    "pycharm": {
     "name": "#%% md\n"
    }
   },
   "source": [
    "## Exercise #4: Special Words\n",
    "\n",
    "For each of the following problems, we describe a criterion that makes a word (or phrase!) special.\n",
    "\n",
    "If you are using macOS or Linux, you should have a dictionary file available at `/usr/share/dict/words`, a 2.5M text file containing over 200 thousand English words, one per line. However, we also mirrored this file [on Arche](https://arche.univ-lorraine.fr/), so you can download the dictionary from there.\n",
    "\n",
    "Write the method `load_english` to load English words from this file. How many English words are there in this file? Using the Arche file, we got 72165 words, after lowercasing them, removing duplicates and checking if they contain ASCII characters only (i.e. we exclude entries that contain apostrophes or accented letters)."
   ]
  },
  {
   "cell_type": "markdown",
   "metadata": {
    "pycharm": {
     "name": "#%% md\n"
    }
   },
   "source": [
    "### Submission instructions\n",
    "\n",
    "Alright, you did it! Enough beers and peanuts for today.\n",
    "\n",
    "You will need to submit the last two exercises (#7 and #8) on Arche before 9:59am on Friday, 7th October (just before our next lab). Submit either a `.py` or an `.ipynb` file containing the functions you wrote for the two exercises and name it `td3_firstname_lastname.py` or `td3_firstname_lastname.ipynb` accordingly, where `firstname` should be your first name and `lastname` should be your last name (e.h. Jane Doe's submission should be called `td3_jane_doe.py` or `td3_jane_doe.ipynb`, depending on whether Jane submitted a Python script or a Jupyter notebook).\n",
    "\n",
    "To evaluate your submission, we will be looking at the following criteria:\n",
    "\n",
    "- Does your code run? (So **run** your program at least once before submitting!)\n",
    "- Does it run correctly? (So **test** your solution with a few different inputs!)\n",
    "- Is your code well-commented?\n",
    "- Is your code well-structured?"
   ]
  },
  {
   "cell_type": "markdown",
   "metadata": {
    "pycharm": {
     "name": "#%% md\n"
    }
   },
   "source": [
    "## Done Early?\n",
    "\n",
    "Have a look at the [`string` module in Python](https://docs.python.org/3/library/string.html). It contains a lot of very useful things, such as lists of ascii characters. Another thing you should look into is the [unicode standard in Python](https://docs.python.org/3/howto/unicode.html)."
   ]
  },
  {
   "cell_type": "markdown",
   "metadata": {
    "pycharm": {
     "name": "#%% md\n"
    }
   },
   "source": [
    "### Other Phrases\n",
    "\n",
    "On Puzzling.StackExchange, the user [JLee](https://puzzling.stackexchange.com/users/463/jlee) has come up with a ton of interesting puzzles of this form (\"I call words that follow a certain rule \"adjective\" words\"). If you like puzzles, optionally read through [these JLee puzzles](https://puzzling.stackexchange.com/search?q=%22I+call+it%22+title%3A%22what+is%22+is%3Aquestion+user%3A463) or [these other puzzles inspired by JLee](https://puzzling.stackexchange.com/search?tab=votes&q=%22what%20is%20a%22%20word%20is%3aquestion)."
   ]
  },
  {
   "cell_type": "markdown",
   "metadata": {
    "pycharm": {
     "name": "#%% md\n"
    }
   },
   "source": [
    "> With <3, by @sredmond\n",
    "\n",
    "> With peanuts, monkeys and spies, by tmickus"
   ]
  }
 ],
 "metadata": {
  "kernelspec": {
   "display_name": "Python 3 (ipykernel)",
   "language": "python",
   "name": "python3"
  },
  "language_info": {
   "codemirror_mode": {
    "name": "ipython",
    "version": 3
   },
   "file_extension": ".py",
   "mimetype": "text/x-python",
   "name": "python",
   "nbconvert_exporter": "python",
   "pygments_lexer": "ipython3",
   "version": "3.8.10"
  }
 },
 "nbformat": 4,
 "nbformat_minor": 4
}