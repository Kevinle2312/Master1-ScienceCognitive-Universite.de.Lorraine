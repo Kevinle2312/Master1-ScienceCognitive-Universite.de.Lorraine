{
 "cells": [
  {
   "cell_type": "markdown",
   "metadata": {
    "pycharm": {
     "name": "#%% md\n"
    }
   },
   "source": [
    "# Lab 3: Strings"
   ]
  },
  {
   "cell_type": "markdown",
   "metadata": {
    "pycharm": {
     "name": "#%% md\n"
    }
   },
   "source": [
    "## Overview\n",
    "\n",
    "Welcome to your third lab! The goal for today is to familiarize you with strings (or more precisely in python, `str`). Manipulating textual data is a frequent operation in day-to-day proramming &mdash; even more so for us in NLP.\n",
    "\n",
    "As usual, you will have to submit two exercises. You will find them and the submission instructions at the end of this notebook."
   ]
  },
  {
   "cell_type": "markdown",
   "metadata": {
    "pycharm": {
     "name": "#%% md\n"
    }
   },
   "source": [
    "## What's in a string?\n",
    "\n",
    "Strings are inherently an ordered sequence of characters. Which is why you can iterate over a string using a for-loop, or retrieve specific characters using a slice. \n",
    "\n",
    "Before executing the next cell, have a guess at what the output will produce!"
   ]
  },
  {
   "cell_type": "code",
   "execution_count": 1,
   "metadata": {
    "tags": [],
    "pycharm": {
     "name": "#%%\n"
    }
   },
   "outputs": [
    {
     "name": "stdout",
     "output_type": "stream",
     "text": [
      "I\n",
      " \n",
      "a\n",
      "m\n",
      " \n",
      "a\n",
      " \n",
      "c\n",
      "h\n",
      "i\n",
      "m\n",
      "p\n",
      ".\n",
      " \n",
      "I\n",
      " \n",
      "l\n",
      "o\n",
      "v\n",
      "e\n",
      " \n",
      "p\n",
      "e\n",
      "a\n",
      "n\n",
      "u\n",
      "t\n",
      "s\n",
      ".\n",
      " \n",
      "I\n",
      " \n",
      "h\n",
      "a\n",
      "v\n",
      "e\n",
      " \n",
      "a\n",
      " \n",
      "n\n",
      "e\n",
      "a\n",
      "t\n",
      ",\n",
      " \n",
      "t\n",
      "h\n",
      "o\n",
      "u\n",
      "g\n",
      "h\n",
      " \n",
      "s\n",
      "l\n",
      "i\n",
      "g\n",
      "h\n",
      "t\n",
      "l\n",
      "y\n",
      " \n",
      "o\n",
      "l\n",
      "d\n",
      ",\n",
      " \n",
      "t\n",
      "y\n",
      "p\n",
      "e\n",
      "w\n",
      "r\n",
      "i\n",
      "t\n",
      "e\n",
      "r\n",
      ".\n",
      "a  hm.Ilv ent.Ihv  et huhsihl l,tpwie\n"
     ]
    }
   ],
   "source": [
    "str_a = \"I am a chimp. I love peanuts. I have a neat, though slightly old, typewriter.\"\n",
    "for char in str_a:\n",
    "    print(char)\n",
    "    \n",
    "print(str_a[2:-2:2])"
   ]
  },
  {
   "cell_type": "markdown",
   "metadata": {
    "pycharm": {
     "name": "#%% md\n"
    }
   },
   "source": [
    "String objects in python actually accept a number of operators you might not expect!\n",
    "\n",
    " - `str_a + str_b` denotes the concatenation of the two strings `str_a` and `str_b`.\n",
    " - `str_a * i` corresponds to the concatenation of `i` copies of the string `str_a`.\n",
    " - `str_a % value` is the basic syntax for string formatting, which we've briefly covered in the first lab."
   ]
  },
  {
   "cell_type": "markdown",
   "metadata": {
    "pycharm": {
     "name": "#%% md\n"
    }
   },
   "source": [
    "### Exercise #1: Again and again\n",
    "\n",
    "Implement two functions, `self_mul(s, n=3)` and `self_add(s, n=3)`, that both take a `str` as argument, and return it concatenated `n` times. The first may only use the multiplication operator `*`, whereas the latter may only use the addition operator `+`.\n",
    "\n",
    "For instance:\n",
    "\n",
    "```\n",
    ">>> self_add(\"Figaro! \", n=3)\n",
    "'Figaro! Figaro! Figaro! '\n",
    ">>> self_mul(\"One! Two! \", n=2)\n",
    "'One! Two! One! Two! '\n",
    ">>> self_add(\"whatever\", n=42) == self_mul(\"whatever\", n=42)\n",
    "True\n",
    "```"
   ]
  },
  {
   "cell_type": "code",
   "execution_count": 2,
   "metadata": {
    "pycharm": {
     "name": "#%%\n"
    }
   },
   "outputs": [],
   "source": [
    "def self_add(s: str, n:int = 3) -> str:\n",
    "    result = \"\"\n",
    "    for _ in range(n):\n",
    "        result += s\n",
    "    return result\n",
    "\n",
    "def self_mul(s: str, n: int = 3) -> str:\n",
    "    return s * n"
   ]
  },
  {
   "cell_type": "code",
   "execution_count": 3,
   "metadata": {
    "pycharm": {
     "name": "#%%\n"
    }
   },
   "outputs": [
    {
     "name": "stdout",
     "output_type": "stream",
     "text": [
      "Figaro! Figaro! Figaro! \n",
      "One! Two! One! Two! \n",
      "True\n"
     ]
    }
   ],
   "source": [
    "print(self_add(\"Figaro! \", n=3))\n",
    "print(self_mul(\"One! Two! \", n=2))\n",
    "print(self_add(\"whatever\", n=42) == self_mul(\"whatever\", n=42))"
   ]
  },
  {
   "cell_type": "markdown",
   "metadata": {
    "pycharm": {
     "name": "#%% md\n"
    }
   },
   "source": [
    "## Formatting strings\n",
    "\n",
    "One of the neatest features of `str` values in python is the ability to format them: embed the value of some other variable within the string itself.\n",
    "\n",
    "There is a very complete mini-language regarding string formatting, which you can read [here](https://docs.python.org/3/library/string.html#formatstrings)\n",
    "\n",
    "In short, there are three main ways of formatting strings:\n",
    "\n",
    "- Using the modulo operator `%`:"
   ]
  },
  {
   "cell_type": "code",
   "execution_count": 4,
   "metadata": {
    "pycharm": {
     "name": "#%%\n"
    }
   },
   "outputs": [
    {
     "data": {
      "text/plain": [
       "'Hello James, welcome to my evil lair!'"
      ]
     },
     "execution_count": 4,
     "metadata": {},
     "output_type": "execute_result"
    }
   ],
   "source": [
    "name = 'James'\n",
    "'Hello %s, welcome to my evil lair!' % name"
   ]
  },
  {
   "cell_type": "markdown",
   "metadata": {
    "pycharm": {
     "name": "#%% md\n"
    }
   },
   "source": [
    " - Using the `str.format()` method:"
   ]
  },
  {
   "cell_type": "code",
   "execution_count": 5,
   "metadata": {
    "pycharm": {
     "name": "#%%\n"
    }
   },
   "outputs": [
    {
     "data": {
      "text/plain": [
       "'My name is Bond, James Bond'"
      ]
     },
     "execution_count": 5,
     "metadata": {},
     "output_type": "execute_result"
    }
   ],
   "source": [
    "'My name is {1}, {0} {1}'.format('James', 'Bond')"
   ]
  },
  {
   "cell_type": "markdown",
   "metadata": {
    "pycharm": {
     "name": "#%% md\n"
    }
   },
   "source": [
    "- Referring to existing variables within a format string `f\"...\"`:"
   ]
  },
  {
   "cell_type": "code",
   "execution_count": 6,
   "metadata": {
    "pycharm": {
     "name": "#%%\n"
    }
   },
   "outputs": [
    {
     "name": "stdout",
     "output_type": "stream",
     "text": [
      "I am {age} year old\n",
      "I am 21 year old\n"
     ]
    }
   ],
   "source": [
    "age = 21\n",
    "\n",
    "# compare this:\n",
    "print('I am {age} year old')\n",
    "# with that:\n",
    "print(f'I am {age} year old')"
   ]
  },
  {
   "cell_type": "markdown",
   "metadata": {
    "pycharm": {
     "name": "#%% md\n"
    }
   },
   "source": [
    "Note that this barely scratches the surface! For instance the `str.format()` method also accepts keywords:"
   ]
  },
  {
   "cell_type": "code",
   "execution_count": 7,
   "metadata": {
    "pycharm": {
     "name": "#%%\n"
    }
   },
   "outputs": [
    {
     "name": "stdout",
     "output_type": "stream",
     "text": [
      "My plan, James?\n",
      "I shall destroy Paris using nut-deprived chimps!\n"
     ]
    }
   ],
   "source": [
    "print(\"My plan, {hero}?\".format(hero=name))\n",
    "print(\"I shall destroy {target} using {weapon}!\".format(target=\"Paris\", weapon=\"nut-deprived chimps\"))"
   ]
  },
  {
   "cell_type": "markdown",
   "metadata": {
    "pycharm": {
     "name": "#%% md\n"
    }
   },
   "source": [
    "### Exercise #2: Tell me what you've got\n",
    "\n",
    "Write a function called `dict_contents(d)` that takes as argument a dictionary `d` with `str` keys and `int` values, and lists its contents within a silly message. \"Which silly message\", you ask? Make sure you return the following:\n",
    "\n",
    "```\n",
    ">>> dict_contents({\"chimps\": 42, \"peanuts\": 0})\n",
    "\"As for chimps, I've got 42, sadly. As for peanuts, I've got 0, sadly.\"\n",
    "```"
   ]
  },
  {
   "cell_type": "code",
   "execution_count": 8,
   "metadata": {
    "pycharm": {
     "name": "#%%\n"
    }
   },
   "outputs": [
    {
     "data": {
      "text/plain": [
       "\"As for chimps, I've got 42, sadly. As for peanuts, I've got 0, sadly.\""
      ]
     },
     "execution_count": 8,
     "metadata": {},
     "output_type": "execute_result"
    }
   ],
   "source": [
    "import typing\n",
    "# write your code here\n",
    "def dict_contents(d: typing.Dict[str, int]):\n",
    "    return \" \".join(\"As for {0}, I've got {1}, sadly.\".format(k, v) for k, v in d.items())\n",
    "dict_contents({\"chimps\": 42, \"peanuts\": 0})"
   ]
  },
  {
   "cell_type": "markdown",
   "metadata": {
    "pycharm": {
     "name": "#%% md\n"
    }
   },
   "source": [
    "## Split and join\n",
    "\n",
    "Two crucial functions you should know about are `str.join()` and `str.split()`.\n",
    "\n",
    " - `str.join()` links together a series of strings:"
   ]
  },
  {
   "cell_type": "code",
   "execution_count": 9,
   "metadata": {
    "pycharm": {
     "name": "#%%\n"
    }
   },
   "outputs": [
    {
     "name": "stdout",
     "output_type": "stream",
     "text": [
      "A list of bare necessities: peanut, typewriter, peanut (important!), evil plans.\n",
      "Monkeys love peanuts! Heroes like James Bond love peanuts! But evil blokes...\n"
     ]
    }
   ],
   "source": [
    "print(\"A list of bare necessities: %s.\" % \", \".join([\"peanut\", \"typewriter\", \"peanut (important!)\", \"evil plans\"]))\n",
    "\n",
    "print(\" love peanuts! \".join([\"Monkeys\", \"Heroes like James Bond\", \"But evil blokes...\"]))"
   ]
  },
  {
   "cell_type": "markdown",
   "metadata": {
    "pycharm": {
     "name": "#%% md\n"
    }
   },
   "source": [
    " - `str.split()` breaks down a single string into a list of strings"
   ]
  },
  {
   "cell_type": "code",
   "execution_count": 10,
   "metadata": {
    "pycharm": {
     "name": "#%%\n"
    }
   },
   "outputs": [
    {
     "name": "stdout",
     "output_type": "stream",
     "text": [
      "Chimps a\n",
      "e bo\n",
      "n \n",
      "ule\n",
      "s and maste\n",
      "s at eating peanuts!\n",
      "\n",
      "Chimps\n",
      "are\n",
      "born\n",
      "rulers\n",
      "and\n",
      "masters\n",
      "at\n",
      "eating\n",
      "peanuts!\n"
     ]
    }
   ],
   "source": [
    "the_obvious_truth = \"Chimps are born rulers and masters at eating peanuts!\"\n",
    "\n",
    "# when given an argument, we create a new string every time we encounter the argument\n",
    "strings = the_obvious_truth.split(\"r\")\n",
    "for s in strings:\n",
    "    print(s)\n",
    "    \n",
    "# this prints an empty line\n",
    "print() \n",
    "\n",
    "# without argument, we create a new string upon encountering white-spaces\n",
    "strings = the_obvious_truth.split()\n",
    "for s in strings:\n",
    "    print(s)\n",
    "    "
   ]
  },
  {
   "cell_type": "markdown",
   "metadata": {
    "pycharm": {
     "name": "#%% md\n"
    }
   },
   "source": [
    "### Exercise #3: Sifting through many words\n",
    "\n",
    "Implement a function `every_other_word(s)` that splits its argument string on spaces, joins every other item with an underscore and returns this transformed string. For instance:\n",
    "\n",
    "```\n",
    ">>> every_other_word(\"Figaro, that's a man who loves peanuts. But what about Bond? James Bond?\")\n",
    "'Figaro,_a_who_peanuts._what_Bond?_Bond?'\n",
    "```"
   ]
  },
  {
   "cell_type": "code",
   "execution_count": 11,
   "metadata": {
    "pycharm": {
     "name": "#%%\n"
    }
   },
   "outputs": [
    {
     "name": "stdout",
     "output_type": "stream",
     "text": [
      "Figaro,_a_who_peanuts._what_Bond?_Bond?\n"
     ]
    }
   ],
   "source": [
    "def every_other_word(s: str) -> str:\n",
    "    return \"_\".join(s.split()[::2])\n",
    "print(every_other_word(\"Figaro, that's a man who loves peanuts. But what about Bond? James Bond?\"))"
   ]
  },
  {
   "cell_type": "markdown",
   "metadata": {
    "pycharm": {
     "name": "#%% md\n"
    }
   },
   "source": [
    "## Exercise #4: Special Words\n",
    "\n",
    "For each of the following problems, we describe a criterion that makes a word (or phrase!) special.\n",
    "\n",
    "If you are using macOS or Linux, you should have a dictionary file available at `/usr/share/dict/words`, a 2.5M text file containing over 200 thousand English words, one per line. However, we also mirrored this file [on Arche](https://arche.univ-lorraine.fr/), so you can download the dictionary from there.\n",
    "\n",
    "Write the method `load_english` to load English words from this file. How many English words are there in this file? Using the Arche file, we got 72165 words, after lowercasing them, removing duplicates and checking if they contain ASCII characters only (i.e. we exclude entries that contain apostrophes or accented letters)."
   ]
  },
  {
   "cell_type": "code",
   "execution_count": 1,
   "metadata": {
    "pycharm": {
     "name": "#%%\n"
    }
   },
   "outputs": [
    {
     "name": "stdout",
     "output_type": "stream",
     "text": [
      "72165\n"
     ]
    }
   ],
   "source": [
    "# If you downloaded words from the course website,\n",
    "# change me to the path to the downloaded file.\n",
    "_DICTIONARY_FILE = '/usr/share/dict/words'\n",
    "\n",
    "import string\n",
    "import typing\n",
    "\n",
    "def load_english() -> typing.Set:\n",
    "    \"\"\"Load and return a collection of english words from a file.\"\"\"\n",
    "#     with open(\"./words\") as istr:\n",
    "    with open(_DICTIONARY_FILE, 'r') as istr:\n",
    "        # keep only words that contair ascii characters, lowercase them, remove duplicates\n",
    "        data = {\n",
    "            l.strip().lower() \n",
    "            for l in istr \n",
    "            if all(ch in string.ascii_lowercase for ch in l.strip().lower())\n",
    "        }\n",
    "    return data\n",
    "\n",
    "english = load_english()\n",
    "print(len(english))"
   ]
  },
  {
   "cell_type": "markdown",
   "metadata": {
    "pycharm": {
     "name": "#%% md\n"
    }
   },
   "source": [
    "### Exercise #5: Cyclone Phrases\n",
    "\n",
    "Cyclone words are words that have a sequence of characters in alphabetical order when following a cyclic pattern. \n",
    "\n",
    "For example:\n",
    "\n",
    "![Cyclone Phrases](http://i.stack.imgur.com/4XBV3.png)\n",
    "\n",
    "Write a function to determine whether an entire phrase passed into a function is made of cyclone words. You can assume that all words are made of only alphabetic characters, and are separated by whitespace.\n",
    "\n",
    "```python\n",
    "is_cyclone_phrase(\"adjourned\") # => True\n",
    "is_cyclone_phrase(\"settled\") # => False\n",
    "is_cyclone_phrase(\"all alone at noon\") # => True\n",
    "is_cyclone_phrase(\"by myself at twelve pm\") # => False\n",
    "is_cyclone_phrase(\"acb\") # => True\n",
    "is_cyclone_phrase(\"\") # => True\n",
    "```\n",
    "\n",
    "Write a set of instructions to generate a list of all cyclone words. Assign this list to a variable called `all_cyclone_words`. How many are there? As a sanity check, we found 441 distinct cyclone words.\n",
    "\n",
    "*NB: we obtained the answers above using the dictionary on Arche or if the number of words you keep after applying `load_english()` is the same as ours. If your number is different or you are using another dictionary, your answers may differ.*\n",
    "\n",
    "You can uncomment the `print()` statement at the bottom once you have finished to see if your functions return the expected result."
   ]
  },
  {
   "cell_type": "code",
   "execution_count": 16,
   "metadata": {
    "pycharm": {
     "name": "#%%\n"
    }
   },
   "outputs": [
    {
     "name": "stdout",
     "output_type": "stream",
     "text": [
      "True False True False True True\n"
     ]
    }
   ],
   "source": [
    "def is_cyclone_word(word: str) -> bool:\n",
    "    \"\"\"Return whether a word is a cyclone word.\"\"\"\n",
    "    # split word into two where alternating letters form each part\n",
    "    forwards, backwards = word[:len(word) // 2 + 1], word[::-1][:len(word) // 2 + 1]\n",
    "    # check if cyclone property is kept in both directions\n",
    "    forwards_ok = all(ord(ch1) <= ord(ch2) for ch1, ch2 in zip(forwards, backwards[:-1]))\n",
    "    backwards_ok = all(ord(ch2) <= ord(ch1) for ch1, ch2 in zip(forwards[1:], backwards))\n",
    "    return forwards_ok and backwards_ok\n",
    "    \n",
    "    \n",
    "def is_cyclone_phrase(phrase: str) -> bool:\n",
    "    \"\"\"Return whether a phrase is composed only of cyclone words.\"\"\"\n",
    "    return all(is_cyclone_word(w) for w in phrase.split())\n",
    "\n",
    "print(\n",
    "   is_cyclone_phrase(\"adjourned\"), # => True\n",
    "   is_cyclone_phrase(\"settled\"), # => False\n",
    "   is_cyclone_phrase(\"all alone at noon\"), # => True\n",
    "   is_cyclone_phrase(\"by myself at twelve pm\"), # => False\n",
    "   is_cyclone_phrase(\"acb\"), # => True\n",
    "   is_cyclone_phrase(\"\") # => True\n",
    ")"
   ]
  },
  {
   "cell_type": "code",
   "execution_count": 17,
   "metadata": {
    "pycharm": {
     "name": "#%%\n"
    }
   },
   "outputs": [
    {
     "name": "stdout",
     "output_type": "stream",
     "text": [
      "441\n"
     ]
    }
   ],
   "source": [
    "all_cyclone_words = [w for w in english if is_cyclone_word(w)]\n",
    "print(len(all_cyclone_words))"
   ]
  },
  {
   "cell_type": "markdown",
   "metadata": {
    "tags": [],
    "pycharm": {
     "name": "#%% md\n"
    }
   },
   "source": [
    "### Exercise #6: Triangle Words\n",
    "The nth term of the sequence of triangle numbers is given by 1 + 2 + ... + n = n(n+1) / 2. For example, the first ten triangle numbers are: `1, 3, 6, 10, 15, 21, 28, 36, 45, 55, ...`\n",
    "\n",
    "By converting each letter in a word to a number corresponding to its alphabetical position (`A=1`, `B=2`, etc) and adding these values we form a word value. For example, the word value for SKY is `19 + 11 + 25 = 55` and 55 is a triangle number. If the word value is a triangle number then we shall call the word a triangle word.\n",
    "\n",
    "Write a set of instructions to generate a list of all triangle words. Assign this list to a variable called `all_triangle_words`. How many are there? As a sanity check, we found 5432 distinct triangle words.\n",
    "\n",
    "*NB: we obtained the answers above using the dictionary on Arche or if the number of words you keep after applying `load_english()` is the same as ours. If your number is different or you are using another dictionary, your answers may differ.*\n",
    "\n",
    "*Hint: you can use `ord(ch)` to get the integer ASCII value of a character. You can also use a dictionary to accomplish this!*"
   ]
  },
  {
   "cell_type": "code",
   "execution_count": 18,
   "metadata": {
    "pycharm": {
     "name": "#%%\n"
    }
   },
   "outputs": [],
   "source": [
    "import typing\n",
    "# we will be storing known triangle numbers in a set variable called `_cache_tri_nums`.\n",
    "# we will ensure that all triangular numbers up to N are stored in it, so that we can\n",
    "# test for any sum of alphabetical positions <= N whether it is a triangle number by\n",
    "# simply looking it up in this set.\n",
    "_cache_tri_nums: typing.Set = {1}\n",
    "# we need to keep track of how to get the next triangle number from the current one,\n",
    "# so we start with 1, and we'll just count up from there to get the next triangle \n",
    "# number.\n",
    "_cur_max_tri_base: int = 1\n",
    "\n",
    "def _feed_cache_up_to(n: int):\n",
    "    \"\"\"This function computes triangle numbers and stores them in `_cache_tri_nums`.\"\"\"\n",
    "    # mention the scope of the global variables\n",
    "    global _cache_tri_nums, _cur_max_tri_base\n",
    "    \n",
    "    # if any triangle number is greater than n, then our job is done\n",
    "    if any(tri_num  >= n for tri_num in _cache_tri_nums):\n",
    "        return\n",
    "    # otherwise, we start our computations from where we previous left off\n",
    "    max_tri_num = max(_cache_tri_nums)\n",
    "    while max_tri_num < n:\n",
    "        # we take the next integer\n",
    "        _cur_max_tri_base += 1\n",
    "        # we add it to the current largest triangle number to get the next one\n",
    "        max_tri_num += _cur_max_tri_base\n",
    "        # we store it in our cache.\n",
    "        _cache_tri_nums.add(max_tri_num)\n",
    "        \n",
    "def is_triangle_word(word: str) -> bool:\n",
    "    \"\"\"Return whether a word is a triangle word.\"\"\"\n",
    "    # we want to make sure that 'a' maps to position 1, so we need to compute an \n",
    "    # offset from the ordinal value of the character (which would be 97 otherwise)\n",
    "    offset = ord('a') - 1\n",
    "    # we sum the character ordinals minus the offset,\n",
    "    chsum = sum(ord(ch) - offset for ch in word.lower())\n",
    "    # we make sure we have computed triangular numbers at least up to the sum we're \n",
    "    # interested in\n",
    "    _feed_cache_up_to(chsum)\n",
    "    # we look up whether the sum is a triangle number\n",
    "    return chsum in _cache_tri_nums"
   ]
  },
  {
   "cell_type": "code",
   "execution_count": 19,
   "metadata": {
    "pycharm": {
     "name": "#%%\n"
    }
   },
   "outputs": [
    {
     "name": "stdout",
     "output_type": "stream",
     "text": [
      "5432\n"
     ]
    }
   ],
   "source": [
    "all_triangle_words: list = [w for w in english if is_triangle_word(w)]\n",
    "print(len(all_triangle_words))"
   ]
  },
  {
   "cell_type": "markdown",
   "metadata": {
    "pycharm": {
     "name": "#%% md\n"
    }
   },
   "source": [
    "# Assignment Exercises"
   ]
  },
  {
   "cell_type": "markdown",
   "metadata": {
    "pycharm": {
     "name": "#%% md\n"
    }
   },
   "source": [
    "### Exercise #7: Triad Phrases\n",
    "\n",
    "Triad words are English words for which the two smaller strings you make by extracting alternating letters both form valid words.\n",
    "\n",
    "For example:\n",
    "\n",
    "![Triad Phrases](http://i.imgur.com/jGEXJWi.png)\n",
    "\n",
    "Write a function to determine whether an entire phrase passed into a function is made of triad words. You can assume that all words are made of only alphabetic characters, and are separated by whitespace. We will consider the empty string to be an invalid English word.\n",
    "\n",
    "```python\n",
    "is_triad_phrase(\"learned theorem\") # => True\n",
    "is_triad_phrase(\"studied theories\") # => False\n",
    "is_triad_phrase(\"wooded agrarians\") # => False\n",
    "is_triad_phrase(\"forrested farmers\") # => False\n",
    "is_triad_phrase(\"schooled oriole\") # => True\n",
    "is_triad_phrase(\"educated small bird\") # => False\n",
    "is_triad_phrase(\"a\") # => False\n",
    "is_triad_phrase(\"\") # => False\n",
    "```\n",
    "\n",
    "Write a set of instructions to generate a list of all triad words. Assign this list to a variable called `all_triad_words`. How many are there? We found 1041 distinct triad words (case-insensitive).\n",
    "\n",
    "*NB: we obtained the answers above using the dictionary on Arche or if the number of words you keep after applying `load_english()` is the same as ours. If your number is different or you are using another dictionary, your answers may differ.*\n",
    "\n",
    "You can uncomment the `print()` statement at the bottom once you have finished to see if your functions return the expected result."
   ]
  },
  {
   "cell_type": "code",
   "execution_count": 4,
   "metadata": {
    "pycharm": {
     "name": "#%%\n"
    }
   },
   "outputs": [
    {
     "name": "stdout",
     "output_type": "stream",
     "text": [
      "True False False False True False False False True\n"
     ]
    }
   ],
   "source": [
    "def is_triad_word(word: str, english: typing.Set = english) -> bool:\n",
    "    \"\"\"Return whether a word is a triad word.\"\"\"\n",
    "    return word[::2] in english and word[1::2] in english\n",
    "    \n",
    "def is_triad_phrase(phrase: str, english: typing.Set = english) -> bool:\n",
    "    \"\"\"Return whether a phrase is composed of only triad words.\"\"\"\n",
    "    if not len(phrase): # empty string is False\n",
    "        return False\n",
    "    words = phrase.split()\n",
    "#     if len(words) < 2:\n",
    "#         return False\n",
    "    # return True only if all words in phrase are triad words\n",
    "    return all(is_triad_word(w) for w in words)\n",
    "\n",
    "print(\n",
    "   is_triad_phrase(\"learned theorem\"), # => True\n",
    "   is_triad_phrase(\"studied theories\"), # => False\n",
    "   is_triad_phrase(\"wooded agrarians\"), # => False\n",
    "   is_triad_phrase(\"forrested farmers\"), # => False\n",
    "   is_triad_phrase(\"schooled oriole\"), # => True\n",
    "   is_triad_phrase(\"educated small bird\"), # => False\n",
    "   is_triad_phrase(\"a\"), # => False\n",
    "   is_triad_phrase(\"\"), # => False\n",
    "   is_triad_phrase(\"learned\") # => True\n",
    ")"
   ]
  },
  {
   "cell_type": "code",
   "execution_count": 21,
   "metadata": {
    "pycharm": {
     "name": "#%%\n"
    }
   },
   "outputs": [
    {
     "name": "stdout",
     "output_type": "stream",
     "text": [
      "1041\n"
     ]
    }
   ],
   "source": [
    "all_triad_words = [w for w in english if is_triad_word(w)]\n",
    "print(len(all_triad_words))"
   ]
  },
  {
   "cell_type": "markdown",
   "metadata": {
    "pycharm": {
     "name": "#%% md\n"
    }
   },
   "source": [
    "### Exercise #8: Surpassing Phrases\n",
    "\n",
    "Surpassing words are words for which the gap between each adjacent pair of letters **strictly** increases. These gaps are computed without \"wrapping around\" from Z to A.\n",
    "\n",
    "For example:\n",
    "\n",
    "![Surpassing Phrases](http://i.imgur.com/XKiCnUc.png)\n",
    "\n",
    "Write a function to determine whether an entire phrase passed into a function is made of surpassing words. You can assume that all words are made of only alphabetic characters, and are separated by whitespace. We will consider the empty string and a 1-character string to be valid surpassing phrases.\n",
    "\n",
    "```python\n",
    "is_surpassing_phrase(\"superb subway\") # => True\n",
    "is_surpassing_phrase(\"excellent train\") # => False\n",
    "is_surpassing_phrase(\"porky hogs\") # => True\n",
    "is_surpassing_phrase(\"plump pigs\") # => False\n",
    "is_surpassing_phrase(\"turnip fields\") # => True\n",
    "is_surpassing_phrase(\"root vegetable lands\") # => False\n",
    "is_surpassing_phrase(\"a\") # => True\n",
    "is_surpassing_phrase(\"\") # => True\n",
    "```\n",
    "\n",
    "We've provided a `character_gap` function that returns the gap between two characters. To understand how it works, you should first learn about the Python functions `ord` (one-character string to integer ordinal) and `chr` (integer ordinal to one-character string). For example:\n",
    "\n",
    "```python\n",
    "ord('a') # => 97\n",
    "chr(97) # => 'a'\n",
    "```\n",
    "\n",
    "So, in order to find the gap between `G` and `E`, we compute `abs(ord('G') - ord('E'))`, where `abs` returns the absolute value of its argument.\n",
    "\n",
    "Write a set of instructions to generate a list of all surpassing words. Assign this list to a variable called `all_surpassing_words`. How many are there? We found 1150 distinct surpassing words.\n",
    "\n",
    "*NB: we obtained the answers above using the dictionary on Arche or if the number of words you keep after applying `load_english()` is the same as ours. If your number is different or you are using another dictionary, your answers may differ.*\n",
    "\n",
    "You can uncomment the `print()` statement at the bottom once you have finished to see if your functions return the expected result."
   ]
  },
  {
   "cell_type": "code",
   "execution_count": 16,
   "metadata": {
    "pycharm": {
     "name": "#%%\n"
    }
   },
   "outputs": [
    {
     "name": "stdout",
     "output_type": "stream",
     "text": [
      "True False True False True False True True\n"
     ]
    }
   ],
   "source": [
    "def character_gap(ch1: str, ch2: str) -> int:\n",
    "    \"\"\"Return the absolute gap between two characters.\"\"\"\n",
    "    return abs(ord(ch1) - ord(ch2))\n",
    "\n",
    "def is_surpassing_word(word: str) -> bool:\n",
    "    \"\"\"Return whether a word is surpassing.\"\"\"\n",
    "    # check the gap for each pair of consecutive characters\n",
    "    gaps = [character_gap(ch1, ch2) for ch1, ch2 in zip(word, word[1:])]\n",
    "    # return true only if the gaps are strictly increasing\n",
    "    return all(g1 < g2 for g1, g2 in zip(gaps, gaps[1:]))\n",
    "\n",
    "def is_surpassing_phrase(phrase: str) -> bool:\n",
    "    \"\"\"Return whether a phrase is surpassing.\"\"\"\n",
    "    if len(phrase) < 2:\n",
    "        return True\n",
    "    return all(is_surpassing_word(w) for w in phrase.split())\n",
    "\n",
    "print(\n",
    "   is_surpassing_phrase(\"superb subway\"), # => True\n",
    "   is_surpassing_phrase(\"excellent train\"), # => False\n",
    "   is_surpassing_phrase(\"porky hogs\"), # => True\n",
    "   is_surpassing_phrase(\"plump pigs\"), # => False\n",
    "   is_surpassing_phrase(\"turnip fields\"), # => True\n",
    "   is_surpassing_phrase(\"root vegetable lands\"), # => False\n",
    "   is_surpassing_phrase(\"a\"), # => True\n",
    "   is_surpassing_phrase(\"\"), # => True\n",
    ")"
   ]
  },
  {
   "cell_type": "code",
   "execution_count": null,
   "metadata": {
    "pycharm": {
     "name": "#%%\n"
    }
   },
   "outputs": [
    {
     "name": "stdout",
     "output_type": "stream",
     "text": [
      "1150\n"
     ]
    }
   ],
   "source": [
    "all_surpassing_words = [w for w in english if is_surpassing_word(w)]\n",
    "print(len(all_surpassing_words))"
   ]
  },
  {
   "cell_type": "markdown",
   "metadata": {
    "pycharm": {
     "name": "#%% md\n"
    }
   },
   "source": [
    "### Submission instructions\n",
    "\n",
    "Alright, you did it! Enough beers and peanuts for today.\n",
    "\n",
    "You will need to submit the last two exercises (#7 and #8) on Arche before 9:59am on Friday, 7th October (just before our next lab). Submit either a `.py` or an `.ipynb` file containing the functions you wrote for the two exercises and name it `td3_firstname_lastname.py` or `td3_firstname_lastname.ipynb` accordingly, where `firstname` should be your first name and `lastname` should be your last name (e.h. Jane Doe's submission should be called `td3_jane_doe.py` or `td3_jane_doe.ipynb`, depending on whether Jane submitted a Python script or a Jupyter notebook).\n",
    "\n",
    "To evaluate your submission, we will be looking at the following criteria:\n",
    "\n",
    "- Does your code run? (So **run** your program at least once before submitting!)\n",
    "- Does it run correctly? (So **test** your solution with a few different inputs!)\n",
    "- Is your code well-commented?\n",
    "- Is your code well-structured?"
   ]
  },
  {
   "cell_type": "markdown",
   "metadata": {
    "pycharm": {
     "name": "#%% md\n"
    }
   },
   "source": [
    "## Done Early?\n",
    "\n",
    "Have a look at the [`string` module in Python](https://docs.python.org/3/library/string.html). It contains a lot of very useful things, such as lists of ascii characters. Another thing you should look into is the [unicode standard in Python](https://docs.python.org/3/howto/unicode.html)."
   ]
  },
  {
   "cell_type": "markdown",
   "metadata": {
    "pycharm": {
     "name": "#%% md\n"
    }
   },
   "source": [
    "### Other Phrases\n",
    "\n",
    "On Puzzling.StackExchange, the user [JLee](https://puzzling.stackexchange.com/users/463/jlee) has come up with a ton of interesting puzzles of this form (\"I call words that follow a certain rule \"adjective\" words\"). If you like puzzles, optionally read through [these JLee puzzles](https://puzzling.stackexchange.com/search?q=%22I+call+it%22+title%3A%22what+is%22+is%3Aquestion+user%3A463) or [these other puzzles inspired by JLee](https://puzzling.stackexchange.com/search?tab=votes&q=%22what%20is%20a%22%20word%20is%3aquestion)."
   ]
  },
  {
   "cell_type": "markdown",
   "metadata": {
    "pycharm": {
     "name": "#%% md\n"
    }
   },
   "source": [
    "> With <3, by @sredmond\n",
    "\n",
    "> With peanuts, monkeys and spies, by tmickus"
   ]
  }
 ],
 "metadata": {
  "kernelspec": {
   "display_name": "Python 3 (ipykernel)",
   "language": "python",
   "name": "python3"
  },
  "language_info": {
   "codemirror_mode": {
    "name": "ipython",
    "version": 3
   },
   "file_extension": ".py",
   "mimetype": "text/x-python",
   "name": "python",
   "nbconvert_exporter": "python",
   "pygments_lexer": "ipython3",
   "version": "3.8.10"
  }
 },
 "nbformat": 4,
 "nbformat_minor": 4
}