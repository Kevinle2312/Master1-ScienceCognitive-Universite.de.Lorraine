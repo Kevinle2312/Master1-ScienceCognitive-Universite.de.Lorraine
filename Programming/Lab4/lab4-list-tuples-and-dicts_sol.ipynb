{
 "cells": [
  {
   "cell_type": "markdown",
   "metadata": {},
   "source": [
    "# Lab 4: Lists, tuples and dicts"
   ]
  },
  {
   "cell_type": "markdown",
   "metadata": {},
   "source": [
    "## Overview\n",
    "\n",
    "Welcome to your fourth lab! \n",
    "\n",
    "The primary goal of this lab is to focus on using data structures to solve some interesting problems. If you're curious and want to get to the bottom of what we're presenting here, go [check out Sequence types and Mapping types](https://docs.python.org/3/library/stdtypes.html)!\n",
    "\n",
    "**Note: These labs are *designed* to be long! Work through as much as you can in the time allotted, but also feel free to skip from question to question freely. The extra problems are intended to be extra practice, if you want to hone your Python skills even more.**\n",
    "\n",
    "As always, remember to submit the assignment questions once you're done! (instructions below)\n",
    "\n",
    "If you're done early: &#9971; Golf your functions!\n",
    "\n",
    "Above all, have fun playing with Python! Enjoy. "
   ]
  },
  {
   "cell_type": "markdown",
   "metadata": {},
   "source": [
    "## Lists\n",
    "\n",
    "\n",
    "Lists are one of python's most basic data structures. They correspond to mutable ordered sequences. \n",
    "\n",
    "- As sequences, they contain a series of elements.\n",
    "- As they are ordered, elements are guaranteed to come up in a certain order when you iterate over the list\n",
    "- As they are mutable, you can add and remove things from a list without having to create a new one."
   ]
  },
  {
   "cell_type": "markdown",
   "metadata": {},
   "source": [
    "### What's in it for you?\n",
    "\n",
    "Predict what the following lines of Python will do. Then, run the code block below to see if they match what you expect:\n",
    "\n",
    "```Python\n",
    "s = [0] * 3\n",
    "print(s)\n",
    "s[0] += 1\n",
    "print(s)\n",
    "\n",
    "s = [''] * 3\n",
    "print(s)\n",
    "s[0] += 'a'\n",
    "print(s)\n",
    "\n",
    "s = [[]] * 3\n",
    "print(s)\n",
    "s[0] += [1]\n",
    "print(s)\n",
    "```"
   ]
  },
  {
   "cell_type": "code",
   "execution_count": 1,
   "metadata": {},
   "outputs": [
    {
     "name": "stdout",
     "output_type": "stream",
     "text": [
      "[0, 0, 0]\n",
      "[1, 0, 0]\n",
      "['', '', '']\n",
      "['a', '', '']\n",
      "[[], [], []]\n",
      "[[1], [1], [1]]\n"
     ]
    }
   ],
   "source": [
    "# Explore the elements of lists. Is the output what you expect?\n",
    "s = [0] * 3\n",
    "print(s)\n",
    "s[0] += 1\n",
    "print(s)\n",
    "\n",
    "s = [''] * 3\n",
    "print(s)\n",
    "s[0] += 'a'\n",
    "print(s)\n",
    "\n",
    "s = [[]] * 3\n",
    "print(s)\n",
    "s[0] += [1]\n",
    "print(s)"
   ]
  },
  {
   "cell_type": "markdown",
   "metadata": {},
   "source": [
    "Why is this happening? Consider using the `id` function to investigate further. What happens when we replace the second-to-last line with `s[0] = s[0] + [1]`? What if we replace the line with `s[0].append(1)`?"
   ]
  },
  {
   "cell_type": "markdown",
   "metadata": {},
   "source": [
    "### Manipulating lists\n",
    "\n",
    "Broadly speaking, there are three things you might want to do with lists:\n",
    "\n",
    "1. add elements\n",
    "1. remove elements\n",
    "1. inspect elements\n",
    "\n",
    "All of these can be done in a number of different ways. Here are a few main ones:\n",
    "\n",
    "1. To **add** an element, you can use `my_list.append(elem)`. To add all the elements of some other sequence at once, you can try `my_list.extend(other_seq)`. Related to that, the addition operator `+` for lists corresponds to concatenation, and the multiplication operator `*` corresponds to duplication (remember how it went for strings?)\n",
    "1. To **remove** elements by value, you can use `my_list.remove('some_value')`, which will delete the first occurrence of that value in your list. Alternatively, you can remove elements based on their index: `del my_list[idx]` will remove the value at index `idx`; `elem = my_list.pop(idx)` will remove the value at index `idx` and place it in the variable `elem` instead.\n",
    "1. To **access** the value at a given index `idx`, we generally use indexing: `my_value = my_list[idx]`.\n",
    "\n",
    "Try predicting what the code below will print!"
   ]
  },
  {
   "cell_type": "code",
   "execution_count": 2,
   "metadata": {},
   "outputs": [
    {
     "name": "stdout",
     "output_type": "stream",
     "text": [
      "chimp ['peanuts', 'peanuts', 'peanuts']\n"
     ]
    }
   ],
   "source": [
    "chimps = ([\"chimp\", \"peanuts\"] * 3)\n",
    "\n",
    "chimps.remove(\"chimp\")\n",
    "del chimps[1]\n",
    "something = chimps.pop(-2)\n",
    "\n",
    "# what will this print?\n",
    "print(something, chimps)"
   ]
  },
  {
   "cell_type": "markdown",
   "metadata": {
    "tags": []
   },
   "source": [
    "### Slicing and unpacking\n",
    "\n",
    "Another common type of operation with lists (or *ordered* sequences in general) is to iterate over them. This is very frequently done with **slicing**:\n",
    "\n",
    "```Python\n",
    ">>> daily_articles = ['no peanut', 'one peanut', 'two peanuts', 'three peanuts', 'peanuts stolen from Bond', 'evil plan to destroy Paris']\n",
    ">>> daily_articles[1:3]\n",
    "['one peanut', 'two peanuts']\n",
    ">>> daily_articles[1:-2]\n",
    "['one peanut', 'two peanuts', 'three peanuts']\n",
    ">>> daily_articles[::2]\n",
    "['no peanuts', 'two peanuts', 'peanuts stolen from Bond']\n",
    ">>> daily_articles[-2::-2]\n",
    "['peanuts stolen from Bond', 'two peanuts', 'no peanuts']\n",
    ">>> daily_articles[::-1]\n",
    "['evil plan to destroy Paris', 'peanuts stolen from Bond', 'three peanuts', 'two peanuts', 'one peanut', 'no peanuts']\n",
    "```\n",
    "\n",
    "As you can see, `my_list[::-1]` traverses the list in reverse: it starts from the end. Another function you can use for that is `reversed()`.\n",
    "\n",
    "Another very common thing to do with ordered sequence is **unpacking** them.\n",
    "```Python\n",
    ">>> the_tribe = [\"I am a chimp!\", \"I am a gorilla!\", \"I am a mandrill!\", \"I am tarzan!\"]\n",
    ">>> chimp, gorilla, mandrill, tarzan = the_tribe\n",
    ">>> chimp\n",
    "'I am a chimp!'\n",
    ">>> gorilla\n",
    "'I am a gorilla!'\n",
    ">>> mandrill\n",
    "'I am a mandrill!'\n",
    ">>> tarzan\n",
    "'I am tarzan!'\n",
    ">>> *monkeys, weird_monkey = the_tribe\n",
    ">>> monkeys\n",
    "['I am a chimp!', 'I am a gorilla!', 'I am a mandrill!']\n",
    ">>> weird_monkey\n",
    "'I am tarzan!'\n",
    ">>> best, *rest, hairless  = the_tribe\n",
    ">>> best\n",
    "'I am a chimp!'\n",
    ">>> rest\n",
    "['I am a gorilla!', 'I am a mandrill!']\n",
    ">>> hairless\n",
    "'I am tarzan!'\n",
    "```\n",
    "\n",
    "**Note:** _The \"splat\" operator_ `*` _allows you to group multiple elements together when unpacking. \n",
    "You can only use that \"splat\" operator once per unpacking!_\n",
    "\n",
    "#### Exercise #1: Sifting through\n",
    "\n",
    "Using slices, write a function called `every_third(l)` that takes a list `l` as argument and returns every third element in the list.\n",
    "```Python\n",
    ">>> every_third([0, 1, 2, 3, 4, 5])\n",
    "[2, 5]\n",
    "```\n",
    "\n",
    "Write a function called `first_and_last(l)` that returns a list containing only the first and last element of the argument list `l`.\n",
    "\n",
    "```Python\n",
    ">>> first_and_last([])\n",
    "[]\n",
    ">>> first_and_last([1])\n",
    "[1, 1]\n",
    ">>> first_and_last([1, 1])\n",
    "[1, 1]\n",
    ">>> first_and_last([1, 2])\n",
    "[1, 2]\n",
    ">>> first_and_last([1, 2, 3, 4, 5])\n",
    "[1, 5]\n",
    "```"
   ]
  },
  {
   "cell_type": "code",
   "execution_count": 3,
   "metadata": {},
   "outputs": [],
   "source": [
    "# write your code here\n",
    "import typing\n",
    "def every_third(l: typing.List) -> typing.List:\n",
    "    return l[2::3] if l else []\n",
    "\n",
    "def first_and_last(l: typing.List) -> typing.List:\n",
    "    return [l[0] , l[-1]] if l else []"
   ]
  },
  {
   "cell_type": "code",
   "execution_count": 4,
   "metadata": {},
   "outputs": [
    {
     "name": "stdout",
     "output_type": "stream",
     "text": [
      "[2, 5]\n",
      "[]\n",
      "[1, 1]\n",
      "[1, 1]\n",
      "[1, 2]\n",
      "[1, 5]\n"
     ]
    }
   ],
   "source": [
    "# Uncomment these when ready\n",
    "\n",
    "print(every_third([0, 1, 2, 3, 4, 5]))\n",
    "print(first_and_last([]))\n",
    "print(first_and_last([1]))\n",
    "print(first_and_last([1, 1]))\n",
    "print(first_and_last([1, 2]))\n",
    "print(first_and_last([1, 2, 3, 4, 5]))"
   ]
  },
  {
   "cell_type": "markdown",
   "metadata": {
    "tags": []
   },
   "source": [
    "## Tuples\n",
    "\n",
    "Tuples are another very frequently used data structure in python. Unlike lists, they are *immutable* ordered sequences.\n",
    "\n",
    "As they are ordered sequences, you can use slicing, indexing and unpacking with tuples. As they are immutable, you can also use (some) tuples as dictionary keys.\n",
    "\n",
    "Tuples are omnipresent in python code. Every time you return multiple values at once, you're in fact returning a tuple and unpacking it down the line:\n",
    "\n",
    "```Python\n",
    "def chimp_life(peanuts):\n",
    "    ...\n",
    "    # this is strictly equivalent to:\n",
    "    # return (chimp_action, remaining_peanuts)\n",
    "    return chimp_action, remaining_peanuts\n",
    "\n",
    "# this is actually just unpacking!\n",
    "chimp_action, peanuts = chimp_life(peanuts)\n",
    "```\n",
    "\n",
    "In fact, any value followed by a comma is interpreted as a tuple:\n",
    "```Python\n",
    ">>> chimp = 'chimp'\n",
    ">>> type(chimp)\n",
    "<class 'str'>\n",
    ">>> chimp = 'chimp',\n",
    ">>> type(chimp)\n",
    "<class 'tuple'>\n",
    "```\n",
    "\n",
    "You may also add parentheses around a tuple:\n",
    "```Python\n",
    ">>> monkeys_a = 'chimps', 'mandrill'\n",
    ">>> monkeys_b = 'chimps', 'mandrill',\n",
    ">>> monkeys_c = ('chimps', 'mandrill')\n",
    ">>> monkeys_d = ('chimps', 'mandrill',)\n",
    ">>> monkeys_a == monkeys_b == monkeys_c == monkeys_d\n",
    "True\n",
    "```\n",
    "\n",
    "Parentheses are required when you create tuples of tuples, or when creating an empty tuple\n",
    "```Python\n",
    ">>> monkeys_e = ('chimps', 'mandrill'),\n",
    ">>> monkeys_a == monkeys_e\n",
    "False\n",
    ">>> empty = ()\n",
    ">>> type(empty)\n",
    "<class 'tuple'>\n",
    "```\n",
    "\n",
    "\n",
    "### Exercise #2: GCD\n",
    "\n",
    "Write a function to compute the [GCD](https://en.wikipedia.org/wiki/Greatest_common_divisor) of two positive integers. You can freely use the fact that `gcd(a, b)` is mathematically equal to `gcd(b, a % b)`, and that `gcd(a, 0) == a`.\n",
    "\n",
    "If it helps, start by assuming that `a >= b` if you'd like, but your final function should be able to handle all cases, including when `a < b`.\n",
    "\n",
    "It is possible to accomplish this in three lines of Python code (or with extra cleverness, even fewer!). Consider exploiting tuple packing and unpacking!\n",
    "\n",
    "*Note: The standard library has a `gcd` function. Avoid simply importing that function and using it here - the goal is to practice with tuple packing and unpacking!*"
   ]
  },
  {
   "cell_type": "code",
   "execution_count": 5,
   "metadata": {},
   "outputs": [
    {
     "name": "stdout",
     "output_type": "stream",
     "text": [
      "5 5 1 1 3 3 1\n"
     ]
    }
   ],
   "source": [
    "# Here's a somewhat golfed gcd:\n",
    "# the principle is that while both a and b are no zero,\n",
    "# we divide the larger of the two by the other\n",
    "# and keep the smaller number and the remained in a, b\n",
    "# we then return whichever variable is not null, as it will contain the GCD.\n",
    "def gcd(a: int, b: int) -> int:\n",
    "    \"\"\"Compute the GCD of two positive integers.\"\"\"\n",
    "    while a and b: a,b=(b%a,a)if a<b else (a%b,b)\n",
    "    return a or b\n",
    "\n",
    "# Here is a shorter solution (uncomment to run it instead):\n",
    "# Here, in case a < b, in the first iteration, the values are simply swapped.\n",
    "# So this version has one more step when a < b,\n",
    "# but doesn't do the comparison\n",
    "\n",
    "# def gcd(a: int, b: int) -> int:\n",
    "#     \"\"\"Compute the GCD of two positive integers.\"\"\"\n",
    "#     while b: a, b = b, a%b\n",
    "#     return a\n",
    "    \n",
    "print(\n",
    "   gcd(10, 25), # => 5\n",
    "   gcd(25, 10), # => 5\n",
    "\n",
    "   gcd(14, 15), # => 1\n",
    "   gcd(15, 14), # => 1\n",
    "\n",
    "   gcd(3, 9), # => 3\n",
    "   gcd(9, 3), # => 3\n",
    "\n",
    "   gcd(1, 1), # => 1\n",
    ")\n"
   ]
  },
  {
   "cell_type": "markdown",
   "metadata": {},
   "source": [
    "## Dictionaries\n",
    "\n",
    "Dictionaries (the `dict` type in python) are mappings that associate keys to values. \n",
    "\n",
    "Instead of using integers to index elements, as you would in a list, dictionaries allow you to use whatever value as a key. \n",
    "\n",
    "As such, you can use `del my_dict[key]` to remove a certain `key`, `value` pair from a dictionary\n",
    "\n",
    "The only two requirements for keys are that they need to be unique and hashable, i.e., immutable and composed only of immutable objects.\n",
    "\n",
    "You can retrieve only the keys as an ordered sequence using the `dict.keys()` method. The same thing applies for values with `dict.values()`. To get pairs of keys associated to values, you can use `dict.items()`.\n",
    "\n",
    "```Python\n",
    ">>> d = {'chimp': 'peanut', 'Bond': 'James'}\n",
    ">>> d.keys()\n",
    "dict_keys(['chimp', 'Bond'])\n",
    ">>> d.values()\n",
    "dict_values(['peanut', 'James'])\n",
    ">>> d.items()\n",
    "dict_items([('chimp', 'peanut'), ('Bond', 'James')])\n",
    "```\n",
    "\n",
    "### Exercise #3: Flip it!\n",
    "Consider this (naive) implementation of a dictionary comprehension that swaps the keys and values in a dictionary:\n",
    "\n",
    "```Python\n",
    "{value: key for key, value in dictionary.items()}\n",
    "```\n",
    "\n",
    "This approach will fail when there are two keys in the dictionary with the same value. Why will it fail?\n",
    "\n",
    "Write a function that properly reverses the keys and values of a dictionary - each key (originally a value) should map to a collection of values (originally keys) that mapped to it. For example,\n",
    "\n",
    "```Python\n",
    "flip_dict({\"CA\": \"US\", \"NY\": \"US\", \"ON\": \"CA\"})\n",
    "# => {\"US\": [\"CA\", \"NY\"], \"CA\": [\"ON\"]}\n",
    "```\n",
    "\n",
    "Note: there is a data structure in the `collections` module from the standard library called `defaultdict` which provides exactly this sort of functionality. You provide it a factory method for creating default values in the dictionary (in this case, a list.) You can read more about `defaultdict` and other `collections` data structures [here](https://docs.python.org/3/library/collections.html)."
   ]
  },
  {
   "cell_type": "code",
   "execution_count": 6,
   "metadata": {},
   "outputs": [
    {
     "data": {
      "text/plain": [
       "{'US': ['CA', 'NY'], 'CA': ['ON']}"
      ]
     },
     "execution_count": 6,
     "metadata": {},
     "output_type": "execute_result"
    }
   ],
   "source": [
    "import collections\n",
    "import typing\n",
    "\n",
    "def flip_dict(input_dict: typing.Dict[str, str]) -> typing.Dict[str, typing.List[str]]:\n",
    "    \"\"\"Reverse the keys and values of a dictionary.\"\"\"\n",
    "    # Initialise a collections.defaultdict to use as a helper\n",
    "    ddict = collections.defaultdict(list)\n",
    "    # Reverse for each key:value pair\n",
    "    for k, v in input_dict.items():\n",
    "        ddict[v].append(k)\n",
    "    return dict(ddict)\n",
    "\n",
    "flip_dict({\"CA\": \"US\", \"NY\": \"US\", \"ON\": \"CA\"})\n",
    "# should print {\"US\": [\"CA\", \"NY\"], \"CA\": [\"ON\"]}"
   ]
  },
  {
   "cell_type": "markdown",
   "metadata": {},
   "source": [
    "### Exercise #4: Flip it again!\n",
    "\n",
    "Write a function `merge_keys(input_dict)` that takes a `dict` as input and returns a copy of it, where keys mapping to the same value are now stored in a single tuple. For instance:\n",
    "\n",
    "```Python\n",
    "merge_keys({\"CA\": \"US\", \"NY\": \"US\", \"ON\": \"CA\"})\n",
    "# => {(\"CA\", \"NY\"):\"US\", \"ON\": \"CA\"}\n",
    "```\n",
    "\n",
    "**Bonus exercise**: what will happen if you flip twice a dictionary whose keys you've previously merged, using the two functions `flip_dict(input_dict)` and `merge_keys(input_dict)`? NB: depending on how you implemented `flip_dict(input_dict)`, you might need to rewrite the funtion, because of issues you might get with the second flipping.\n"
   ]
  },
  {
   "cell_type": "code",
   "execution_count": 7,
   "metadata": {},
   "outputs": [
    {
     "name": "stdout",
     "output_type": "stream",
     "text": [
      "{('CA', 'NY'): 'US', ('ON',): 'CA'}\n",
      "{(('CA', 'NY'),): ['US'], (('ON',),): ['CA']}\n"
     ]
    }
   ],
   "source": [
    "def merge_keys(input_dict: typing.Dict[str, str]) -> typing.Dict[typing.Tuple[str], str]:\n",
    "    \"\"\"Merge keys to make dict more easily reversible.\"\"\"\n",
    "    return {tuple(v): k for k,v in flip_dict(input_dict).items()}\n",
    "\n",
    "print(merge_keys({\"CA\": \"US\", \"NY\": \"US\", \"ON\": \"CA\"}))\n",
    "# should print {(\"CA\", \"NY\"):\"US\", \"ON\": \"CA\"}\n",
    "\n",
    "# if we leave the implementation of flip_dict as is, then the second print will provoke an issue.\n",
    "def flip_dict(input_dict: typing.Dict[str, str]) -> typing.Dict[typing.Tuple[str], typing.List[str]]:\n",
    "    \"\"\"Reverse the keys and values of a dictionary.\"\"\"\n",
    "    ddict = collections.defaultdict(list)\n",
    "    for k, v in input_dict.items():\n",
    "        # If v is a list, change it to a tuple\n",
    "        if type(v) is list: v = tuple(v)\n",
    "        ddict[v].append(k)\n",
    "    return dict(ddict)\n",
    "\n",
    "print(flip_dict(flip_dict(merge_keys({\"CA\": \"US\", \"NY\": \"US\", \"ON\": \"CA\"}))))\n",
    "# what will be printed here?"
   ]
  },
  {
   "cell_type": "markdown",
   "metadata": {},
   "source": [
    "## Comprehensions\n",
    "\n",
    "### Read\n",
    "\n",
    "Predict the output of each of the following list comprehensions. After you have written down your hypothesis, run the code cell to see if you were correct. If you were incorrect, discuss with a partner why Python returns what it does.\n",
    "\n",
    "```Python\n",
    "[x for x in [1, 2, 3, 4]]\n",
    "[n - 2 for n in range(10)]\n",
    "[k % 10 for k in range(41) if k % 3 == 0]\n",
    "[s.lower() for s in ['PythOn', 'iS', 'cOoL'] if s[0] < s[-1]]\n",
    "\n",
    "# Something is fishy here. Can you spot it?\n",
    "arr = [[3,2,1], ['a','b','c'], [('do',), ['re'], 'mi']]\n",
    "print([el.append(el[0] * 4) for el in arr])  # What is printed?\n",
    "print(arr)  # What is the content of `arr` at this point?\n",
    "\n",
    "[letter for letter in \"pYthON\" if letter.isupper()]\n",
    "{len(w) for w in [\"its\", \"the\", \"remix\", \"to\", \"ignition\"]}\n",
    "```"
   ]
  },
  {
   "cell_type": "code",
   "execution_count": 8,
   "metadata": {},
   "outputs": [
    {
     "name": "stdout",
     "output_type": "stream",
     "text": [
      "[1, 2, 3, 4]\n",
      "[-2, -1, 0, 1, 2, 3, 4, 5, 6, 7]\n",
      "[0, 3, 6, 9, 2, 5, 8, 1, 4, 7, 0, 3, 6, 9]\n",
      "['python']\n",
      "[None, None, None]\n",
      "[[3, 2, 1, 12], ['a', 'b', 'c', 'aaaa'], [('do',), ['re'], 'mi', ('do', 'do', 'do', 'do')]]\n",
      "['Y', 'O', 'N']\n",
      "{8, 2, 3, 5}\n"
     ]
    }
   ],
   "source": [
    "# Predict the output of the following comprehensions. Does the output match what you expect?\n",
    "print([x for x in [1, 2, 3, 4]])\n",
    "print([n - 2 for n in range(10)])\n",
    "print([k % 10 for k in range(41) if k % 3 == 0])\n",
    "print([s.lower() for s in ['PythOn', 'iS', 'cOoL'] if s[0] < s[-1]])\n",
    "\n",
    "# Something is fishy here. Can you spot it?\n",
    "arr = [[3,2,1], ['a','b','c'], [('do',), ['re'], 'mi']]\n",
    "print([el.append(el[0] * 4) for el in arr])  # What is printed?\n",
    "print(arr)  # What is the content of `arr` at this point?\n",
    "\n",
    "print([letter for letter in \"pYthON\" if letter.isupper()])\n",
    "print({len(w) for w in [\"its\", \"the\", \"remix\", \"to\", \"ignition\"]})"
   ]
  },
  {
   "cell_type": "markdown",
   "metadata": {},
   "source": [
    "### Exercise #5: Write\n",
    "\n",
    "Write comprehensions to transform the input data structure into the output data structure:\n",
    "\n",
    "```Python\n",
    "[0, 1, 2, 3] -> [1, 3, 5, 7]  # Double and add one\n",
    "['apple', 'orange', 'pear'] -> ['A', 'O', 'P']  # Capitalize first letter\n",
    "['apple', 'orange', 'pear'] -> ['apple', 'pear']  # Contains a 'p'\n",
    "\n",
    "[\"TA_sam\", \"student_poohbear\", \"TA_guido\", \"student_htiek\"] -> [\"sam\", \"guido\"] # TA's names\n",
    "['apple', 'orange', 'pear'] -> [('apple', 5), ('orange', 6), ('pear', 4)] # words and their lengths in a list of tuples\n",
    "\n",
    "['apple', 'orange', 'pear'] -> {'apple': 5, 'orange': 6, 'pear': 4} # words and their lengths as dictionary key-value pairs\n",
    "```"
   ]
  },
  {
   "cell_type": "code",
   "execution_count": 9,
   "metadata": {},
   "outputs": [
    {
     "name": "stdout",
     "output_type": "stream",
     "text": [
      "[1, 3, 5, 7]\n",
      "['A', 'O', 'P']\n",
      "['apple', 'pear']\n",
      "['sam', 'guido']\n",
      "[('apple', 5), ('orange', 6), ('pear', 4)]\n",
      "{'apple': 5, 'orange': 6, 'pear': 4}\n"
     ]
    }
   ],
   "source": [
    "nums = [0, 1, 2, 3]\n",
    "fruits = ['apple', 'orange', 'pear']\n",
    "people = [\"TA_sam\", \"student_poohbear\", \"TA_guido\", \"student_htiek\"]\n",
    "\n",
    "# Add your comprehensions here!\n",
    "nums_doubled_and_incremented: typing.List[int] = [i*2 +1 for i in nums] # nums -> Double and add one\n",
    "print(nums_doubled_and_incremented)\n",
    "\n",
    "fruits_capitalized_first_letter: typing.List[str] = [f[0].capitalize() for f in fruits if f] # fruits -> Capitalize first letter\n",
    "print(fruits_capitalized_first_letter)\n",
    "fruits_cotaining_p: typing.List[str] = [f for f in fruits if 'p' in f] # fruits -> Contains a 'p'\n",
    "print(fruits_cotaining_p)\n",
    "\n",
    "people_TA_names: typing.List[str] = [n[3:] for n in people if n[:3] == 'TA_'] # people -> TA's names\n",
    "print(people_TA_names)\n",
    "fruits_word_and_length_tuples: typing.List[typing.Tuple[str, int]] = [(f, len(f)) for f in fruits] # fruits -> words and their lengths in a list of tuples\n",
    "print(fruits_word_and_length_tuples)\n",
    "\n",
    "fruits_word_to_length_dict: typing.Dict[str, int] = {f:len(f) for f in fruits} # fruits -> words and their lengths as dictionary key-value pairs\n",
    "print(fruits_word_to_length_dict)"
   ]
  },
  {
   "cell_type": "markdown",
   "metadata": {},
   "source": [
    "# Assignment Exercises"
   ]
  },
  {
   "cell_type": "markdown",
   "metadata": {},
   "source": [
    "### Exercise #6: Pascal's Triangle\n",
    "Write a function that generates the next level of [Pascal's triangle](https://en.wikipedia.org/wiki/Pascal%27s_triangle) given a list that represents a row of Pascal’s triangle.\n",
    "\n",
    "```Python\n",
    "generate_pascal_row([1, 2, 1]) -> [1, 3, 3, 1]\n",
    "generate_pascal_row([1, 4, 6, 4, 1]) -> [1, 5, 10, 10, 5, 1]\n",
    "generate_pascal_row([]) -> [1]\n",
    "```\n",
    "\n",
    "As a reminder, each element in a row of Pascal's triangle is formed by summing the two elements in the previous row directly above (to the left and right) that element. If there is only one element directly above, we only add that one. For example, the first 5 rows of Pascal's triangle look like:\n",
    "\n",
    "```\n",
    "    1\n",
    "   1 1\n",
    "  1 2 1\n",
    " 1 3 3 1\n",
    "1 4 6 4 1\n",
    "```\n",
    "\n",
    "You may find the `zip` function discussed briefly in lecture useful, along with some cleverness. Alternatively, you could solve this problem with `enumerate`. Avoid using a loop of the form `for i in len(range(row)):`.\n",
    "\n",
    "*Hint: Check out the diagram below. How could you use this insight to help complete this problem?*\n",
    "\n",
    "```\n",
    "  0 1 3 3 1\n",
    "+ 1 3 3 1 0\n",
    "-----------\n",
    "  1 4 6 4 1\n",
    "``` "
   ]
  },
  {
   "cell_type": "code",
   "execution_count": 10,
   "metadata": {},
   "outputs": [
    {
     "name": "stdout",
     "output_type": "stream",
     "text": [
      "[1, 3, 3, 1]\n",
      "[1, 5, 10, 10, 5, 1]\n",
      "[1]\n"
     ]
    }
   ],
   "source": [
    "def generate_pascal_row(row: typing.List[int]) -> typing.List[int]:\n",
    "    \"\"\"Generate the next row of Pascal's triangle.\"\"\"\n",
    "    if not row: return [1] # first row\n",
    "    # sum [0]+row, and row+[0] to get next row\n",
    "    return [l + r for l, r in zip([0] + row, row + [0])]\n",
    "\n",
    "print(generate_pascal_row([1, 2, 1]))  # => [1, 3, 3, 1]\n",
    "print(generate_pascal_row([1, 4, 6, 4, 1]))  # => [1, 5, 10, 10, 5, 1]\n",
    "print(generate_pascal_row([]))  # => [1]"
   ]
  },
  {
   "cell_type": "markdown",
   "metadata": {},
   "source": [
    "#### Exercise #7: Pretty Printing Pascal\n",
    "\n",
    "Given a number `n`, print out the first `n` rows of Pascal's triangle, centering each line. You should use the `generate_pascal_row` function you  wrote previously. The Pascal's triangle with 1 row just contains the number `1`.\n",
    "\n",
    "To center a string in Python, you can use the `.center(width)` method. For example:\n",
    "\n",
    "```Python\n",
    ">>> 'chimp'.center(10)\n",
    "'  chimp   '\n",
    "```\n",
    "\n",
    "You can even specify an optional `fillchar` to fill with characters other than spaces!\n",
    "\n",
    "The hardest part of this problem is determining the width of the bottom row of the triangle. You'll need to generate all rows of the triangle and store them before you can print any of them."
   ]
  },
  {
   "cell_type": "code",
   "execution_count": 11,
   "metadata": {},
   "outputs": [
    {
     "name": "stdout",
     "output_type": "stream",
     "text": [
      "                   1                   \n",
      "                  1 1                  \n",
      "                 1 2 1                 \n",
      "                1 3 3 1                \n",
      "               1 4 6 4 1               \n",
      "             1 5 10 10 5 1             \n",
      "            1 6 15 20 15 6 1           \n",
      "          1 7 21 35 35 21 7 1          \n",
      "         1 8 28 56 70 56 28 8 1        \n",
      "      1 9 36 84 126 126 84 36 9 1      \n",
      "  1 10 45 120 210 252 210 120 45 10 1  \n",
      "1 11 55 165 330 462 462 330 165 55 11 1\n"
     ]
    }
   ],
   "source": [
    "def print_pascal_triangle(n: int):\n",
    "    \"\"\"Print the first n rows of Pascal's triangle.\"\"\"\n",
    "    rows = []\n",
    "    current_row = []\n",
    "    # Generate all rows\n",
    "    for _ in range(n):\n",
    "        current_row = generate_pascal_row(current_row)\n",
    "        rows.append(' '.join(map(str, current_row)))\n",
    "    # Center each row based on how many rows there are and print\n",
    "    for row in rows:\n",
    "        print(row.center(len(rows[-1])))\n",
    "    \n",
    "print_pascal_triangle(12)"
   ]
  },
  {
   "cell_type": "markdown",
   "metadata": {},
   "source": [
    "### Submission instructions\n",
    "\n",
    "Alright, you did it!\n",
    "\n",
    "You will need to submit the last two exercises (#6 Pascal's Triangle and #7 Pretty Printing Pascal) on Arche before 9:59am on Friday, 14th October. Submit either a `.py` or an `.ipynb` file containing the functions you wrote for the two exercises and name it `td4_firstname_lastname.py` or `td4_firstname_lastname.ipynb` accordingly, where `firstname` should be your first name and `lastname` should be your last name (e.h. Jane Doe's submission should be called `td4_jane_doe.py` or `td4_jane_doe.ipynb`, depending on whether Jane submitted a Python script or a Jupyter notebook).\n",
    "\n",
    "To evaluate your submission, we will be looking at the following criteria:\n",
    "\n",
    "- Does your code run? (So **run** your program at least once before submitting!)\n",
    "- Does it run correctly? (So **test** your solution with a few different inputs!)\n",
    "- Is your code well-commented?\n",
    "- Is your code well-structured?"
   ]
  },
  {
   "cell_type": "markdown",
   "metadata": {},
   "source": [
    "## Bonus Problems\n",
    "\n",
    "*Only attempt to solve these bonus problems if you've finished the rest of the lab. Bonus problems are intentionally much harder than the other lab problems.*"
   ]
  },
  {
   "cell_type": "markdown",
   "metadata": {},
   "source": [
    "### Exercise #8: Polygon Collision\n",
    "\n",
    "Given two polygons in the form of lists of 2-tuples, determine whether the two polygons intersect.\n",
    "\n",
    "Formally, a polygon is represented by a list of (x, y) tuples, where each (x, y) tuple is a vertex of the polygon. Edges are assumed to be between adjacent vertices in the list, and the last vertex is connected to the first. For example, the unit square would be represented by\n",
    "\n",
    "```\n",
    "square = [(0,0), (0,1), (1,1), (1,0)]\n",
    "```\n",
    "\n",
    "You can assume that the polygon described by the provided list of tuples is not self-intersecting, but do not assume that it is convex.\n",
    "\n",
    "**Note: this is a *hard* problem. Quite hard.**"
   ]
  },
  {
   "cell_type": "code",
   "execution_count": 12,
   "metadata": {},
   "outputs": [
    {
     "name": "stdout",
     "output_type": "stream",
     "text": [
      "True\n"
     ]
    }
   ],
   "source": [
    "import math\n",
    "import typing\n",
    "\n",
    "# First let's do the easier convex case.\n",
    "# We can do that using the separation axis theorem.\n",
    "# Cf. https://en.wikipedia.org/wiki/Hyperplane_separation_theorem\n",
    "# Or see this video: https://www.youtube.com/watch?v=IELWpIGtjRg\n",
    "# Or this article: http://programmerart.weebly.com/separating-axis-theorem.html\n",
    "# Note: the code at the end of the video and end of the article is not in Python\n",
    "\n",
    "def dot(v1: typing.Tuple[float, float], v2:typing.Tuple[float, float]) -> float:\n",
    "    \"\"\"Dot product between two vectors\"\"\"\n",
    "    return sum(a*b for a,b in zip(v1,v2))\n",
    "\n",
    "def sub(v1: typing.Tuple[float, float], v2: typing.Tuple[float, float]) -> tuple:\n",
    "    \"\"\"subtraction of two vectors\"\"\"\n",
    "    return (v1[0] - v2[0], v1[1] - v2[1])\n",
    "\n",
    "def project(polygon: typing.List[typing.Tuple], axis: typing.Tuple[float, float]) -> (float, float):\n",
    "    \"\"\"Compute the projection of a polygon onto an axis\"\"\"\n",
    "    projected_vertices = [dot(v, axis) for v in polygon]\n",
    "    return min(projected_vertices), max(projected_vertices)\n",
    "\n",
    "def get_edges_vectors(polygon: typing.List[typing.Tuple]) -> typing.List[typing.Tuple]:\n",
    "    \"\"\"get the edges of a polygon as vectors\"\"\"\n",
    "    next_vertex = polygon[1:] + polygon[0:]\n",
    "    vertex_pairs = zip(polygon, next_vertex)\n",
    "    return [sub(v1,v2) for v1, v2 in vertex_pairs]\n",
    "\n",
    "def get_perpendicular_axis(edge: typing.Tuple[float, float]) -> (float, float):\n",
    "    \"\"\"Return normalized perpendicular axis\"\"\"\n",
    "    x, y = edge\n",
    "    d = math.sqrt(x ** 2 + y ** 2)\n",
    "    return -y/d, x/d\n",
    "\n",
    "def get_axes(vertices: typing.Set) -> typing.List:\n",
    "    \"\"\"compute the set of axes of comparisons given a set of vertices\"\"\"\n",
    "    return list(map(get_perpendicular_axis, get_edges_vectors(vertices)))\n",
    "               \n",
    "def convex_polygon_collision(poly1: typing.List, poly2: typing.List) -> bool:\n",
    "    all_axes = get_axes(poly1 + poly2)\n",
    "    for axis in all_axes:\n",
    "        # SAT: if the projections of the two polygons don't overlap on any one axis, then the polygons don't overlap\n",
    "        project1 = project(poly1, axis)\n",
    "        project2 = project(poly2, axis)\n",
    "        if project1[1] < project2[0] or project1[0] > project1[1]:\n",
    "            return False\n",
    "    return True\n",
    "        \n",
    "def polygon_collision(poly1: typing.List, poly2: typing.List) -> bool:\n",
    "    # to tackle the non-convex case as well, we just need to decompose each polygon into convex shapes\n",
    "    # the lazy way to do this is to test all possible triangle for one polygon, against all possible for the other\n",
    "    # it's certainly not the optimal way of doing it.\n",
    "    def get_triangles(poly):\n",
    "        len_p = len(poly)\n",
    "        for i in range(len_p - 2):\n",
    "            for j in range(i + 1, len_p - 1):\n",
    "                for k in range(j + 1, len_p):\n",
    "                    yield poly[i], poly[j], poly[k]\n",
    "    for tri1 in get_triangles(poly1):\n",
    "        for tri2 in get_triangles(poly2):\n",
    "            if convex_polygon_collision(tri1, tri2):\n",
    "                return True\n",
    "    return False\n",
    "\n",
    "unit_square = [(0,0), (0,1), (1,1), (1,0)]\n",
    "triangle = [(0,0), (0.5,2), (1,0)]\n",
    "\n",
    "print(polygon_collision(unit_square, triangle))  # => True"
   ]
  },
  {
   "cell_type": "markdown",
   "metadata": {},
   "source": [
    "### Some more examples plus additional visualization"
   ]
  },
  {
   "cell_type": "code",
   "execution_count": 13,
   "metadata": {
    "tags": []
   },
   "outputs": [],
   "source": [
    "import numpy as np\n",
    "import matplotlib.pyplot as plt\n",
    "\n",
    "def get_x_y_separate(list_of_points):\n",
    "    '''Turn a list of vertices in a list of x-coordinates and a list of y-coordinates'''\n",
    "    x = [i[0] for i in list_of_points]\n",
    "    y = [i[1] for i in list_of_points]\n",
    "    return x, y\n",
    "\n",
    "def draw_shapes(*shapes):\n",
    "    '''Given a list of polygons, draw the polygons on a set of axes'''\n",
    "    plt.figure(figsize=(8, 8))\n",
    "    plt.axis('equal')\n",
    "    for shape in shapes:\n",
    "        # split coordinates into lists of x and y because plt.fill() expects that format\n",
    "        x, y = get_x_y_separate(shape)\n",
    "        plt.fill(x, y)\n",
    "    plt.show()"
   ]
  },
  {
   "cell_type": "code",
   "execution_count": 14,
   "metadata": {},
   "outputs": [],
   "source": [
    "# The vertices need to be enumerated in a counter-clockwise direction\n",
    "# You may get wrong results otherwise\n",
    "big_square = [(0,0), (3,0), (3,3), (0,3)]\n",
    "small_square_inside = [(1, 1), (2, 1), (2, 2), (1, 2)]\n",
    "small_square_outside = [(4, 1), (5, 1), (5, 2), (4, 2)]"
   ]
  },
  {
   "cell_type": "code",
   "execution_count": 15,
   "metadata": {
    "tags": []
   },
   "outputs": [
    {
     "name": "stdout",
     "output_type": "stream",
     "text": [
      "True\n"
     ]
    },
    {
     "data": {
      "image/png": "[encoded data removed]",
      "text/plain": [
       "<Figure size 576x576 with 1 Axes>"
      ]
     },
     "metadata": {
      "needs_background": "light"
     },
     "output_type": "display_data"
    }
   ],
   "source": [
    "print(polygon_collision(big_square, small_square_inside))  # => True\n",
    "draw_shapes(big_square, small_square_inside)"
   ]
  },
  {
   "cell_type": "code",
   "execution_count": 16,
   "metadata": {
    "tags": []
   },
   "outputs": [
    {
     "name": "stdout",
     "output_type": "stream",
     "text": [
      "False\n"
     ]
    },
    {
     "data": {
      "image/png": "[encoded data removed]",
      "text/plain": [
       "<Figure size 576x576 with 1 Axes>"
      ]
     },
     "metadata": {
      "needs_background": "light"
     },
     "output_type": "display_data"
    }
   ],
   "source": [
    "print(polygon_collision(big_square, small_square_outside))  # => False\n",
    "draw_shapes(big_square, small_square_outside)"
   ]
  },
  {
   "cell_type": "code",
   "execution_count": 17,
   "metadata": {},
   "outputs": [
    {
     "name": "stdout",
     "output_type": "stream",
     "text": [
      "False\n"
     ]
    },
    {
     "data": {
      "image/png": "[encoded data removed]",
      "text/plain": [
       "<Figure size 576x576 with 1 Axes>"
      ]
     },
     "metadata": {
      "needs_background": "light"
     },
     "output_type": "display_data"
    }
   ],
   "source": [
    "print(polygon_collision([(0, 0), (3, 0), (3, 3)], [(4, 1), (5, 1), (5, 2)])) # => False\n",
    "draw_shapes([(0, 0), (3, 3), (3, 0)], [(4, 1), (5, 2), (5, 1)])"
   ]
  },
  {
   "cell_type": "code",
   "execution_count": 18,
   "metadata": {},
   "outputs": [
    {
     "name": "stdout",
     "output_type": "stream",
     "text": [
      "False\n"
     ]
    },
    {
     "data": {
      "image/png": "[encoded data removed]",
      "text/plain": [
       "<Figure size 576x576 with 1 Axes>"
      ]
     },
     "metadata": {
      "needs_background": "light"
     },
     "output_type": "display_data"
    }
   ],
   "source": [
    "print(convex_polygon_collision(small_square_inside, small_square_outside))  # => False\n",
    "draw_shapes(small_square_inside, small_square_outside)"
   ]
  },
  {
   "cell_type": "code",
   "execution_count": 19,
   "metadata": {},
   "outputs": [
    {
     "name": "stdout",
     "output_type": "stream",
     "text": [
      "True\n"
     ]
    },
    {
     "data": {
      "image/png": "[encoded data removed]",
      "text/plain": [
       "<Figure size 576x576 with 1 Axes>"
      ]
     },
     "metadata": {
      "needs_background": "light"
     },
     "output_type": "display_data"
    }
   ],
   "source": [
    "print(polygon_collision(unit_square, triangle)) # => True\n",
    "draw_shapes(unit_square, triangle)"
   ]
  },
  {
   "cell_type": "markdown",
   "metadata": {},
   "source": [
    "## Done Early?\n",
    "\n",
    "Skim [Python’s Style Guide](https://www.python.org/dev/peps/pep-0008/), keeping the Zen of Python in mind. Feel free to skip portions of the style guide that cover material we haven't yet touched on in this class, but it's always good to start with an overview of good style."
   ]
  },
  {
   "cell_type": "markdown",
   "metadata": {},
   "source": [
    "> With <3 by @sredmond\n",
    "\n",
    "> With chimps by tmickus"
   ]
  }
 ],
 "metadata": {
  "kernelspec": {
   "display_name": "Python 3 (ipykernel)",
   "language": "python",
   "name": "python3"
  },
  "language_info": {
   "codemirror_mode": {
    "name": "ipython",
    "version": 3
   },
   "file_extension": ".py",
   "mimetype": "text/x-python",
   "name": "python",
   "nbconvert_exporter": "python",
   "pygments_lexer": "ipython3",
   "version": "3.8.10"
  }
 },
 "nbformat": 4,
 "nbformat_minor": 4
}
