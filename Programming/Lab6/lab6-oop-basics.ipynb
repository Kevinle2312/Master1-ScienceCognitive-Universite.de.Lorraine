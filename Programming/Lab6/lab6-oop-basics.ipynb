{
 "cells": [
  {
   "cell_type": "markdown",
   "metadata": {
    "tags": [],
    "pycharm": {
     "name": "#%% md\n"
    }
   },
   "source": [
    "# Lab 6: getting to know classes\n",
    "\n",
    "## Goals of this lab\n",
    "\n",
    "This lab will familiarize you with the basics of python object-oriented programming style (or \"OOP\" for short). The main point of this lab is to have you understand the basics of objects in python, as they are ubiquitous and very handy."
   ]
  },
  {
   "cell_type": "markdown",
   "metadata": {
    "pycharm": {
     "name": "#%% md\n"
    }
   },
   "source": [
    "## Part #1 A Tale of One Hero"
   ]
  },
  {
   "cell_type": "markdown",
   "metadata": {
    "pycharm": {
     "name": "#%% md\n"
    }
   },
   "source": [
    "## Review #1: custom types, or \"classes\"\n",
    "\n",
    "As you now know, variables in python have different types: a `str` such as `\"42\"` is different from an `int` such as `42`. More complex types like `list` allow you to handle more complex variables with multiple elements.\n",
    "\n",
    "Object oriented programming allows you to extend the existing base types and define your own types. We refer to these custom types as \"classes\". Here's an example:"
   ]
  },
  {
   "cell_type": "markdown",
   "metadata": {
    "pycharm": {
     "name": "#%% md\n"
    }
   },
   "source": [
    "\n",
    "Here, we just implemented a class `Monkey` which we'll be using to describe monkeys throughout our code.\n",
    "\n",
    "The class contains one bound function, or a **method**, called `__init__`. This is a special method we call a **constructor**: it *creates* one monkey, using external information we pass as arguments (what species of monkey we're dealing with, how many peanuts do our monkeys have...).\n",
    "\n",
    "Another thing of note is the `self` argument of this constructor. This refers to a specific monkey **object**, i.e., an instance of the class `Monkey`, the actual monkey being constructed here.\n",
    "\n",
    "Having implemented the `Monkey` class, we can now represent monkeys in our code:\n"
   ]
  },
  {
   "cell_type": "code",
   "execution_count": 1,
   "outputs": [],
   "source": [
    "class Monkey:\n",
    "    \"\"\"A class describing monkeys.\"\"\"\n",
    "    def __init__(self, monkey_species, number_of_peanuts_owned):\n",
    "        self.monkey_species = monkey_species\n",
    "        self.number_of_peanuts = number_of_peanuts_owned"
   ],
   "metadata": {
    "collapsed": false,
    "pycharm": {
     "name": "#%%\n"
    }
   }
  },
  {
   "cell_type": "code",
   "execution_count": 2,
   "metadata": {
    "pycharm": {
     "name": "#%%\n"
    }
   },
   "outputs": [
    {
     "name": "stdout",
     "output_type": "stream",
     "text": [
      "<__main__.Monkey object at 0x0000017591F826A0>\n",
      "<__main__.Monkey object at 0x0000017591F82640>\n",
      "chimpanzee\n",
      "pirate gorilla\n",
      "42\n",
      "1\n"
     ]
    }
   ],
   "source": [
    "noam_chimpsky = Monkey(\"chimpanzee\", 42)\n",
    "harambe = Monkey(\"pirate gorilla\", 1)\n",
    "\n",
    "print(noam_chimpsky)\n",
    "print(harambe)\n",
    "\n",
    "print(noam_chimpsky.monkey_species)\n",
    "print(harambe.monkey_species)\n",
    "\n",
    "print(noam_chimpsky.number_of_peanuts)\n",
    "print(harambe.number_of_peanuts)\n"
   ]
  },
  {
   "cell_type": "markdown",
   "metadata": {
    "pycharm": {
     "name": "#%% md\n"
    }
   },
   "source": [
    "As you can see, we have managed to create `Monkey` objects. \n",
    "\n",
    "What's more, our monkeys also have specific **attributes**: they each have their species, as well as a number of peanuts. These attributes allow us to describe information regarding our objects. Different objects of the same class may have different values for the same attribute, but they all have the attribute.\n",
    "\n",
    "## Exercise #1: Name your monkeys\n",
    "\n",
    "Re-implement the `Monkey` class in the cell below so that constructed monkeys also have a `name` attribute."
   ]
  },
  {
   "cell_type": "code",
   "execution_count": 2,
   "metadata": {
    "pycharm": {
     "name": "#%%\n"
    }
   },
   "outputs": [
    {
     "name": "stdout",
     "output_type": "stream",
     "text": [
      "Noam Chimpsky\n",
      "Harambe\n"
     ]
    }
   ],
   "source": [
    "import utils\n",
    "class Monkey:\n",
    "    \"\"\"A class describing monkeys.\"\"\"\n",
    "    def __init__(self, name, monkey_species, number_of_peanuts):\n",
    "        self.name = name\n",
    "        self.monkey_species = monkey_species\n",
    "        self.number_of_peanuts = number_of_peanuts\n",
    "\n",
    "\n",
    "noam_chimpsky = Monkey(\"Noam Chimpsky\", \"chimpanzee\", 42)\n",
    "harambe = Monkey(\"Harambe\", \"pirate gorilla\", 1)\n",
    "print(noam_chimpsky.name)\n",
    "print(harambe.name)\n"
   ]
  },
  {
   "cell_type": "markdown",
   "metadata": {
    "pycharm": {
     "name": "#%% md\n"
    }
   },
   "source": [
    "### Side-note: naming conventions\n",
    "\n",
    "As a general rule of thumb, python classes are named in \"camel case\": capitalized first letters, no space. So, suppose you want to represent bad guys, then you'd name the corresponding class `BadGuy`. \n",
    "\n",
    "In python, variables and objects are also conventionally named in \"snake case\": everything in lowercase, with spaces represented by underscores `_`. Hence the `noam_chimpsky`\n",
    "\n",
    "## Exercise #2: Create your own class\n",
    "\n",
    "Create a class called `Hero`. `Hero` objects should have two attributes: a `name` and a `super_power`."
   ]
  },
  {
   "cell_type": "code",
   "execution_count": 4,
   "metadata": {
    "pycharm": {
     "name": "#%%\n"
    }
   },
   "outputs": [],
   "source": [
    "# your implementation of the class here!\n",
    "class Hero:\n",
    "    def __init__(self, name, super_power):\n",
    "        self.name = name\n",
    "        self.super_power = super_power\n",
    "\n",
    "    def use_power(self):\n",
    "        print('I\\'m ' + self.name + ' and I\\'m using my powers of ' +self.super_power + '!')\n",
    "\n",
    "    def defeat(self, loser_badguy, mistreated_monkeys=[]):\n",
    "        self.use_power()\n",
    "        print('The BadGuy has been vanquished.')\n",
    "        num_peanuts = loser_badguy.stolen_peanuts\n",
    "        loser_badguy.stolen_peanuts = 0\n",
    "        print(str(num_peanuts) + ' peanuts were retrieved.')\n",
    "\n",
    "        if len(mistreated_monkeys)>=0:\n",
    "            assigned = num_peanuts / len(mistreated_monkeys)\n",
    "\n",
    "            for monkey in mistreated_monkeys:\n",
    "                monkey.number_of_peanuts = assigned\n",
    "                print(str(assigned) + ' peanuts is given to ' + monkey.name)\n",
    "\n",
    "\n",
    "lucky_luke = Hero(\"Lucky Luke\", super_power=\"shooting faster than his shadow\")"
   ]
  },
  {
   "cell_type": "markdown",
   "metadata": {
    "pycharm": {
     "name": "#%% md\n"
    }
   },
   "source": [
    "## Review #2:  Bound functions, or \"methods\"\n",
    "\n",
    "One very powerful aspect of objects is that we can supplement them with custom functions. This allows us to define behavior specifically for objects of our class.\n",
    "\n",
    "One example of a method is the function `list.append(elem)`, which adds an element at the end of a list. This behavior is specific for lists, and it wouldn't make sense to have it for integers or monkeys.\n",
    "\n",
    "Here's how we implement methods:"
   ]
  },
  {
   "cell_type": "code",
   "execution_count": 8,
   "metadata": {
    "pycharm": {
     "name": "#%%\n"
    }
   },
   "outputs": [
    {
     "name": "stdout",
     "output_type": "stream",
     "text": [
      "Welcome to my evil lair, hero!\n",
      "I am Dr. Doom!\n",
      "I am so evil that I have stolen 0 peanuts from random monkeys!\n"
     ]
    }
   ],
   "source": [
    "class BadGuy:\n",
    "    \"\"\"A class describing the arch-nemisis of a hero!\"\"\"\n",
    "    def __init__(self, name):\n",
    "        self.name = name\n",
    "        self.stolen_peanuts = 0\n",
    "        \n",
    "    def greetings(self):\n",
    "        print(\"Welcome to my evil lair, hero!\") \n",
    "        print(\"I am %s!\" % self.name)\n",
    "        print(\"I am so evil that I have stolen %i peanuts from random monkeys!\" % self.stolen_peanuts)\n",
    "\n",
    "    def steal_peanut(self, monkey_victim):\n",
    "        if monkey_victim.number_of_peanuts >0:\n",
    "            monkey_victim.number_of_peanuts -= 1\n",
    "            self.stolen_peanuts += 1\n",
    "            print(\"I stolen one peanut from a monkey. \"+ monkey_victim.name)\n",
    "\n",
    "        if monkey_victim.number_of_peanuts <=0:\n",
    "            print('The BadGuy couldn\\'t steal peanuts as the monkey didn\\'t have any. ' + monkey_victim.name)\n",
    "dr_doom = BadGuy(\"Dr. Doom\")\n",
    "dr_doom.greetings()"
   ]
  },
  {
   "cell_type": "markdown",
   "metadata": {
    "pycharm": {
     "name": "#%% md\n"
    }
   },
   "source": [
    "As you can see, we use the `self` argument to represent the object itself. This `self` argument gives you access to the attributes of the object itself.\n",
    "\n",
    "**NB**: All object methods must contain this `self` argument, as the first positional argument of the method. Otherwise the python interpreter will be unable to correctly handle your code.\n",
    "\n",
    "## Exercise #3: With great powers come great implementations\n",
    "\n",
    "Modify your implementation of the `Hero` class to add a method called `use_power`. When called, this method should print a message describing the hero using his super power! \n"
   ]
  },
  {
   "cell_type": "code",
   "execution_count": 6,
   "metadata": {
    "pycharm": {
     "name": "#%%\n"
    }
   },
   "outputs": [
    {
     "name": "stdout",
     "output_type": "stream",
     "text": [
      "I'm Lucky Luke and I'm using my powers of shooting faster than their shadow!\n"
     ]
    }
   ],
   "source": [
    "# Modify your implementation of the `Hero` class from exercise 2\n",
    "lucky_luke = Hero(\"Lucky Luke\", super_power=\"shooting faster than their shadow\")\n",
    "lucky_luke.use_power()\n",
    "# Should print \"I'm Lucky Luke and I'm using my powers of shooting faster than their shadow!\""
   ]
  },
  {
   "cell_type": "markdown",
   "metadata": {
    "pycharm": {
     "name": "#%% md\n"
    }
   },
   "source": [
    "## Exercise #4:  Tying it all up\n",
    "\n",
    "Modify the implementation of the `BadGuy` class in review 2, to add a method called `steal_peanut`. \n",
    "\n",
    "- This method should have one positional argument `monkey_victim`, which should be a `Monkey ` object.\n",
    "- If the `Monkey` object owns a positive number of peanuts, then remove one peanut from it, add one to the amount of peanuts stolen by the `BadGuy` object. Print a message to describe the process.\n",
    "- If the `Monkey` has zero peanuts, print a message saying that the `BadGuy` couldn't steal peanuts as the `monkey` didn't have any.\n",
    "\n",
    "Modify the implementation of the `Hero` class to add a method called `defeat`.\n",
    "- This method should have one positional argument `loser_badguy`, as well as one keyword argument `mistreated_monkeys`, defaulting to an empty list.\n",
    "- Start by using the hero's super-power, by calling the hero's `use_power` method.\n",
    "- Print a message stating that the `BadGuy` has been vanquished.\n",
    "- Retrieve all the peanuts stolen by the `BadGuy`: get the number of peanuts stolen by the `BadGuy`, and then set the bad guy's `stolen_peanuts` attribute to zero.\n",
    "- Print a message stating how many peanuts were retrieved.\n",
    "- If there are any victim `Monkey` in your `mistreated_monkeys`, distribute the retrieved peanuts fairly among them (all monkeys should receive the same number of peanuts) and print a custom message stating how many peanuts are given to each monkey (state the names of the monkeys!). (Note: if there are any remaining peanuts that you cannot distribute fairly, the monkeys are happy to let you have those as a reward for helping them.)\n",
    "\n",
    "**You are free to decide the exact messages that you display**. \n",
    "\n",
    "Once you're done, uncomment the last instruction in the following cell and run it to see the story unfold!"
   ]
  },
  {
   "cell_type": "code",
   "execution_count": 9,
   "metadata": {
    "pycharm": {
     "name": "#%%\n"
    }
   },
   "outputs": [
    {
     "name": "stdout",
     "output_type": "stream",
     "text": [
      "I stolen one peanut from a monkey. Noam Chimpsky\n",
      "I stolen one peanut from a monkey. Harambe\n",
      "The BadGuy couldn't steal peanuts as the monkey didn't have any. Harambe\n",
      "I stolen one peanut from a monkey. Noam Chimpsky\n",
      "The BadGuy couldn't steal peanuts as the monkey didn't have any. Harambe\n",
      "I stolen one peanut from a monkey. Noam Chimpsky\n",
      "The BadGuy couldn't steal peanuts as the monkey didn't have any. Harambe\n",
      "I stolen one peanut from a monkey. Noam Chimpsky\n",
      "The BadGuy couldn't steal peanuts as the monkey didn't have any. Harambe\n",
      "I stolen one peanut from a monkey. Noam Chimpsky\n",
      "The BadGuy couldn't steal peanuts as the monkey didn't have any. Harambe\n",
      "I stolen one peanut from a monkey. Noam Chimpsky\n",
      "The BadGuy couldn't steal peanuts as the monkey didn't have any. Harambe\n",
      "I stolen one peanut from a monkey. Noam Chimpsky\n",
      "The BadGuy couldn't steal peanuts as the monkey didn't have any. Harambe\n",
      "I stolen one peanut from a monkey. Noam Chimpsky\n",
      "The BadGuy couldn't steal peanuts as the monkey didn't have any. Harambe\n",
      "I stolen one peanut from a monkey. Noam Chimpsky\n",
      "The BadGuy couldn't steal peanuts as the monkey didn't have any. Harambe\n",
      "I stolen one peanut from a monkey. Noam Chimpsky\n",
      "The BadGuy couldn't steal peanuts as the monkey didn't have any. Noam Chimpsky\n",
      "The BadGuy couldn't steal peanuts as the monkey didn't have any. Harambe\n",
      "Welcome to my evil lair, hero!\n",
      "I am Dr. Doom!\n",
      "I am so evil that I have stolen 11 peanuts from random monkeys!\n",
      "I'm Lucky Luke and I'm using my powers of shooting faster than his shadow!\n",
      "The BadGuy has been vanquished.\n",
      "11 peanuts were retrieved.\n",
      "5.5 peanuts is given to Noam Chimpsky\n",
      "5.5 peanuts is given to Harambe\n"
     ]
    }
   ],
   "source": [
    "def tell_a_story():\n",
    "    \"\"\"Tells the great tale of a heroic cow-boy saving oppressed monkeys for the cruel Dr. Doom\"\"\"\n",
    "    monkeys = [\n",
    "        Monkey(\"Noam Chimpsky\", \"chimpanzee\", 10),\n",
    "        Monkey(\"Harambe\", \"pirate gorilla\", 1),\n",
    "    ]\n",
    "\n",
    "    bad_guy = BadGuy(\"Dr. Doom\")\n",
    "\n",
    "    while any(m.number_of_peanuts > 0 for m in monkeys):\n",
    "        for monkey in monkeys:\n",
    "            bad_guy.steal_peanut(monkey)\n",
    "\n",
    "    hero = Hero(\"Lucky Luke\", super_power=\"shooting faster than his shadow\")\n",
    "\n",
    "    bad_guy.greetings()\n",
    "\n",
    "    hero.defeat(bad_guy, mistreated_monkeys=monkeys)\n",
    "    \n",
    "    \n",
    "# Uncomment this when you're done implementing everything\n",
    "tell_a_story()"
   ]
  },
  {
   "cell_type": "markdown",
   "metadata": {
    "pycharm": {
     "name": "#%% md\n"
    }
   },
   "source": [
    "## Part #2 Primatology"
   ]
  },
  {
   "cell_type": "markdown",
   "metadata": {
    "pycharm": {
     "name": "#%% md\n"
    }
   },
   "source": [
    "### Review #3 Basic Class\n",
    "\n",
    "Let’s create a class to represent all possible apes! To start with, our friendly apes will all have their own names, stash of nuts, last known living place, as well as whether they understand American Sign Language.\n",
    "\n",
    "```Python\n",
    "class Ape:\n",
    "    def __init__(self, name, nut_stash, location, speaks_asl=False):\n",
    "        self.name = name\n",
    "        self.nut_stash = nut_stash\n",
    "        self.location = location\n",
    "        self.speaks_asl = speaks_asl\n",
    "```\n",
    "\n",
    "Our argument `speaks_asl` will be a boolean. For now, let's have `nut_stash` be an integer, the number of nuts they have. Other arguments to this constructor will be strings.\n",
    "\n",
    "Running the following code cell will create a class object `Ape` and print some information about it.\n",
    "\n",
    "**Note**: *If you change the content of this class definition, you will need to re-execute the code cell for it to have any effect. Any instance objects of the old class object will not be automatically updated, so you may need to rerun instantiations of this class object as well.*"
   ]
  },
  {
   "cell_type": "code",
   "execution_count": 10,
   "metadata": {
    "pycharm": {
     "name": "#%%\n"
    }
   },
   "outputs": [
    {
     "name": "stdout",
     "output_type": "stream",
     "text": [
      "<class '__main__.Ape'>\n",
      "[<class '__main__.Ape'>, <class 'object'>]\n",
      "<function Ape.__init__ at 0x00000254EFA2AC10>\n"
     ]
    }
   ],
   "source": [
    "class Ape:\n",
    "    def __init__(self, name, nut_stash, location, speaks_asl=False):\n",
    "        self.name = name\n",
    "        self.nut_stash = nut_stash\n",
    "        self.location = location\n",
    "        self.speaks_asl = speaks_asl\n",
    "        \n",
    "print(Ape)\n",
    "print(Ape.mro()) # Method Resolution Order\n",
    "print(Ape.__init__)"
   ]
  },
  {
   "cell_type": "markdown",
   "metadata": {
    "pycharm": {
     "name": "#%% md\n"
    }
   },
   "source": [
    "We create an instance of the class by instantiating the class object, supplying some arguments.\n",
    "\n",
    "```Python\n",
    "washoe = Ape(\"Washoe\", 41, \"Central Washington University\", speaks_asl=True)\n",
    "```\n",
    "\n",
    "### Exercise #5: Meet your Monkey\n",
    "\n",
    "Print out the four attributes of the `washoe` instance object."
   ]
  },
  {
   "cell_type": "code",
   "execution_count": 11,
   "metadata": {
    "pycharm": {
     "name": "#%%\n"
    }
   },
   "outputs": [
    {
     "name": "stdout",
     "output_type": "stream",
     "text": [
      "Washoe\n",
      "41\n",
      "Central Washington University\n",
      "True\n"
     ]
    }
   ],
   "source": [
    "washoe = Ape(\"Washoe\", 41, \"Central Washington University\", speaks_asl=True)\n",
    "\n",
    "print(washoe.name)  # Print out the name of washoe\n",
    "print(washoe.nut_stash)  # Print out the number of nuts (nut_stash) of washoe\n",
    "print(washoe.location)  # Print out the location of washoe\n",
    "print(washoe.speaks_asl)  # Print out whether Washoe speaks ASL (speaks_asl)"
   ]
  },
  {
   "cell_type": "markdown",
   "metadata": {
    "pycharm": {
     "name": "#%% md\n"
    }
   },
   "source": [
    "### Review #4 Inheritance\n",
    "\n",
    "Let's explore inheritance by creating a `Gorilla` class that takes two additional parameters, `job`, which should be a string, and `is_silver_back` that defaults to `False`."
   ]
  },
  {
   "cell_type": "code",
   "execution_count": 12,
   "metadata": {
    "pycharm": {
     "name": "#%%\n"
    }
   },
   "outputs": [],
   "source": [
    "class Gorilla(Ape):\n",
    "    def __init__(self, name, nut_stash, location, job, speaks_asl=False, is_silver_back=False):\n",
    "        super().__init__(name, nut_stash, location, speaks_asl=False)\n",
    "        self.job = job\n",
    "        self.is_silver_back = is_silver_back"
   ]
  },
  {
   "cell_type": "markdown",
   "metadata": {
    "pycharm": {
     "name": "#%% md\n"
    }
   },
   "source": [
    "We haven't seen the `super()` call yet, and it's mostly just magic, but it concretely lets us treat the `self` object as an instance object of the immediate superclass (as measured by MRO), so we can call the superclass's `__init__` method.\n",
    "\n",
    "We can instantiate our new class:\n",
    "\n",
    "```Python\n",
    "washoe = Ape(\"Washoe\", 41, \"Central Washington University\", speaks_asl=True)\n",
    "harambe = Gorilla(\"Harambe\", 106, \"Rumahoy Pirate Ship\", \"pirate\", is_silver_back=True)\n",
    "koko = Gorilla(\"Hanabiko\", 77, \"Woodside, CA\", \"pet owner\", speaks_asl=True)\n",
    "print(harambe.job)  # => \"pirate\"\n",
    "print(koko.job)  # => \"pet owner\"\n",
    "```\n",
    "\n",
    "Read through the following statements and try to predict their output.\n",
    "\n",
    "```Python\n",
    "type(washoe)\n",
    "isinstance(washoe, Ape)\n",
    "isinstance(harambe, Ape)\n",
    "isinstance(koko, Ape)\n",
    "isinstance(koko, Gorilla)\n",
    "issubclass(koko, Gorilla)\n",
    "issubclass(Ape, Gorilla)\n",
    "type(washoe) == type(harambe)\n",
    "type(harambe) == type(koko)\n",
    "washoe == harambe\n",
    "harambe == koko\n",
    "```"
   ]
  },
  {
   "cell_type": "code",
   "execution_count": 13,
   "metadata": {
    "pycharm": {
     "name": "#%%\n"
    }
   },
   "outputs": [
    {
     "name": "stdout",
     "output_type": "stream",
     "text": [
      "<class '__main__.Ape'>\n",
      "True\n",
      "True\n",
      "True\n",
      "True\n",
      "False\n",
      "True\n",
      "False\n",
      "True\n",
      "False\n",
      "False\n"
     ]
    }
   ],
   "source": [
    "washoe = Ape(\"Washoe\", 41, \"Central Washington University\", speaks_asl=True)\n",
    "harambe = Gorilla(\"Harambe\", 106, \"Rumahoy Pirate Ship\", \"pirate\", is_silver_back=True)\n",
    "koko = Gorilla(\"Hanabiko\", 77, \"Woodside, CA\", \"pet owner\", speaks_asl=True)\n",
    "\n",
    "print(type(washoe))\n",
    "print(isinstance(washoe, Ape))\n",
    "print(isinstance(harambe, Ape))\n",
    "print(isinstance(koko, Ape))\n",
    "print(isinstance(koko, Gorilla))\n",
    "print(issubclass(Ape, Gorilla))\n",
    "print(issubclass(Gorilla, Ape))\n",
    "print(type(washoe) == type(harambe))\n",
    "print(type(harambe) == type(koko))\n",
    "print(washoe == harambe)\n",
    "print(harambe == koko)"
   ]
  },
  {
   "cell_type": "markdown",
   "metadata": {
    "pycharm": {
     "name": "#%% md\n"
    }
   },
   "source": [
    "# Submission exercises - #6, #7 and #8"
   ]
  },
  {
   "cell_type": "markdown",
   "metadata": {
    "pycharm": {
     "name": "#%% md\n"
    }
   },
   "source": [
    "### Exercise #6: Stashing nuts\n",
    "\n",
    "Let's add more functionality to the `Ape` class!\n",
    "\n",
    "1. Start by creating a `Nut` class, with two attributes: `nut_type`, a string giving the type of nut (cashew, walnut, peanut...) and `is_edible`, a boolean showing whether apes can eat those, which should default to `True`.\n",
    "2. Modify the implementation of the `Ape` class: `nut_stash` should default to an empty `list`.\n",
    "3. Create a method `stash_nuts(*nuts)` that takes a variadic number of `Nut` objects and adds them to the ape's stash.\n",
    "4. Create a method `has_nut(nut)` that takes the `str` name of a `Nut` and returns `True` if the `nut_stash` contains such a nut, and `False` otherwise.\n",
    "5. (Bonus): modify your method `has_nut` so that it can accept either a `str` for the nut name, or a `Nut` directly"
   ]
  },
  {
   "cell_type": "code",
   "execution_count": 15,
   "metadata": {
    "pycharm": {
     "name": "#%%\n"
    }
   },
   "outputs": [
    {
     "name": "stdout",
     "output_type": "stream",
     "text": [
      "True\n",
      "False\n"
     ]
    }
   ],
   "source": [
    "class Nut:\n",
    "    # your implementation\n",
    "     def __init__(self, nut_type, is_edible=True):\n",
    "        self.nut_type = nut_type\n",
    "        self.is_edible = is_edible\n",
    "\n",
    "# Copy your previous implementation of the Ape class here,\n",
    "# or tweak the implementation you did in a previous cell\n",
    "class Ape:\n",
    "    def __init__(self,  name, location, speaks_asl, nut_stash=[]):\n",
    "        self.name = name\n",
    "        self.nut_stash = nut_stash\n",
    "        self.location = location\n",
    "        self.speaks_asl = speaks_asl\n",
    "\n",
    "    def stash_nuts(self, *nuts):\n",
    "        for cell in nuts:\n",
    "            self.nut_stash.append(cell)\n",
    "\n",
    "    def has_nut(self, nut):\n",
    "        if isinstance(nut, Nut):\n",
    "            for cell in self.nut_stash:\n",
    "                if nut.nut_type == cell.nut_type:\n",
    "                    return True\n",
    "\n",
    "        else:\n",
    "            for cell in self.nut_stash:\n",
    "                if nut == cell.nut_type :\n",
    "                    return True\n",
    "\n",
    "        return False\n",
    "washoe = Ape(\"Washoe\", \"Central Washington University\", speaks_asl=True)\n",
    "washoe.stash_nuts(\n",
    "    Nut(\"cashew\"), \n",
    "    Nut(\"peanut\"), \n",
    "    Nut(\"peanut\"), \n",
    "    Nut(\"walnut\"),\n",
    ")\n",
    "\n",
    "print(washoe.has_nut(\"walnut\"))\n",
    "# uncomment when done with bonus\n",
    "print(washoe.has_nut(Nut(\"hazelnut\")))"
   ]
  },
  {
   "cell_type": "markdown",
   "metadata": {
    "pycharm": {
     "name": "#%% md\n"
    }
   },
   "source": [
    "### Exercise #7: Pretty monkeys\n",
    "\n",
    "The default printing representation for python objects looks pretty dreary, and is not very informative. To overcome this, python proposes two special method names: `__str__` and `__repr__`, which both return a `str` object. Implementing any of these methods will modify how objects are represented.\n",
    "\n",
    "There is a slight semantic difference between the two methods: the `__str__` is used to find the \"informal\" (human-friendly) string representation of an object whereas `__repr__` is used to find the \"official (computer-neurotic) string representation of an object.\n",
    "\n",
    "Modify the implementation of the `Ape` so that they return a more friendly presentation:\n",
    "\n",
    "```Python\n",
    "washoe = Ape(\"Washoe\", \"Central Washington University\", speaks_asl=True)\n",
    "print(washoe)\n",
    "# => should print 'Ape (name: \"Washoe\", 0 peanuts)'\n",
    "\n",
    "nim = Ape(\"Neam Chimpsky\", \"Black Beauty Ranch, TX\", speaks_asl=True, nut_stash=[Nut(\"walnut\"), Nut(\"peanut\")])\n",
    "# => should print 'Ape (name: \"Neam Chimpsky\", 2 peanuts)'\n",
    "```"
   ]
  },
  {
   "cell_type": "code",
   "execution_count": 16,
   "metadata": {
    "pycharm": {
     "name": "#%%\n"
    }
   },
   "outputs": [
    {
     "name": "stdout",
     "output_type": "stream",
     "text": [
      "Ape (name: \"Washoe\", 0 peanuts)\n",
      "Ape (name: \"Neam Chimpsky\", 2 peanuts)\n"
     ]
    }
   ],
   "source": [
    "# Copy your previous implementation of the Ape class here,\n",
    "# or tweak the implementation you did in a previous cell\n",
    "class Ape:\n",
    "    def __init__(self,  name, location, speaks_asl, nut_stash=[]):\n",
    "        self.name = name\n",
    "        self.nut_stash = nut_stash\n",
    "        self.location = location\n",
    "        self.speaks_asl = speaks_asl\n",
    "\n",
    "    def stash_nuts(self, *nuts):\n",
    "        for cell in nuts:\n",
    "            self.nut_stash.append(cell)\n",
    "\n",
    "    def has_nut(self, nut):\n",
    "        if isinstance(nut, Nut):\n",
    "            for cell in self.nut_stash:\n",
    "                if nut.nut_type == cell.nut_type:\n",
    "                    return True\n",
    "\n",
    "        else:\n",
    "            for cell in self.nut_stash:\n",
    "                if nut == cell.nut_type :\n",
    "                    return True\n",
    "\n",
    "        return False\n",
    "\n",
    "    def __str__(self):\n",
    "        # in any case, make sure to implement this method!\n",
    "        return \"Ape (name: \\\"{0}\\\", {1} peanuts)\".format(self.name, len(self.nut_stash))\n",
    "\n",
    "washoe = Ape(\"Washoe\", \"Central Washington University\", speaks_asl=True)\n",
    "print(washoe)\n",
    "# => should print 'Ape (name: \"Washoe\", 0 peanuts)'\n",
    "\n",
    "nim = Ape(\"Neam Chimpsky\", \"Black Beauty Ranch, TX\", speaks_asl=True, nut_stash=[Nut(\"walnut\"), Nut(\"peanut\")])\n",
    "print(nim)\n",
    "# => should print 'Ape (name: \"Neam Chimpsky\", 2 peanuts)'"
   ]
  },
  {
   "cell_type": "markdown",
   "metadata": {
    "pycharm": {
     "name": "#%% md\n"
    }
   },
   "source": [
    "### Exercise #8 Gorilla hierarchy\n",
    "\n",
    "Now, we'll focus on the `Gorilla` class. We want to implement functionality to determine if one gorilla ranks higher in the pack than another. \n",
    "\n",
    "Higher ranking apes have stashes that contain more nuts than low-ranking gorillas. In addition, silver-back gorillas always rank higher in the pack than other gorillas.\n",
    "\n",
    "\n",
    "```Python\n",
    ">>> harambe = Gorilla(\"Harambe\", \"Rumahoy Pirate Ship\", \"pirate\", is_silver_back=True)\n",
    ">>> harambe.stash_nuts(*[Nut(\"peanut\")] * 106)\n",
    ">>> koko = Gorilla(\"Hanabiko\", \"Woodside, CA\", \"pet owner\", speaks_asl=True)\n",
    ">>> koko.stash_nuts(*[Nut(\"peanut\")] * 77)\n",
    ">>> grodd = Gorilla(\"Gorilla Grodd\", \"Black Hole HQ\", \"super-villain\", is_silver_back=True)\n",
    ">>> grodd.stash_nuts(*[Nut(\"peanut\")] * 42)\n",
    ">>> harambe > koko\n",
    "True\n",
    ">>> grodd > harambe\n",
    "False\n",
    "```\n",
    "\n",
    "To accomplish this, you will need to implement a magic method `__le__` that will add functionality to determine whether an ape ranks higher in the pack than another. Read up on [total ordering](https://docs.python.org/3/library/functools.html#functools.total_ordering) to figure out what `__le__` should return based on the argument you pass in.\n",
    "\n",
    "To give a few hints on how to add this piece of functionality might be implemented, consider how you might extract the actual `int` number from the nut_stash attribute.\n",
    "\n",
    "We'll start by implementing a `__eq__` on `Ape`s. Two apes are equivalent if they have the same name, equivalent nuts stash, and the same fluency with ASL. Location doesn't matter. \n",
    "\n",
    "Then implemente a `__le__` method for all `Ape`s, `__le__` means \"less or equal to\". Keep in mind it depends only on the size of the nut stash.\n",
    "\n",
    "Once you've implemented a `__le__` method for all `Ape`s, do that for `Gorilla` class, and add the additionnal constraint that silver-back `Gorilla`s rank higher in the pack. \n",
    "Hint: consider the `super()` method we saw previously in Review #4.*"
   ]
  },
  {
   "cell_type": "code",
   "execution_count": 38,
   "metadata": {
    "pycharm": {
     "name": "#%%\n"
    }
   },
   "outputs": [],
   "source": [
    "from functools import total_ordering\n",
    "\n",
    "\n",
    "# Copy your previous implementation of the Ape class here,\n",
    "# or tweak the implementation you did in a previous cell\n",
    "@total_ordering\n",
    "class Ape:\n",
    "    def __init__(self, name, location, speaks_asl=False, nut_stash=[]):\n",
    "        self.name = name\n",
    "        self.nut_stash = nut_stash\n",
    "        self.location = location\n",
    "        self.speaks_asl = speaks_asl\n",
    "        \n",
    "    def stash_nuts(self,*nuts):\n",
    "        for cell in nuts:\n",
    "            self.nut_stash.append(cell)\n",
    "    \n",
    "    def has_nut(self,nut):\n",
    "        if isinstance(nut, Nut):\n",
    "            for cell in self.nut_stash:\n",
    "                if nut.nut_type == cell.nut_type:\n",
    "                    return True\n",
    "\n",
    "        else:\n",
    "            for cell in self.nut_stash:\n",
    "                if nut == cell.nut_type :\n",
    "                    return True\n",
    "\n",
    "        return False\n",
    "\n",
    "    def __str__(self):\n",
    "        # in any case, make sure to implement this method!\n",
    "        return \"Ape (name: \\\"{0}\\\", {1} peanuts)\".format(self.name, len(self.nut_stash))\n",
    "\n",
    "    def __repr__(self):\n",
    "         rep = 'Ape(name: \"' + self.name + '\", ' + str(len(self.nut_stash)) + ' peanuts)'\n",
    "         return rep\n",
    "\n",
    "    def __le__(self, other):\n",
    "         # in any case, make sure to implement this method!\n",
    "        if len(self.nut_stash) <= len(other.nut_stash):\n",
    "            return True\n",
    "        else:\n",
    "            return False\n",
    "    \n",
    "    def __eq__(self, other):\n",
    "        # in any case, make sure to implement this method!\n",
    "        if len(self.nut_stash) == len(other.nut_stash):\n",
    "            return True\n",
    "        else:\n",
    "            return False\n",
    "\n",
    "\n",
    "# Copy your previous implementation of the Gorilla class here,\n",
    "# or tweak the implementation you did in a previous cell    \n",
    "class Gorilla(Ape):\n",
    "    def __init__(self, name, location, job,   nut_stash=[], speaks_asl=False, is_silver_back=False):\n",
    "        super().__init__(name,  location, nut_stash=[], speaks_asl=False)\n",
    "        self.job = job\n",
    "        self.is_silver_back = is_silver_back\n",
    "\n",
    "    def __le__(self, other):\n",
    "        # in any case, make sure to implement this method!\n",
    "        if self.is_silver_back==True and other.is_silver_back==False:\n",
    "            return False\n",
    "        elif self.is_silver_back==False and other.is_silver_back==True:\n",
    "            return True\n",
    "        else:\n",
    "            if len(self.nut_stash) <= len(other.nut_stash):\n",
    "                return True\n",
    "            else:\n",
    "                return False"
   ]
  },
  {
   "cell_type": "markdown",
   "metadata": {
    "pycharm": {
     "name": "#%% md\n"
    }
   },
   "source": [
    "#### Sorting\n",
    "\n",
    "Now that we've written a `__le__` method and an `__eq__` method, we've implemented everything we need to speak about an \"ordering\" of `Gorrila`s. Using the [`functools.total_ordering` decorator](https://docs.python.org/3/library/functools.html#functools.total_ordering), decorate the class so that all of the comparison methods are implemented. You should be able to run"
   ]
  },
  {
   "cell_type": "code",
   "execution_count": 39,
   "metadata": {
    "pycharm": {
     "name": "#%%\n"
    }
   },
   "outputs": [
    {
     "name": "stdout",
     "output_type": "stream",
     "text": [
      "[Ape(name: \"Hanabiko\", 77 peanuts), Ape(name: \"Gorilla Grodd\", 42 peanuts), Ape(name: \"Harambe\", 106 peanuts)]\n"
     ]
    }
   ],
   "source": [
    "# Let's make a few gorillas\n",
    "harambe = Gorilla(\"Harambe\", \"Rumahoy Pirate Ship\", \"pirate\", is_silver_back=True)\n",
    "harambe.stash_nuts(*[Nut(\"peanut\")] * 106)\n",
    "\n",
    "koko = Gorilla(\"Hanabiko\", \"Woodside, CA\", \"pet owner\", speaks_asl=True)\n",
    "koko.stash_nuts(*[Nut(\"peanut\")] * 77)\n",
    "\n",
    "grodd = Gorilla(\"Gorilla Grodd\", \"Black Hole HQ\", \"super-villain\", is_silver_back=True)\n",
    "grodd.stash_nuts(*[Nut(\"peanut\")] * 42)\n",
    "\n",
    "gorillas = [harambe, koko, grodd]\n",
    "gorillas.sort()\n",
    "print(gorillas) # => [Ape (name: \"Hanabiko\", 77 peanuts), Ape (name: \"Harambe\", 106 peanuts), Ape (name: \"Gorilla Grodd\", 42 peanuts)]"
   ]
  },
  {
   "cell_type": "markdown",
   "metadata": {
    "pycharm": {
     "name": "#%% md\n"
    }
   },
   "source": [
    "### Review #5 Static & class methods\n",
    "\n",
    "Sometimes, you have a piece of code that doesn't really belong to the object, but definitely belongs to the class.\n",
    "\n",
    "We use static and class methods in this case. \n",
    "\n",
    "```Python\n",
    "import random\n",
    "\n",
    "class Ape:\n",
    "\n",
    "    # some class code\n",
    "    \n",
    "    @classmethod\n",
    "    def invent_random_ape(cls):\n",
    "        name = random.choice([\n",
    "            \"Kanzi\",\n",
    "            \"Chantek\",\n",
    "            \"Panzee\",\n",
    "        ])\n",
    "        location = random.choice([\n",
    "            \"Jungle\",\n",
    "            \"Zoo\", \n",
    "            \"ASL research lab\",\n",
    "        ])\n",
    "        speaks_asl = random.choice([\n",
    "            True,\n",
    "            False,\n",
    "        ])\n",
    "        return cls(name, location, speaks_asl=speaks_asl)\n",
    "    \n",
    "    @staticmethod\n",
    "    def monkey_around():\n",
    "        \"\"\"Tell a monkey joke to lighten the mood.\"\"\"\n",
    "       joke = random.choice([\n",
    "           \"What do monkeys do for laughs? They tell jokes about people.\",\n",
    "           \"All the monkeys from these labs are real!\",\n",
    "           \"What kind of key unlocks a banana? A mon-key.\",\n",
    "       ]) \n",
    "       print(joke)\n",
    "       \n",
    "    # some more class code\n",
    "\n",
    "print(Ape.invent_random_ape()) #=> Ape (name: \"Chantek\", 0 peanuts)\n",
    "print(Ape.monkey_around()) #=> \"What kind of key unlocks a banana? A mon-key.\"\n",
    "```\n",
    "\n",
    "We use specific decorators (starting with `@`) to distinguish which methods are bound to objects, and which are static methods or class method. \n",
    "\n",
    "- Classmethods have a first positional argument called `cls`, representing the class itself (here `Ape`), instead of a `self` (which represent the object instance). You can use that `cls` argument to retrieve the class constructor, for instance.\n",
    "- Note that static methods do not have a positional `self` or `cls` argument. They are just semantically tied to the class, and syntactically they share the same namespace.\n",
    "\n",
    "\n",
    "### Exercise #9: Much ado about peanuts\n",
    "\n",
    "We'll create a static method `nut_inventory(*monkeys)` that takes a variadic number of monkeys as positional arguments, and returns an inventory of all the nuts they have collectively stashed. The inventory should be a python `dict`, mapping nut types to the number of corresponding nuts.\n",
    "\n",
    "**Bonus:** Use the [`Counter` object from the collections library](https://docs.python.org/3/library/collections.html#collections.Counter) to do your inventory. Use `Nut`objects directly as keys. You will most certainly need to have a look at the magic functions [`__hash__` and `__eq__`](https://docs.python.org/3/reference/datamodel.html#object.__hash__)."
   ]
  },
  {
   "cell_type": "code",
   "execution_count": null,
   "metadata": {
    "pycharm": {
     "name": "#%%\n"
    }
   },
   "outputs": [],
   "source": [
    "# Copy your previous implementation of the Nut class here\n",
    "class Nut:\n",
    "    def __init__(self, nut_type, is_edible=True):\n",
    "        self.nut_type = nut_type\n",
    "        self.is_edible = is_edible\n",
    "\n",
    "\n",
    "# Copy your previous implementation of the Ape class here\n",
    "class Ape:\n",
    "    def __init__(self, name, location, speaks_asl=False, nut_stash=[]):\n",
    "        self.name = name\n",
    "        self.nut_stash = nut_stash\n",
    "        self.location = location\n",
    "        self.speaks_asl = speaks_asl\n",
    "\n",
    "    def stash_nuts(self,*nuts):\n",
    "        for cell in nuts:\n",
    "            self.nut_stash.append(cell)\n",
    "\n",
    "    def has_nut(self,nut):\n",
    "        if isinstance(nut, Nut):\n",
    "            for cell in self.nut_stash:\n",
    "                if nut.nut_type == cell.nut_type:\n",
    "                    return True\n",
    "\n",
    "        else:\n",
    "            for cell in self.nut_stash:\n",
    "                if nut == cell.nut_type :\n",
    "                    return True\n",
    "\n",
    "        return False\n",
    "\n",
    "    def __str__(self):\n",
    "        # in any case, make sure to implement this method!\n",
    "        return \"Ape (name: \\\"{0}\\\", {1} peanuts)\".format(self.name, len(self.nut_stash))\n",
    "\n",
    "    # def __repr__(self):\n",
    "    #     pass\n",
    "\n",
    "    def __lt__(self, other):\n",
    "            if len(self.nut_stash) < len(other.nut_stash):\n",
    "                return True\n",
    "            else:\n",
    "                return False\n",
    "\n",
    "    def __le__(self, other):\n",
    "         # in any case, make sure to implement this method!\n",
    "        if len(self.nut_stash) <= len(other.nut_stash):\n",
    "            return True\n",
    "        else:\n",
    "            return False\n",
    "\n",
    "    def __gt__(self, other):\n",
    "        if len(self.nut_stash) > len(other.nut_stash):\n",
    "            return True\n",
    "        else:\n",
    "            return False\n",
    "\n",
    "    def __ge__(self, other):\n",
    "        if len(self.nut_stash) >= len(other.nut_stash):\n",
    "            return True\n",
    "        else:\n",
    "            return False\n",
    "\n",
    "    def __eq__(self, other):\n",
    "        # in any case, make sure to implement this method!\n",
    "        if len(self.nut_stash) == len(other.nut_stash):\n",
    "            return True\n",
    "        else:\n",
    "            return False\n",
    "\n",
    "    @staticmethod\n",
    "    def nut_inventory(self, *monkeys):\n",
    "        result = dict()\n",
    "        for monkey in monkeys:\n",
    "            for nut in monkey.nut_stash:\n",
    "                if(bool(result.get(nut.nut_type))):\n",
    "                    result[nut.nut_type] +=1\n",
    "                else:\n",
    "                    result[nut.nut_type] =1\n",
    "        return result"
   ]
  },
  {
   "cell_type": "markdown",
   "metadata": {
    "pycharm": {
     "name": "#%% md\n"
    }
   },
   "source": [
    "# Submission instructions\n",
    "\n",
    "You know the drill, mandrill!\n",
    "\n",
    "You will need to submit exercises #6 `Stashing nuts`, #7 `Pretty Monkeys` and #8 `Gorilla Hierarchy`) on Arche before 9:59am on Friday, 2nd December. For the classes where you needed to expand the implementation for each exercise, you can submit only the final version of that class that cover all three exercises. Submit either a `.py` or an `.ipynb` file containing the classes and functions you wrote for the three exercises and name it `td6_firstname_lastname.py` or `td6_firstname_lastname.ipynb` accordingly, where `firstname` should be your first name and `lastname` should be your last name (e.h. Jane Doe's submission should be called `td6_jane_doe.py` or `td6_jane_doe.ipynb`, depending on whether Jane submitted a Python script or a Jupyter notebook).\n",
    "\n",
    "To evaluate your submission, we will be looking at the following criteria:\n",
    "\n",
    "- Does your code run? (So **run** your program at least once before submitting!)\n",
    "- Does it run correctly? (So **test** your solution with a few different inputs!)\n",
    "- Is your code well-commented?\n",
    "- Is your code well-structured?\n",
    "\n",
    "> updated from tmickus's 2020 lab"
   ]
  },
  {
   "cell_type": "code",
   "execution_count": null,
   "metadata": {
    "pycharm": {
     "name": "#%%\n"
    }
   },
   "outputs": [],
   "source": []
  }
 ],
 "metadata": {
  "kernelspec": {
   "display_name": "Python 3",
   "language": "python",
   "name": "python3"
  },
  "language_info": {
   "codemirror_mode": {
    "name": "ipython",
    "version": 3
   },
   "file_extension": ".py",
   "mimetype": "text/x-python",
   "name": "python",
   "nbconvert_exporter": "python",
   "pygments_lexer": "ipython3",
   "version": "3.7.4"
  }
 },
 "nbformat": 4,
 "nbformat_minor": 4
}