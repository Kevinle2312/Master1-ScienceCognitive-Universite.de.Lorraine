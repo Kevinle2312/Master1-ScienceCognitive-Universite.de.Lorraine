{
 "cells": [
  {
   "cell_type": "markdown",
   "source": [
    "**Library**"
   ],
   "metadata": {
    "collapsed": false,
    "pycharm": {
     "name": "#%% md\n"
    }
   }
  },
  {
   "cell_type": "code",
   "execution_count": 2,
   "outputs": [],
   "source": [
    "from scipy.stats import ttest_1samp\n",
    "import numpy as np"
   ],
   "metadata": {
    "collapsed": false,
    "pycharm": {
     "name": "#%%\n"
    }
   }
  },
  {
   "cell_type": "markdown",
   "source": [
    "<h1>Height of Sunflowers</h1>\n",
    "\n",
    "A biologist was interested in determining whether sunflower seedlings treated with an extract from Vinca minor\n",
    "roots resulted in a lower average height of sunflower seedlings than the standard height of 15.7 cm. The biologist\n",
    "treated a random sample of n = 33 seedlings with the extract and subsequently obtained the following heights:\n",
    "    11.5 11.8 15.7 16.1 14.1 10.5 9.3 15.0 11.1 15.2 19.0 12.8 12.4 19.2 13.5 12.2 13.3 16.5 13.5 14.4 16.7 10.9 13.0, 10.3 15.8 15.1 17.1 13.3 12.4 8.5 14.3 12.9 13.5\n",
    "Test the different hypothesis using the critical region method and p value method with Python"
   ],
   "metadata": {
    "collapsed": false,
    "pycharm": {
     "name": "#%% md\n"
    }
   }
  },
  {
   "cell_type": "code",
   "execution_count": 5,
   "outputs": [
    {
     "name": "stdout",
     "output_type": "stream",
     "text": [
      "13.663636363636364\n"
     ]
    }
   ],
   "source": [
    "height = np.array([11.5, 11.8, 15.7, 16.1, 14.1, 10.5, 9.3, 15.0, 11.1, 15.2, 19.0, 12.8, 12.4, 19.2, 13.5, 12.2, 13.3, 16.5, 13.5, 14.4, 16.7, 10.9, 13.0, 10.3, 15.8, 15.1, 17.1, 13.3, 12.4, 8.5, 14.3, 12.9, 13.5])\n",
    "height_mean = np.mean(height)\n",
    "print(height_mean)"
   ],
   "metadata": {
    "collapsed": false,
    "pycharm": {
     "name": "#%%\n"
    }
   }
  },
  {
   "cell_type": "markdown",
   "source": [
    "μ = 15.7 versus μ > 15.7"
   ],
   "metadata": {
    "collapsed": false,
    "pycharm": {
     "name": "#%% md\n"
    }
   }
  },
  {
   "cell_type": "code",
   "execution_count": 13,
   "outputs": [
    {
     "name": "stdout",
     "output_type": "stream",
     "text": [
      "0.9999682575604301\n"
     ]
    }
   ],
   "source": [
    "tset, pval = ttest_1samp(height,15.7,alternative='greater')\n",
    "print (pval)"
   ],
   "metadata": {
    "collapsed": false,
    "pycharm": {
     "name": "#%%\n"
    }
   }
  },
  {
   "cell_type": "markdown",
   "source": [
    "μ = 15.7 versus μ different 15.7"
   ],
   "metadata": {
    "collapsed": false,
    "pycharm": {
     "name": "#%% md\n"
    }
   }
  },
  {
   "cell_type": "code",
   "execution_count": 6,
   "outputs": [
    {
     "name": "stdout",
     "output_type": "stream",
     "text": [
      "6.348487914001979e-05\n"
     ]
    }
   ],
   "source": [
    "tset, pval = ttest_1samp(height,15.7)\n",
    "print(pval)"
   ],
   "metadata": {
    "collapsed": false,
    "pycharm": {
     "name": "#%%\n"
    }
   }
  },
  {
   "cell_type": "markdown",
   "source": [
    "<h1>Gum Thickness</h1>\n",
    "\n",
    "A manufacturer claims that the thickness of the spearmint gum it produces is 7.5 one-hundredths of an inch. A\n",
    "quality control specialist regularly checks this claim. On one production run, he took a random sample of n = 10\n",
    "pieces of gum and measured their thickness. He obtained:\n",
    "    7.65 7.60 7.65 7.70 7.55 7.55 7.40 7.40 7.50 7.50\n",
    "To perform quality control, test the different hypothesis using the critical region method and p value method with Python"
   ],
   "metadata": {
    "collapsed": false,
    "pycharm": {
     "name": "#%% md\n"
    }
   }
  },
  {
   "cell_type": "code",
   "execution_count": 10,
   "outputs": [
    {
     "data": {
      "text/plain": "7.55"
     },
     "execution_count": 10,
     "metadata": {},
     "output_type": "execute_result"
    }
   ],
   "source": [
    "thickness = np.array([7.65, 7.60, 7.65, 7.70, 7.55, 7.55, 7.40, 7.40, 7.50, 7.50])\n",
    "thickness_mean = np.mean(thickness)\n",
    "thickness_mean"
   ],
   "metadata": {
    "collapsed": false,
    "pycharm": {
     "name": "#%%\n"
    }
   }
  },
  {
   "cell_type": "markdown",
   "source": [
    "μ = 7.5 versus μ > 7.5"
   ],
   "metadata": {
    "collapsed": false,
    "pycharm": {
     "name": "#%% md\n"
    }
   }
  },
  {
   "cell_type": "code",
   "execution_count": 16,
   "outputs": [
    {
     "name": "stdout",
     "output_type": "stream",
     "text": [
      "0.07909771026938989\n"
     ]
    }
   ],
   "source": [
    "tset, pval = ttest_1samp(thickness,7.5,alternative='greater')\n",
    "print (pval)"
   ],
   "metadata": {
    "collapsed": false,
    "pycharm": {
     "name": "#%%\n"
    }
   }
  },
  {
   "cell_type": "markdown",
   "source": [
    "μ = 7.5 versus μ 6= 7.5"
   ],
   "metadata": {
    "collapsed": false,
    "pycharm": {
     "name": "#%% md\n"
    }
   }
  },
  {
   "cell_type": "code",
   "execution_count": 18,
   "outputs": [
    {
     "name": "stdout",
     "output_type": "stream",
     "text": [
      "0.15819542053877977\n"
     ]
    }
   ],
   "source": [
    "tset, pval = ttest_1samp(thickness,7.5)\n",
    "print (pval)"
   ],
   "metadata": {
    "collapsed": false,
    "pycharm": {
     "name": "#%%\n"
    }
   }
  },
  {
   "cell_type": "markdown",
   "source": [
    "if alpa = 0.05 we accept H0, if alpha = 0.1 we reject."
   ],
   "metadata": {
    "collapsed": false,
    "pycharm": {
     "name": "#%% md\n"
    }
   }
  },
  {
   "cell_type": "markdown",
   "source": [
    "<h1>Efficiency of Anti-Wrinkle Face treatment</h1>\n",
    "\n",
    "In a population, the proportion of individual having wrinkles is 25%. We study group of 200 individuals having an\n",
    "Anti-Wrinkle Face treatment. We observed that after the treatment, 40 individuals have still wrinkles. Can with\n",
    "say that the treatment is efficient with a significance level of 5%? What is the p-value of test?"
   ],
   "metadata": {
    "collapsed": false,
    "pycharm": {
     "name": "#%% md\n"
    }
   }
  },
  {
   "cell_type": "markdown",
   "source": [
    "since we assume a Bernoulli distribution, we know the variance which is p(1-p) we use z test\n",
    "h0 p = 0.25 vs p differ 0.25"
   ],
   "metadata": {
    "collapsed": false,
    "pycharm": {
     "name": "#%% md\n"
    }
   }
  },
  {
   "cell_type": "code",
   "execution_count": 19,
   "outputs": [
    {
     "data": {
      "text/plain": "0.0770998717435419"
     },
     "execution_count": 19,
     "metadata": {},
     "output_type": "execute_result"
    }
   ],
   "source": [
    "from statsmodels.stats.proportion import proportions_ztest\n",
    "\n",
    "count = 40\n",
    "nobs = 200\n",
    "value = 0.25\n",
    "stat, pval = proportions_ztest(count,nobs,value)\n",
    "pval"
   ],
   "metadata": {
    "collapsed": false,
    "pycharm": {
     "name": "#%%\n"
    }
   }
  },
  {
   "cell_type": "code",
   "execution_count": null,
   "outputs": [],
   "source": [],
   "metadata": {
    "collapsed": false,
    "pycharm": {
     "name": "#%%\n"
    }
   }
  }
 ],
 "metadata": {
  "kernelspec": {
   "display_name": "Python 3",
   "language": "python",
   "name": "python3"
  },
  "language_info": {
   "codemirror_mode": {
    "name": "ipython",
    "version": 2
   },
   "file_extension": ".py",
   "mimetype": "text/x-python",
   "name": "python",
   "nbconvert_exporter": "python",
   "pygments_lexer": "ipython2",
   "version": "2.7.6"
  }
 },
 "nbformat": 4,
 "nbformat_minor": 0
}