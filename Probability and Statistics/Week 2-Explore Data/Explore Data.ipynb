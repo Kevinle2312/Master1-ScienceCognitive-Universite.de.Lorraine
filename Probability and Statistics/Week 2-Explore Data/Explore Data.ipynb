{
 "cells": [
  {
   "cell_type": "markdown",
   "source": [
    "**Library**"
   ],
   "metadata": {
    "collapsed": false,
    "pycharm": {
     "name": "#%% md\n"
    }
   }
  },
  {
   "cell_type": "code",
   "execution_count": 39,
   "outputs": [],
   "source": [
    "import seaborn as sns\n",
    "import matplotlib.pyplot as plt\n",
    "import pandas as pd"
   ],
   "metadata": {
    "collapsed": false,
    "pycharm": {
     "name": "#%%\n"
    }
   }
  },
  {
   "cell_type": "markdown",
   "source": [
    "<h1>RMS Titanic</h1>\n",
    "The RMS Titanic was a British passenger liner that sank in the North Atlantic Ocean in\n",
    "the early morning hours of 15 April 1912, after it collided with an iceberg during its maiden\n",
    "voyage from Southampton to New York City. There were an estimated 2,224 passengers and\n",
    "crew aboard the ship, and more than 1,500 died, making it one of the deadliest commercial\n",
    "peacetime maritime disasters in modern history.\n",
    "\n",
    "Women and children first? The aim is to understand how survivors of Titanic were selected...\n",
    "\n",
    "*Importation of the data and description of the dataset*"
   ],
   "metadata": {
    "collapsed": false,
    "pycharm": {
     "name": "#%% md\n"
    }
   }
  },
  {
   "cell_type": "markdown",
   "source": [
    "- In this first practical session, we shall work on the dataset titanic.csv on the survival of the passengers of Titanic. Download this dataset as a data frame"
   ],
   "metadata": {
    "collapsed": false,
    "pycharm": {
     "name": "#%% md\n"
    }
   }
  },
  {
   "cell_type": "code",
   "execution_count": 40,
   "outputs": [
    {
     "data": {
      "text/plain": "   PassengerId  Survived  Pclass  \\\n0            1         0       3   \n1            2         1       1   \n2            3         1       3   \n3            4         1       1   \n4            5         0       3   \n\n                                                Name     Sex   Age  SibSp  \\\n0                            Braund, Mr. Owen Harris    male  22.0      1   \n1  Cumings, Mrs. John Bradley (Florence Briggs Th...  female  38.0      1   \n2                             Heikkinen, Miss. Laina  female  26.0      0   \n3       Futrelle, Mrs. Jacques Heath (Lily May Peel)  female  35.0      1   \n4                           Allen, Mr. William Henry    male  35.0      0   \n\n   Parch            Ticket     Fare Cabin Embarked  \n0      0         A/5 21171   7.2500   NaN        S  \n1      0          PC 17599  71.2833   C85        C  \n2      0  STON/O2. 3101282   7.9250   NaN        S  \n3      0            113803  53.1000  C123        S  \n4      0            373450   8.0500   NaN        S  ",
      "text/html": "<div>\n<style scoped>\n    .dataframe tbody tr th:only-of-type {\n        vertical-align: middle;\n    }\n\n    .dataframe tbody tr th {\n        vertical-align: top;\n    }\n\n    .dataframe thead th {\n        text-align: right;\n    }\n</style>\n<table border=\"1\" class=\"dataframe\">\n  <thead>\n    <tr style=\"text-align: right;\">\n      <th></th>\n      <th>PassengerId</th>\n      <th>Survived</th>\n      <th>Pclass</th>\n      <th>Name</th>\n      <th>Sex</th>\n      <th>Age</th>\n      <th>SibSp</th>\n      <th>Parch</th>\n      <th>Ticket</th>\n      <th>Fare</th>\n      <th>Cabin</th>\n      <th>Embarked</th>\n    </tr>\n  </thead>\n  <tbody>\n    <tr>\n      <th>0</th>\n      <td>1</td>\n      <td>0</td>\n      <td>3</td>\n      <td>Braund, Mr. Owen Harris</td>\n      <td>male</td>\n      <td>22.0</td>\n      <td>1</td>\n      <td>0</td>\n      <td>A/5 21171</td>\n      <td>7.2500</td>\n      <td>NaN</td>\n      <td>S</td>\n    </tr>\n    <tr>\n      <th>1</th>\n      <td>2</td>\n      <td>1</td>\n      <td>1</td>\n      <td>Cumings, Mrs. John Bradley (Florence Briggs Th...</td>\n      <td>female</td>\n      <td>38.0</td>\n      <td>1</td>\n      <td>0</td>\n      <td>PC 17599</td>\n      <td>71.2833</td>\n      <td>C85</td>\n      <td>C</td>\n    </tr>\n    <tr>\n      <th>2</th>\n      <td>3</td>\n      <td>1</td>\n      <td>3</td>\n      <td>Heikkinen, Miss. Laina</td>\n      <td>female</td>\n      <td>26.0</td>\n      <td>0</td>\n      <td>0</td>\n      <td>STON/O2. 3101282</td>\n      <td>7.9250</td>\n      <td>NaN</td>\n      <td>S</td>\n    </tr>\n    <tr>\n      <th>3</th>\n      <td>4</td>\n      <td>1</td>\n      <td>1</td>\n      <td>Futrelle, Mrs. Jacques Heath (Lily May Peel)</td>\n      <td>female</td>\n      <td>35.0</td>\n      <td>1</td>\n      <td>0</td>\n      <td>113803</td>\n      <td>53.1000</td>\n      <td>C123</td>\n      <td>S</td>\n    </tr>\n    <tr>\n      <th>4</th>\n      <td>5</td>\n      <td>0</td>\n      <td>3</td>\n      <td>Allen, Mr. William Henry</td>\n      <td>male</td>\n      <td>35.0</td>\n      <td>0</td>\n      <td>0</td>\n      <td>373450</td>\n      <td>8.0500</td>\n      <td>NaN</td>\n      <td>S</td>\n    </tr>\n  </tbody>\n</table>\n</div>"
     },
     "execution_count": 40,
     "metadata": {},
     "output_type": "execute_result"
    }
   ],
   "source": [
    "Titanic_data = pd.read_csv('titanic.csv')\n",
    "Titanic_data.head(5)"
   ],
   "metadata": {
    "collapsed": false,
    "pycharm": {
     "name": "#%%\n"
    }
   }
  },
  {
   "cell_type": "markdown",
   "source": [
    "- Describe the dataset titanic : features, nature of the features, number of observations"
   ],
   "metadata": {
    "collapsed": false,
    "pycharm": {
     "name": "#%% md\n"
    }
   }
  },
  {
   "cell_type": "code",
   "execution_count": 41,
   "outputs": [
    {
     "name": "stdout",
     "output_type": "stream",
     "text": [
      "<class 'pandas.core.frame.DataFrame'>\n",
      "RangeIndex: 891 entries, 0 to 890\n",
      "Data columns (total 12 columns):\n",
      " #   Column       Non-Null Count  Dtype  \n",
      "---  ------       --------------  -----  \n",
      " 0   PassengerId  891 non-null    int64  \n",
      " 1   Survived     891 non-null    int64  \n",
      " 2   Pclass       891 non-null    int64  \n",
      " 3   Name         891 non-null    object \n",
      " 4   Sex          891 non-null    object \n",
      " 5   Age          714 non-null    float64\n",
      " 6   SibSp        891 non-null    int64  \n",
      " 7   Parch        891 non-null    int64  \n",
      " 8   Ticket       891 non-null    object \n",
      " 9   Fare         891 non-null    float64\n",
      " 10  Cabin        204 non-null    object \n",
      " 11  Embarked     889 non-null    object \n",
      "dtypes: float64(2), int64(5), object(5)\n",
      "memory usage: 83.7+ KB\n"
     ]
    }
   ],
   "source": [
    "Titanic_data.info()"
   ],
   "metadata": {
    "collapsed": false,
    "pycharm": {
     "name": "#%%\n"
    }
   }
  },
  {
   "cell_type": "markdown",
   "source": [
    "- Basic statistics : mean of each variable, quartiles"
   ],
   "metadata": {
    "collapsed": false,
    "pycharm": {
     "name": "#%% md\n"
    }
   }
  },
  {
   "cell_type": "code",
   "execution_count": 42,
   "outputs": [
    {
     "data": {
      "text/plain": "       PassengerId    Survived      Pclass         Age       SibSp  \\\ncount   891.000000  891.000000  891.000000  714.000000  891.000000   \nmean    446.000000    0.383838    2.308642   29.699118    0.523008   \nstd     257.353842    0.486592    0.836071   14.526497    1.102743   \nmin       1.000000    0.000000    1.000000    0.420000    0.000000   \n25%     223.500000    0.000000    2.000000   20.125000    0.000000   \n50%     446.000000    0.000000    3.000000   28.000000    0.000000   \n75%     668.500000    1.000000    3.000000   38.000000    1.000000   \nmax     891.000000    1.000000    3.000000   80.000000    8.000000   \n\n            Parch        Fare  \ncount  891.000000  891.000000  \nmean     0.381594   32.204208  \nstd      0.806057   49.693429  \nmin      0.000000    0.000000  \n25%      0.000000    7.910400  \n50%      0.000000   14.454200  \n75%      0.000000   31.000000  \nmax      6.000000  512.329200  ",
      "text/html": "<div>\n<style scoped>\n    .dataframe tbody tr th:only-of-type {\n        vertical-align: middle;\n    }\n\n    .dataframe tbody tr th {\n        vertical-align: top;\n    }\n\n    .dataframe thead th {\n        text-align: right;\n    }\n</style>\n<table border=\"1\" class=\"dataframe\">\n  <thead>\n    <tr style=\"text-align: right;\">\n      <th></th>\n      <th>PassengerId</th>\n      <th>Survived</th>\n      <th>Pclass</th>\n      <th>Age</th>\n      <th>SibSp</th>\n      <th>Parch</th>\n      <th>Fare</th>\n    </tr>\n  </thead>\n  <tbody>\n    <tr>\n      <th>count</th>\n      <td>891.000000</td>\n      <td>891.000000</td>\n      <td>891.000000</td>\n      <td>714.000000</td>\n      <td>891.000000</td>\n      <td>891.000000</td>\n      <td>891.000000</td>\n    </tr>\n    <tr>\n      <th>mean</th>\n      <td>446.000000</td>\n      <td>0.383838</td>\n      <td>2.308642</td>\n      <td>29.699118</td>\n      <td>0.523008</td>\n      <td>0.381594</td>\n      <td>32.204208</td>\n    </tr>\n    <tr>\n      <th>std</th>\n      <td>257.353842</td>\n      <td>0.486592</td>\n      <td>0.836071</td>\n      <td>14.526497</td>\n      <td>1.102743</td>\n      <td>0.806057</td>\n      <td>49.693429</td>\n    </tr>\n    <tr>\n      <th>min</th>\n      <td>1.000000</td>\n      <td>0.000000</td>\n      <td>1.000000</td>\n      <td>0.420000</td>\n      <td>0.000000</td>\n      <td>0.000000</td>\n      <td>0.000000</td>\n    </tr>\n    <tr>\n      <th>25%</th>\n      <td>223.500000</td>\n      <td>0.000000</td>\n      <td>2.000000</td>\n      <td>20.125000</td>\n      <td>0.000000</td>\n      <td>0.000000</td>\n      <td>7.910400</td>\n    </tr>\n    <tr>\n      <th>50%</th>\n      <td>446.000000</td>\n      <td>0.000000</td>\n      <td>3.000000</td>\n      <td>28.000000</td>\n      <td>0.000000</td>\n      <td>0.000000</td>\n      <td>14.454200</td>\n    </tr>\n    <tr>\n      <th>75%</th>\n      <td>668.500000</td>\n      <td>1.000000</td>\n      <td>3.000000</td>\n      <td>38.000000</td>\n      <td>1.000000</td>\n      <td>0.000000</td>\n      <td>31.000000</td>\n    </tr>\n    <tr>\n      <th>max</th>\n      <td>891.000000</td>\n      <td>1.000000</td>\n      <td>3.000000</td>\n      <td>80.000000</td>\n      <td>8.000000</td>\n      <td>6.000000</td>\n      <td>512.329200</td>\n    </tr>\n  </tbody>\n</table>\n</div>"
     },
     "execution_count": 42,
     "metadata": {},
     "output_type": "execute_result"
    }
   ],
   "source": [
    "Titanic_data.describe()"
   ],
   "metadata": {
    "collapsed": false,
    "pycharm": {
     "name": "#%%\n"
    }
   }
  },
  {
   "cell_type": "markdown",
   "source": [
    "- Percentage of missing values for each column. Sort by descending values"
   ],
   "metadata": {
    "collapsed": false,
    "pycharm": {
     "name": "#%% md\n"
    }
   }
  },
  {
   "cell_type": "code",
   "execution_count": 43,
   "outputs": [
    {
     "data": {
      "text/plain": "Cabin          0.771044\nAge            0.198653\nEmbarked       0.002245\nPassengerId    0.000000\nSurvived       0.000000\nPclass         0.000000\nName           0.000000\nSex            0.000000\nSibSp          0.000000\nParch          0.000000\nTicket         0.000000\nFare           0.000000\ndtype: float64"
     },
     "execution_count": 43,
     "metadata": {},
     "output_type": "execute_result"
    }
   ],
   "source": [
    "missing_value = Titanic_data.isnull().sum() / 891\n",
    "missing_value.sort_values(ascending=False)"
   ],
   "metadata": {
    "collapsed": false,
    "pycharm": {
     "name": "#%%\n"
    }
   }
  },
  {
   "cell_type": "markdown",
   "source": [
    "*Basic graphic analysis*\n",
    "\n",
    ">We want to understand what features could contribute to a high survival rate. It would\n",
    "make sense if everything except ’PassengerId’, ’Ticket’ and ’Name’ would be correlated with\n",
    "a high survival rate."
   ],
   "metadata": {
    "collapsed": false,
    "pycharm": {
     "name": "#%% md\n"
    }
   }
  },
  {
   "cell_type": "markdown",
   "source": [
    "- Get rid off the features ’PassengerId’, ’Ticket’ and ’Name’ which seem irrelevant to\n",
    "analyse the data"
   ],
   "metadata": {
    "collapsed": false,
    "pycharm": {
     "name": "#%% md\n"
    }
   }
  },
  {
   "cell_type": "code",
   "execution_count": 44,
   "outputs": [
    {
     "data": {
      "text/plain": "     Survived  Pclass     Sex   Age  SibSp  Parch     Fare Cabin Embarked\n0           0       3    male  22.0      1      0   7.2500   NaN        S\n1           1       1  female  38.0      1      0  71.2833   C85        C\n2           1       3  female  26.0      0      0   7.9250   NaN        S\n3           1       1  female  35.0      1      0  53.1000  C123        S\n4           0       3    male  35.0      0      0   8.0500   NaN        S\n..        ...     ...     ...   ...    ...    ...      ...   ...      ...\n886         0       2    male  27.0      0      0  13.0000   NaN        S\n887         1       1  female  19.0      0      0  30.0000   B42        S\n888         0       3  female   NaN      1      2  23.4500   NaN        S\n889         1       1    male  26.0      0      0  30.0000  C148        C\n890         0       3    male  32.0      0      0   7.7500   NaN        Q\n\n[891 rows x 9 columns]",
      "text/html": "<div>\n<style scoped>\n    .dataframe tbody tr th:only-of-type {\n        vertical-align: middle;\n    }\n\n    .dataframe tbody tr th {\n        vertical-align: top;\n    }\n\n    .dataframe thead th {\n        text-align: right;\n    }\n</style>\n<table border=\"1\" class=\"dataframe\">\n  <thead>\n    <tr style=\"text-align: right;\">\n      <th></th>\n      <th>Survived</th>\n      <th>Pclass</th>\n      <th>Sex</th>\n      <th>Age</th>\n      <th>SibSp</th>\n      <th>Parch</th>\n      <th>Fare</th>\n      <th>Cabin</th>\n      <th>Embarked</th>\n    </tr>\n  </thead>\n  <tbody>\n    <tr>\n      <th>0</th>\n      <td>0</td>\n      <td>3</td>\n      <td>male</td>\n      <td>22.0</td>\n      <td>1</td>\n      <td>0</td>\n      <td>7.2500</td>\n      <td>NaN</td>\n      <td>S</td>\n    </tr>\n    <tr>\n      <th>1</th>\n      <td>1</td>\n      <td>1</td>\n      <td>female</td>\n      <td>38.0</td>\n      <td>1</td>\n      <td>0</td>\n      <td>71.2833</td>\n      <td>C85</td>\n      <td>C</td>\n    </tr>\n    <tr>\n      <th>2</th>\n      <td>1</td>\n      <td>3</td>\n      <td>female</td>\n      <td>26.0</td>\n      <td>0</td>\n      <td>0</td>\n      <td>7.9250</td>\n      <td>NaN</td>\n      <td>S</td>\n    </tr>\n    <tr>\n      <th>3</th>\n      <td>1</td>\n      <td>1</td>\n      <td>female</td>\n      <td>35.0</td>\n      <td>1</td>\n      <td>0</td>\n      <td>53.1000</td>\n      <td>C123</td>\n      <td>S</td>\n    </tr>\n    <tr>\n      <th>4</th>\n      <td>0</td>\n      <td>3</td>\n      <td>male</td>\n      <td>35.0</td>\n      <td>0</td>\n      <td>0</td>\n      <td>8.0500</td>\n      <td>NaN</td>\n      <td>S</td>\n    </tr>\n    <tr>\n      <th>...</th>\n      <td>...</td>\n      <td>...</td>\n      <td>...</td>\n      <td>...</td>\n      <td>...</td>\n      <td>...</td>\n      <td>...</td>\n      <td>...</td>\n      <td>...</td>\n    </tr>\n    <tr>\n      <th>886</th>\n      <td>0</td>\n      <td>2</td>\n      <td>male</td>\n      <td>27.0</td>\n      <td>0</td>\n      <td>0</td>\n      <td>13.0000</td>\n      <td>NaN</td>\n      <td>S</td>\n    </tr>\n    <tr>\n      <th>887</th>\n      <td>1</td>\n      <td>1</td>\n      <td>female</td>\n      <td>19.0</td>\n      <td>0</td>\n      <td>0</td>\n      <td>30.0000</td>\n      <td>B42</td>\n      <td>S</td>\n    </tr>\n    <tr>\n      <th>888</th>\n      <td>0</td>\n      <td>3</td>\n      <td>female</td>\n      <td>NaN</td>\n      <td>1</td>\n      <td>2</td>\n      <td>23.4500</td>\n      <td>NaN</td>\n      <td>S</td>\n    </tr>\n    <tr>\n      <th>889</th>\n      <td>1</td>\n      <td>1</td>\n      <td>male</td>\n      <td>26.0</td>\n      <td>0</td>\n      <td>0</td>\n      <td>30.0000</td>\n      <td>C148</td>\n      <td>C</td>\n    </tr>\n    <tr>\n      <th>890</th>\n      <td>0</td>\n      <td>3</td>\n      <td>male</td>\n      <td>32.0</td>\n      <td>0</td>\n      <td>0</td>\n      <td>7.7500</td>\n      <td>NaN</td>\n      <td>Q</td>\n    </tr>\n  </tbody>\n</table>\n<p>891 rows × 9 columns</p>\n</div>"
     },
     "execution_count": 44,
     "metadata": {},
     "output_type": "execute_result"
    }
   ],
   "source": [
    "Titanic_passenger_without_id = Titanic_data.drop(['PassengerId', 'Ticket', 'Name'], axis = 1)\n",
    "Titanic_passenger_without_id"
   ],
   "metadata": {
    "collapsed": false,
    "pycharm": {
     "name": "#%%\n"
    }
   }
  },
  {
   "cell_type": "markdown",
   "source": [
    "- We focus on the features ’Age’ and ’Sex’."
   ],
   "metadata": {
    "collapsed": false,
    "pycharm": {
     "name": "#%% md\n"
    }
   }
  },
  {
   "cell_type": "markdown",
   "source": [
    "+ Separate the dataset into men and women"
   ],
   "metadata": {
    "collapsed": false,
    "pycharm": {
     "name": "#%% md\n"
    }
   }
  },
  {
   "cell_type": "code",
   "execution_count": 45,
   "outputs": [
    {
     "name": "stdout",
     "output_type": "stream",
     "text": [
      "     Survived  Pclass   Sex   Age  SibSp  Parch     Fare Cabin Embarked\n",
      "0           0       3  male  22.0      1      0   7.2500   NaN        S\n",
      "4           0       3  male  35.0      0      0   8.0500   NaN        S\n",
      "5           0       3  male   NaN      0      0   8.4583   NaN        Q\n",
      "6           0       1  male  54.0      0      0  51.8625   E46        S\n",
      "7           0       3  male   2.0      3      1  21.0750   NaN        S\n",
      "..        ...     ...   ...   ...    ...    ...      ...   ...      ...\n",
      "883         0       2  male  28.0      0      0  10.5000   NaN        S\n",
      "884         0       3  male  25.0      0      0   7.0500   NaN        S\n",
      "886         0       2  male  27.0      0      0  13.0000   NaN        S\n",
      "889         1       1  male  26.0      0      0  30.0000  C148        C\n",
      "890         0       3  male  32.0      0      0   7.7500   NaN        Q\n",
      "\n",
      "[577 rows x 9 columns]\n",
      "     Survived  Pclass     Sex   Age  SibSp  Parch     Fare Cabin Embarked\n",
      "1           1       1  female  38.0      1      0  71.2833   C85        C\n",
      "2           1       3  female  26.0      0      0   7.9250   NaN        S\n",
      "3           1       1  female  35.0      1      0  53.1000  C123        S\n",
      "8           1       3  female  27.0      0      2  11.1333   NaN        S\n",
      "9           1       2  female  14.0      1      0  30.0708   NaN        C\n",
      "..        ...     ...     ...   ...    ...    ...      ...   ...      ...\n",
      "880         1       2  female  25.0      0      1  26.0000   NaN        S\n",
      "882         0       3  female  22.0      0      0  10.5167   NaN        S\n",
      "885         0       3  female  39.0      0      5  29.1250   NaN        Q\n",
      "887         1       1  female  19.0      0      0  30.0000   B42        S\n",
      "888         0       3  female   NaN      1      2  23.4500   NaN        S\n",
      "\n",
      "[314 rows x 9 columns]\n"
     ]
    }
   ],
   "source": [
    "Titanic_men_passenger = Titanic_passenger_without_id[Titanic_passenger_without_id['Sex'] == 'male']\n",
    "Titanic_woman_passenger = Titanic_passenger_without_id[Titanic_passenger_without_id['Sex'] == 'female']\n",
    "\n",
    "print(Titanic_men_passenger)\n",
    "print(Titanic_woman_passenger)"
   ],
   "metadata": {
    "collapsed": false,
    "pycharm": {
     "name": "#%%\n"
    }
   }
  },
  {
   "cell_type": "markdown",
   "source": [
    "+ Display the distribution of the age survivors and non survivors according to the sex. Comment"
   ],
   "metadata": {
    "collapsed": false,
    "pycharm": {
     "name": "#%% md\n"
    }
   }
  },
  {
   "cell_type": "code",
   "execution_count": 46,
   "outputs": [
    {
     "data": {
      "text/plain": "<Figure size 432x288 with 1 Axes>",
      "image/png": "[encoded data removed]"
     },
     "metadata": {},
     "output_type": "display_data"
    }
   ],
   "source": [
    "#Furthur classification\n",
    "Titanic_men_passenger_survived = Titanic_men_passenger[Titanic_men_passenger['Survived'] == 1]\n",
    "Titanic_men_passenger_no_survived = Titanic_men_passenger[Titanic_men_passenger['Survived'] == 0]\n",
    "Titanic_woman_passenger_survived = Titanic_woman_passenger[Titanic_woman_passenger['Survived'] == 1]\n",
    "Titanic_woman_passenger_no_survived = Titanic_woman_passenger[Titanic_woman_passenger['Survived'] == 0]\n",
    "\n",
    "\n",
    "sns.histplot(Titanic_woman_passenger_survived.Age.dropna(), bins=15, label='woman survived')\n",
    "sns.histplot(Titanic_woman_passenger_no_survived.Age.dropna(), bins=15, label='Woman non survived')\n",
    "sns.histplot(Titanic_men_passenger_survived.Age.dropna(), bins=15, label='Men survived',color='red')\n",
    "sns.histplot(Titanic_men_passenger_no_survived.Age.dropna(), bins=15, label='Men non survived',color='red')\n",
    "\n",
    "plt.legend()\n",
    "plt.show()"
   ],
   "metadata": {
    "collapsed": false,
    "pycharm": {
     "name": "#%%\n"
    }
   }
  },
  {
   "cell_type": "markdown",
   "source": [
    "- At first glance is there some link between ’Embarked’ and ’Survival’."
   ],
   "metadata": {
    "collapsed": false,
    "pycharm": {
     "name": "#%% md\n"
    }
   }
  },
  {
   "cell_type": "code",
   "execution_count": 47,
   "outputs": [
    {
     "data": {
      "text/plain": "<AxesSubplot:xlabel='Embarked', ylabel='Survived'>"
     },
     "execution_count": 47,
     "metadata": {},
     "output_type": "execute_result"
    },
    {
     "data": {
      "text/plain": "<Figure size 432x288 with 1 Axes>",
      "image/png": "[encoded data removed]"
     },
     "metadata": {},
     "output_type": "display_data"
    }
   ],
   "source": [
    "sns.barplot(x='Embarked', y='Survived', data=Titanic_passenger_without_id)"
   ],
   "metadata": {
    "collapsed": false,
    "pycharm": {
     "name": "#%%\n"
    }
   }
  },
  {
   "cell_type": "markdown",
   "source": [],
   "metadata": {
    "collapsed": false,
    "pycharm": {
     "name": "#%% md\n"
    }
   }
  },
  {
   "cell_type": "markdown",
   "source": [
    "- At first glance is there some link between ’Pclass’ and ’Survival’."
   ],
   "metadata": {
    "collapsed": false,
    "pycharm": {
     "name": "#%% md\n"
    }
   }
  },
  {
   "cell_type": "code",
   "execution_count": 48,
   "outputs": [
    {
     "data": {
      "text/plain": "<AxesSubplot:xlabel='Pclass', ylabel='Survived'>"
     },
     "execution_count": 48,
     "metadata": {},
     "output_type": "execute_result"
    },
    {
     "data": {
      "text/plain": "<Figure size 432x288 with 1 Axes>",
      "image/png": "[encoded data removed]"
     },
     "metadata": {},
     "output_type": "display_data"
    }
   ],
   "source": [
    "sns.barplot(x='Pclass', y='Survived', data=Titanic_passenger_without_id)"
   ],
   "metadata": {
    "collapsed": false,
    "pycharm": {
     "name": "#%%\n"
    }
   }
  },
  {
   "cell_type": "markdown",
   "source": [
    "<h1>Middle School</h1>\n",
    "\n",
    ">Sally is a public school administrator. Some schools in her state of Tennessee are performing below average academically. Her superintendent, under pressure from frustrated parents and voters, approached Sally with the task of understanding why these schools are under-performing. To improve school performance, Sally needs to learn more about these schools and their students, just as a business needs to understand its own strengths and weaknesses and its customers. Sally needs first to engages in a thorough exploratory analysis, which includes data collection, descriptive and inferential statistics, and data visualization. Your job, as a data scientist is to help her\n",
    "\n",
    "**Importation of the data and description of the dataset**\n",
    "\n",
    "- Import the TN middle school dataset"
   ],
   "metadata": {
    "collapsed": false,
    "pycharm": {
     "name": "#%% md\n"
    }
   }
  },
  {
   "cell_type": "code",
   "execution_count": 49,
   "outputs": [
    {
     "data": {
      "text/plain": "                          name  school_rating   size  reduced_lunch  \\\n0  Allendale Elementary School            5.0  851.0           10.0   \n1          Anderson Elementary            2.0  412.0           71.0   \n2             Avoca Elementary            4.0  482.0           43.0   \n3                Bailey Middle            0.0  394.0           91.0   \n4          Barfield Elementary            4.0  948.0           26.0   \n\n   state_percentile_16  state_percentile_15  stu_teach_ratio    school_type  \\\n0                 90.2                 95.8             15.7         Public   \n1                 32.8                 37.3             12.8         Public   \n2                 78.4                 83.6             16.6         Public   \n3                  1.6                  1.0             13.1  Public Magnet   \n4                 85.3                 89.2             14.8         Public   \n\n   avg_score_15  avg_score_16  full_time_teachers  percent_black  \\\n0          89.4          85.2                54.0            2.9   \n1          43.0          38.3                32.0            3.9   \n2          75.7          73.0                29.0            1.0   \n3           2.1           4.4                30.0           80.7   \n4          81.3          79.6                64.0           11.8   \n\n   percent_white  percent_asian  percent_hispanic  \n0           85.5            1.6               5.6  \n1           86.7            1.0               4.9  \n2           91.5            1.2               4.4  \n3           11.7            2.3               4.3  \n4           71.2            7.1               6.0  ",
      "text/html": "<div>\n<style scoped>\n    .dataframe tbody tr th:only-of-type {\n        vertical-align: middle;\n    }\n\n    .dataframe tbody tr th {\n        vertical-align: top;\n    }\n\n    .dataframe thead th {\n        text-align: right;\n    }\n</style>\n<table border=\"1\" class=\"dataframe\">\n  <thead>\n    <tr style=\"text-align: right;\">\n      <th></th>\n      <th>name</th>\n      <th>school_rating</th>\n      <th>size</th>\n      <th>reduced_lunch</th>\n      <th>state_percentile_16</th>\n      <th>state_percentile_15</th>\n      <th>stu_teach_ratio</th>\n      <th>school_type</th>\n      <th>avg_score_15</th>\n      <th>avg_score_16</th>\n      <th>full_time_teachers</th>\n      <th>percent_black</th>\n      <th>percent_white</th>\n      <th>percent_asian</th>\n      <th>percent_hispanic</th>\n    </tr>\n  </thead>\n  <tbody>\n    <tr>\n      <th>0</th>\n      <td>Allendale Elementary School</td>\n      <td>5.0</td>\n      <td>851.0</td>\n      <td>10.0</td>\n      <td>90.2</td>\n      <td>95.8</td>\n      <td>15.7</td>\n      <td>Public</td>\n      <td>89.4</td>\n      <td>85.2</td>\n      <td>54.0</td>\n      <td>2.9</td>\n      <td>85.5</td>\n      <td>1.6</td>\n      <td>5.6</td>\n    </tr>\n    <tr>\n      <th>1</th>\n      <td>Anderson Elementary</td>\n      <td>2.0</td>\n      <td>412.0</td>\n      <td>71.0</td>\n      <td>32.8</td>\n      <td>37.3</td>\n      <td>12.8</td>\n      <td>Public</td>\n      <td>43.0</td>\n      <td>38.3</td>\n      <td>32.0</td>\n      <td>3.9</td>\n      <td>86.7</td>\n      <td>1.0</td>\n      <td>4.9</td>\n    </tr>\n    <tr>\n      <th>2</th>\n      <td>Avoca Elementary</td>\n      <td>4.0</td>\n      <td>482.0</td>\n      <td>43.0</td>\n      <td>78.4</td>\n      <td>83.6</td>\n      <td>16.6</td>\n      <td>Public</td>\n      <td>75.7</td>\n      <td>73.0</td>\n      <td>29.0</td>\n      <td>1.0</td>\n      <td>91.5</td>\n      <td>1.2</td>\n      <td>4.4</td>\n    </tr>\n    <tr>\n      <th>3</th>\n      <td>Bailey Middle</td>\n      <td>0.0</td>\n      <td>394.0</td>\n      <td>91.0</td>\n      <td>1.6</td>\n      <td>1.0</td>\n      <td>13.1</td>\n      <td>Public Magnet</td>\n      <td>2.1</td>\n      <td>4.4</td>\n      <td>30.0</td>\n      <td>80.7</td>\n      <td>11.7</td>\n      <td>2.3</td>\n      <td>4.3</td>\n    </tr>\n    <tr>\n      <th>4</th>\n      <td>Barfield Elementary</td>\n      <td>4.0</td>\n      <td>948.0</td>\n      <td>26.0</td>\n      <td>85.3</td>\n      <td>89.2</td>\n      <td>14.8</td>\n      <td>Public</td>\n      <td>81.3</td>\n      <td>79.6</td>\n      <td>64.0</td>\n      <td>11.8</td>\n      <td>71.2</td>\n      <td>7.1</td>\n      <td>6.0</td>\n    </tr>\n  </tbody>\n</table>\n</div>"
     },
     "execution_count": 49,
     "metadata": {},
     "output_type": "execute_result"
    }
   ],
   "source": [
    "middle_tn_schools = pd.read_csv('middle_tn_schools.csv')\n",
    "middle_tn_schools.head()"
   ],
   "metadata": {
    "collapsed": false,
    "pycharm": {
     "name": "#%%\n"
    }
   }
  },
  {
   "cell_type": "markdown",
   "source": [
    "- Describe the dataset TN middle school : features, nature of the features, number of observation."
   ],
   "metadata": {
    "collapsed": false,
    "pycharm": {
     "name": "#%% md\n"
    }
   }
  },
  {
   "cell_type": "code",
   "execution_count": 50,
   "outputs": [
    {
     "name": "stdout",
     "output_type": "stream",
     "text": [
      "<class 'pandas.core.frame.DataFrame'>\n",
      "RangeIndex: 347 entries, 0 to 346\n",
      "Data columns (total 15 columns):\n",
      " #   Column               Non-Null Count  Dtype  \n",
      "---  ------               --------------  -----  \n",
      " 0   name                 347 non-null    object \n",
      " 1   school_rating        347 non-null    float64\n",
      " 2   size                 347 non-null    float64\n",
      " 3   reduced_lunch        347 non-null    float64\n",
      " 4   state_percentile_16  347 non-null    float64\n",
      " 5   state_percentile_15  341 non-null    float64\n",
      " 6   stu_teach_ratio      347 non-null    float64\n",
      " 7   school_type          347 non-null    object \n",
      " 8   avg_score_15         341 non-null    float64\n",
      " 9   avg_score_16         347 non-null    float64\n",
      " 10  full_time_teachers   347 non-null    float64\n",
      " 11  percent_black        347 non-null    float64\n",
      " 12  percent_white        347 non-null    float64\n",
      " 13  percent_asian        347 non-null    float64\n",
      " 14  percent_hispanic     347 non-null    float64\n",
      "dtypes: float64(13), object(2)\n",
      "memory usage: 40.8+ KB\n"
     ]
    }
   ],
   "source": [
    "middle_tn_schools.info()"
   ],
   "metadata": {
    "collapsed": false,
    "pycharm": {
     "name": "#%%\n"
    }
   }
  },
  {
   "cell_type": "markdown",
   "source": [
    "- Basic statistics : mean of each variable, quartiles"
   ],
   "metadata": {
    "collapsed": false,
    "pycharm": {
     "name": "#%% md\n"
    }
   }
  },
  {
   "cell_type": "code",
   "execution_count": 51,
   "outputs": [
    {
     "data": {
      "text/plain": "       school_rating         size  reduced_lunch  state_percentile_16  \\\ncount     347.000000   347.000000     347.000000           347.000000   \nmean        2.968300   699.472622      50.279539            58.801729   \nstd         1.690377   400.598636      25.480236            32.540747   \nmin         0.000000    53.000000       2.000000             0.200000   \n25%         2.000000   420.500000      30.000000            30.950000   \n50%         3.000000   595.000000      51.000000            66.400000   \n75%         4.000000   851.000000      71.500000            88.000000   \nmax         5.000000  2314.000000      98.000000            99.800000   \n\n       state_percentile_15  stu_teach_ratio  avg_score_15  avg_score_16  \\\ncount           341.000000       347.000000    341.000000    347.000000   \nmean             58.249267        15.461671     57.004692     57.049856   \nstd              32.702630         5.725170     26.696450     27.968974   \nmin               0.600000         4.700000      1.500000      0.100000   \n25%              27.100000        13.700000     37.600000     37.000000   \n50%              65.800000        15.000000     61.800000     60.700000   \n75%              88.600000        16.700000     79.600000     80.250000   \nmax              99.800000       111.000000     99.000000     98.900000   \n\n       full_time_teachers  percent_black  percent_white  percent_asian  \\\ncount          347.000000     347.000000     347.000000     347.000000   \nmean            44.939481      21.197983      61.673487       2.642651   \nstd             22.053386      23.562538      27.274859       3.109629   \nmin              2.000000       0.000000       1.100000       0.000000   \n25%             30.000000       3.600000      40.600000       0.750000   \n50%             40.000000      13.500000      68.700000       1.600000   \n75%             54.000000      28.350000      85.950000       3.100000   \nmax            140.000000      97.400000      99.700000      21.100000   \n\n       percent_hispanic  \ncount        347.000000  \nmean          11.164553  \nstd           12.030608  \nmin            0.000000  \n25%            3.800000  \n50%            6.400000  \n75%           13.800000  \nmax           65.200000  ",
      "text/html": "<div>\n<style scoped>\n    .dataframe tbody tr th:only-of-type {\n        vertical-align: middle;\n    }\n\n    .dataframe tbody tr th {\n        vertical-align: top;\n    }\n\n    .dataframe thead th {\n        text-align: right;\n    }\n</style>\n<table border=\"1\" class=\"dataframe\">\n  <thead>\n    <tr style=\"text-align: right;\">\n      <th></th>\n      <th>school_rating</th>\n      <th>size</th>\n      <th>reduced_lunch</th>\n      <th>state_percentile_16</th>\n      <th>state_percentile_15</th>\n      <th>stu_teach_ratio</th>\n      <th>avg_score_15</th>\n      <th>avg_score_16</th>\n      <th>full_time_teachers</th>\n      <th>percent_black</th>\n      <th>percent_white</th>\n      <th>percent_asian</th>\n      <th>percent_hispanic</th>\n    </tr>\n  </thead>\n  <tbody>\n    <tr>\n      <th>count</th>\n      <td>347.000000</td>\n      <td>347.000000</td>\n      <td>347.000000</td>\n      <td>347.000000</td>\n      <td>341.000000</td>\n      <td>347.000000</td>\n      <td>341.000000</td>\n      <td>347.000000</td>\n      <td>347.000000</td>\n      <td>347.000000</td>\n      <td>347.000000</td>\n      <td>347.000000</td>\n      <td>347.000000</td>\n    </tr>\n    <tr>\n      <th>mean</th>\n      <td>2.968300</td>\n      <td>699.472622</td>\n      <td>50.279539</td>\n      <td>58.801729</td>\n      <td>58.249267</td>\n      <td>15.461671</td>\n      <td>57.004692</td>\n      <td>57.049856</td>\n      <td>44.939481</td>\n      <td>21.197983</td>\n      <td>61.673487</td>\n      <td>2.642651</td>\n      <td>11.164553</td>\n    </tr>\n    <tr>\n      <th>std</th>\n      <td>1.690377</td>\n      <td>400.598636</td>\n      <td>25.480236</td>\n      <td>32.540747</td>\n      <td>32.702630</td>\n      <td>5.725170</td>\n      <td>26.696450</td>\n      <td>27.968974</td>\n      <td>22.053386</td>\n      <td>23.562538</td>\n      <td>27.274859</td>\n      <td>3.109629</td>\n      <td>12.030608</td>\n    </tr>\n    <tr>\n      <th>min</th>\n      <td>0.000000</td>\n      <td>53.000000</td>\n      <td>2.000000</td>\n      <td>0.200000</td>\n      <td>0.600000</td>\n      <td>4.700000</td>\n      <td>1.500000</td>\n      <td>0.100000</td>\n      <td>2.000000</td>\n      <td>0.000000</td>\n      <td>1.100000</td>\n      <td>0.000000</td>\n      <td>0.000000</td>\n    </tr>\n    <tr>\n      <th>25%</th>\n      <td>2.000000</td>\n      <td>420.500000</td>\n      <td>30.000000</td>\n      <td>30.950000</td>\n      <td>27.100000</td>\n      <td>13.700000</td>\n      <td>37.600000</td>\n      <td>37.000000</td>\n      <td>30.000000</td>\n      <td>3.600000</td>\n      <td>40.600000</td>\n      <td>0.750000</td>\n      <td>3.800000</td>\n    </tr>\n    <tr>\n      <th>50%</th>\n      <td>3.000000</td>\n      <td>595.000000</td>\n      <td>51.000000</td>\n      <td>66.400000</td>\n      <td>65.800000</td>\n      <td>15.000000</td>\n      <td>61.800000</td>\n      <td>60.700000</td>\n      <td>40.000000</td>\n      <td>13.500000</td>\n      <td>68.700000</td>\n      <td>1.600000</td>\n      <td>6.400000</td>\n    </tr>\n    <tr>\n      <th>75%</th>\n      <td>4.000000</td>\n      <td>851.000000</td>\n      <td>71.500000</td>\n      <td>88.000000</td>\n      <td>88.600000</td>\n      <td>16.700000</td>\n      <td>79.600000</td>\n      <td>80.250000</td>\n      <td>54.000000</td>\n      <td>28.350000</td>\n      <td>85.950000</td>\n      <td>3.100000</td>\n      <td>13.800000</td>\n    </tr>\n    <tr>\n      <th>max</th>\n      <td>5.000000</td>\n      <td>2314.000000</td>\n      <td>98.000000</td>\n      <td>99.800000</td>\n      <td>99.800000</td>\n      <td>111.000000</td>\n      <td>99.000000</td>\n      <td>98.900000</td>\n      <td>140.000000</td>\n      <td>97.400000</td>\n      <td>99.700000</td>\n      <td>21.100000</td>\n      <td>65.200000</td>\n    </tr>\n  </tbody>\n</table>\n</div>"
     },
     "execution_count": 51,
     "metadata": {},
     "output_type": "execute_result"
    }
   ],
   "source": [
    "middle_tn_schools.describe()"
   ],
   "metadata": {
    "collapsed": false,
    "pycharm": {
     "name": "#%%\n"
    }
   }
  },
  {
   "cell_type": "markdown",
   "source": [
    "- Calculate the correlation matrix between the features and visualize it with the function heatmap of the library seaborn"
   ],
   "metadata": {
    "collapsed": false,
    "pycharm": {
     "name": "#%% md\n"
    }
   }
  },
  {
   "cell_type": "code",
   "execution_count": 52,
   "outputs": [
    {
     "data": {
      "text/plain": "<Figure size 432x288 with 2 Axes>",
      "image/png": "[encoded data removed]"
     },
     "metadata": {},
     "output_type": "display_data"
    }
   ],
   "source": [
    "sns.heatmap(middle_tn_schools.corr())\n",
    "plt.show()"
   ],
   "metadata": {
    "collapsed": false,
    "pycharm": {
     "name": "#%%\n"
    }
   }
  },
  {
   "cell_type": "markdown",
   "source": [
    "*Correlation analysis between the two variables reduced lunch and school rating*\n",
    "\n",
    ">We now focus on the two variables reduced lunch and school rating"
   ],
   "metadata": {
    "collapsed": false,
    "pycharm": {
     "name": "#%% md\n"
    }
   }
  },
  {
   "cell_type": "markdown",
   "source": [
    "- Isolate the variable reduced lunch and groups the data by school rating using pandas groupby. Thereafter describe the re-shaped data"
   ],
   "metadata": {
    "collapsed": false,
    "pycharm": {
     "name": "#%% md\n"
    }
   }
  },
  {
   "cell_type": "code",
   "execution_count": 53,
   "outputs": [
    {
     "data": {
      "text/plain": "              reduced_lunch                                                  \\\n                      count       mean        std   min    25%   50%    75%   \nschool_rating                                                                 \n0.0                    43.0  83.581395   8.813498  53.0  79.50  86.0  90.00   \n1.0                    40.0  74.950000  11.644191  53.0  65.00  74.5  84.25   \n2.0                    44.0  64.272727  11.956051  37.0  54.75  62.5  74.00   \n3.0                    56.0  50.285714  13.550866  24.0  41.00  48.5  63.00   \n4.0                    86.0  41.000000  16.681092   4.0  30.00  41.5  50.00   \n5.0                    78.0  21.602564  17.651268   2.0   8.00  19.0  29.75   \n\n                     \n                max  \nschool_rating        \n0.0            98.0  \n1.0            98.0  \n2.0            88.0  \n3.0            78.0  \n4.0            87.0  \n5.0            87.0  ",
      "text/html": "<div>\n<style scoped>\n    .dataframe tbody tr th:only-of-type {\n        vertical-align: middle;\n    }\n\n    .dataframe tbody tr th {\n        vertical-align: top;\n    }\n\n    .dataframe thead tr th {\n        text-align: left;\n    }\n\n    .dataframe thead tr:last-of-type th {\n        text-align: right;\n    }\n</style>\n<table border=\"1\" class=\"dataframe\">\n  <thead>\n    <tr>\n      <th></th>\n      <th colspan=\"8\" halign=\"left\">reduced_lunch</th>\n    </tr>\n    <tr>\n      <th></th>\n      <th>count</th>\n      <th>mean</th>\n      <th>std</th>\n      <th>min</th>\n      <th>25%</th>\n      <th>50%</th>\n      <th>75%</th>\n      <th>max</th>\n    </tr>\n    <tr>\n      <th>school_rating</th>\n      <th></th>\n      <th></th>\n      <th></th>\n      <th></th>\n      <th></th>\n      <th></th>\n      <th></th>\n      <th></th>\n    </tr>\n  </thead>\n  <tbody>\n    <tr>\n      <th>0.0</th>\n      <td>43.0</td>\n      <td>83.581395</td>\n      <td>8.813498</td>\n      <td>53.0</td>\n      <td>79.50</td>\n      <td>86.0</td>\n      <td>90.00</td>\n      <td>98.0</td>\n    </tr>\n    <tr>\n      <th>1.0</th>\n      <td>40.0</td>\n      <td>74.950000</td>\n      <td>11.644191</td>\n      <td>53.0</td>\n      <td>65.00</td>\n      <td>74.5</td>\n      <td>84.25</td>\n      <td>98.0</td>\n    </tr>\n    <tr>\n      <th>2.0</th>\n      <td>44.0</td>\n      <td>64.272727</td>\n      <td>11.956051</td>\n      <td>37.0</td>\n      <td>54.75</td>\n      <td>62.5</td>\n      <td>74.00</td>\n      <td>88.0</td>\n    </tr>\n    <tr>\n      <th>3.0</th>\n      <td>56.0</td>\n      <td>50.285714</td>\n      <td>13.550866</td>\n      <td>24.0</td>\n      <td>41.00</td>\n      <td>48.5</td>\n      <td>63.00</td>\n      <td>78.0</td>\n    </tr>\n    <tr>\n      <th>4.0</th>\n      <td>86.0</td>\n      <td>41.000000</td>\n      <td>16.681092</td>\n      <td>4.0</td>\n      <td>30.00</td>\n      <td>41.5</td>\n      <td>50.00</td>\n      <td>87.0</td>\n    </tr>\n    <tr>\n      <th>5.0</th>\n      <td>78.0</td>\n      <td>21.602564</td>\n      <td>17.651268</td>\n      <td>2.0</td>\n      <td>8.00</td>\n      <td>19.0</td>\n      <td>29.75</td>\n      <td>87.0</td>\n    </tr>\n  </tbody>\n</table>\n</div>"
     },
     "execution_count": 53,
     "metadata": {},
     "output_type": "execute_result"
    }
   ],
   "source": [
    "relation = middle_tn_schools[['reduced_lunch','school_rating']].groupby('school_rating')\n",
    "relation.describe()"
   ],
   "metadata": {
    "collapsed": false,
    "pycharm": {
     "name": "#%%\n"
    }
   }
  },
  {
   "cell_type": "markdown",
   "source": [
    "Remark: Rich people go to best school."
   ],
   "metadata": {
    "collapsed": false,
    "pycharm": {
     "name": "#%% md\n"
    }
   }
  },
  {
   "cell_type": "markdown",
   "source": [
    "- What is the correlation between these two variables?"
   ],
   "metadata": {
    "collapsed": false,
    "pycharm": {
     "name": "#%% md\n"
    }
   }
  },
  {
   "cell_type": "code",
   "execution_count": 54,
   "outputs": [
    {
     "data": {
      "text/plain": "               reduced_lunch  school_rating\nreduced_lunch       1.000000      -0.815757\nschool_rating      -0.815757       1.000000",
      "text/html": "<div>\n<style scoped>\n    .dataframe tbody tr th:only-of-type {\n        vertical-align: middle;\n    }\n\n    .dataframe tbody tr th {\n        vertical-align: top;\n    }\n\n    .dataframe thead th {\n        text-align: right;\n    }\n</style>\n<table border=\"1\" class=\"dataframe\">\n  <thead>\n    <tr style=\"text-align: right;\">\n      <th></th>\n      <th>reduced_lunch</th>\n      <th>school_rating</th>\n    </tr>\n  </thead>\n  <tbody>\n    <tr>\n      <th>reduced_lunch</th>\n      <td>1.000000</td>\n      <td>-0.815757</td>\n    </tr>\n    <tr>\n      <th>school_rating</th>\n      <td>-0.815757</td>\n      <td>1.000000</td>\n    </tr>\n  </tbody>\n</table>\n</div>"
     },
     "execution_count": 54,
     "metadata": {},
     "output_type": "execute_result"
    }
   ],
   "source": [
    "corr = middle_tn_schools[['reduced_lunch','school_rating']].corr()\n",
    "corr"
   ],
   "metadata": {
    "collapsed": false,
    "pycharm": {
     "name": "#%%\n"
    }
   }
  },
  {
   "cell_type": "markdown",
   "source": [
    "- Graph a box-and-whisker plot for the variable reduced lunch grouped by school rating"
   ],
   "metadata": {
    "collapsed": false,
    "pycharm": {
     "name": "#%% md\n"
    }
   }
  },
  {
   "cell_type": "code",
   "execution_count": 55,
   "outputs": [
    {
     "data": {
      "text/plain": "<AxesSubplot:title={'center':'reduced_lunch'}, xlabel='[school_rating]'>"
     },
     "execution_count": 55,
     "metadata": {},
     "output_type": "execute_result"
    },
    {
     "data": {
      "text/plain": "<Figure size 432x288 with 1 Axes>",
      "image/png": "[encoded data removed]"
     },
     "metadata": {},
     "output_type": "display_data"
    }
   ],
   "source": [
    "middle_tn_schools[['reduced_lunch','school_rating']].boxplot(by='school_rating')"
   ],
   "metadata": {
    "collapsed": false,
    "pycharm": {
     "name": "#%%\n"
    }
   }
  },
  {
   "cell_type": "markdown",
   "source": [
    "- To further examine the relationship between school rating and reduced lunch, graph the two variables on a scatter plot. Comment!"
   ],
   "metadata": {
    "collapsed": false,
    "pycharm": {
     "name": "#%% md\n"
    }
   }
  },
  {
   "cell_type": "code",
   "execution_count": 56,
   "outputs": [
    {
     "data": {
      "text/plain": "<Figure size 432x288 with 1 Axes>",
      "image/png": "[encoded data removed]"
     },
     "metadata": {},
     "output_type": "display_data"
    }
   ],
   "source": [
    "plt.scatter(middle_tn_schools['reduced_lunch'],middle_tn_schools['school_rating'])\n",
    "plt.xlabel('reduce_lunch')\n",
    "plt.ylabel('school_rating')\n",
    "plt.show()"
   ],
   "metadata": {
    "collapsed": false,
    "pycharm": {
     "name": "#%%\n"
    }
   }
  },
  {
   "cell_type": "markdown",
   "source": [],
   "metadata": {
    "collapsed": false,
    "pycharm": {
     "name": "#%% md\n"
    }
   }
  }
 ],
 "metadata": {
  "kernelspec": {
   "display_name": "Python 3",
   "language": "python",
   "name": "python3"
  },
  "language_info": {
   "codemirror_mode": {
    "name": "ipython",
    "version": 2
   },
   "file_extension": ".py",
   "mimetype": "text/x-python",
   "name": "python",
   "nbconvert_exporter": "python",
   "pygments_lexer": "ipython2",
   "version": "2.7.6"
  }
 },
 "nbformat": 4,
 "nbformat_minor": 0
}