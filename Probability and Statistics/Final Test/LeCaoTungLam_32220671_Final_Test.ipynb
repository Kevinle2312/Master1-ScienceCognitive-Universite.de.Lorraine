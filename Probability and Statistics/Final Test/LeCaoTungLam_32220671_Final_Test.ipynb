{
 "cells": [
  {
   "cell_type": "code",
   "execution_count": 105,
   "metadata": {
    "collapsed": true,
    "pycharm": {
     "name": "#%%\n"
    }
   },
   "outputs": [],
   "source": [
    "import seaborn as sns\n",
    "import matplotlib.pyplot as plt\n",
    "import pandas as pd"
   ]
  },
  {
   "cell_type": "markdown",
   "source": [
    "Exercise 1\n",
    "The dataset blood pressure.csv is a dataset recording blood pressure befure and after a\n",
    "given surgery. These informations are stored in the two variables bp before and bp after."
   ],
   "metadata": {
    "collapsed": false,
    "pycharm": {
     "name": "#%% md\n"
    }
   }
  },
  {
   "cell_type": "markdown",
   "source": [
    "Import the data"
   ],
   "metadata": {
    "collapsed": false,
    "pycharm": {
     "name": "#%% md\n"
    }
   }
  },
  {
   "cell_type": "code",
   "execution_count": 106,
   "outputs": [],
   "source": [
    "blood_pressure = pd.read_csv('blood_pressure.csv')"
   ],
   "metadata": {
    "collapsed": false,
    "pycharm": {
     "name": "#%%\n"
    }
   }
  },
  {
   "cell_type": "code",
   "execution_count": 107,
   "outputs": [
    {
     "data": {
      "text/plain": "     patient     sex agegrp  bp_before  bp_after\n0          1    Male  30-45        143       153\n1          2    Male  30-45        163       170\n2          3    Male  30-45        153       168\n3          4    Male  30-45        153       142\n4          5    Male  30-45        146       141\n..       ...     ...    ...        ...       ...\n115      116  Female    60+        152       152\n116      117  Female    60+        161       152\n117      118  Female    60+        165       174\n118      119  Female    60+        149       151\n119      120  Female    60+        185       163\n\n[120 rows x 5 columns]",
      "text/html": "<div>\n<style scoped>\n    .dataframe tbody tr th:only-of-type {\n        vertical-align: middle;\n    }\n\n    .dataframe tbody tr th {\n        vertical-align: top;\n    }\n\n    .dataframe thead th {\n        text-align: right;\n    }\n</style>\n<table border=\"1\" class=\"dataframe\">\n  <thead>\n    <tr style=\"text-align: right;\">\n      <th></th>\n      <th>patient</th>\n      <th>sex</th>\n      <th>agegrp</th>\n      <th>bp_before</th>\n      <th>bp_after</th>\n    </tr>\n  </thead>\n  <tbody>\n    <tr>\n      <th>0</th>\n      <td>1</td>\n      <td>Male</td>\n      <td>30-45</td>\n      <td>143</td>\n      <td>153</td>\n    </tr>\n    <tr>\n      <th>1</th>\n      <td>2</td>\n      <td>Male</td>\n      <td>30-45</td>\n      <td>163</td>\n      <td>170</td>\n    </tr>\n    <tr>\n      <th>2</th>\n      <td>3</td>\n      <td>Male</td>\n      <td>30-45</td>\n      <td>153</td>\n      <td>168</td>\n    </tr>\n    <tr>\n      <th>3</th>\n      <td>4</td>\n      <td>Male</td>\n      <td>30-45</td>\n      <td>153</td>\n      <td>142</td>\n    </tr>\n    <tr>\n      <th>4</th>\n      <td>5</td>\n      <td>Male</td>\n      <td>30-45</td>\n      <td>146</td>\n      <td>141</td>\n    </tr>\n    <tr>\n      <th>...</th>\n      <td>...</td>\n      <td>...</td>\n      <td>...</td>\n      <td>...</td>\n      <td>...</td>\n    </tr>\n    <tr>\n      <th>115</th>\n      <td>116</td>\n      <td>Female</td>\n      <td>60+</td>\n      <td>152</td>\n      <td>152</td>\n    </tr>\n    <tr>\n      <th>116</th>\n      <td>117</td>\n      <td>Female</td>\n      <td>60+</td>\n      <td>161</td>\n      <td>152</td>\n    </tr>\n    <tr>\n      <th>117</th>\n      <td>118</td>\n      <td>Female</td>\n      <td>60+</td>\n      <td>165</td>\n      <td>174</td>\n    </tr>\n    <tr>\n      <th>118</th>\n      <td>119</td>\n      <td>Female</td>\n      <td>60+</td>\n      <td>149</td>\n      <td>151</td>\n    </tr>\n    <tr>\n      <th>119</th>\n      <td>120</td>\n      <td>Female</td>\n      <td>60+</td>\n      <td>185</td>\n      <td>163</td>\n    </tr>\n  </tbody>\n</table>\n<p>120 rows × 5 columns</p>\n</div>"
     },
     "execution_count": 107,
     "metadata": {},
     "output_type": "execute_result"
    }
   ],
   "source": [
    "blood_pressure"
   ],
   "metadata": {
    "collapsed": false,
    "pycharm": {
     "name": "#%%\n"
    }
   }
  },
  {
   "cell_type": "code",
   "execution_count": 108,
   "outputs": [
    {
     "data": {
      "text/plain": "<AxesSubplot:>"
     },
     "execution_count": 108,
     "metadata": {},
     "output_type": "execute_result"
    },
    {
     "data": {
      "text/plain": "<Figure size 640x480 with 1 Axes>",
      "image/png": "[encoded data removed]"
     },
     "metadata": {},
     "output_type": "display_data"
    }
   ],
   "source": [
    "blood_pressure[['bp_before','bp_after']].boxplot()"
   ],
   "metadata": {
    "collapsed": false,
    "pycharm": {
     "name": "#%%\n"
    }
   }
  },
  {
   "cell_type": "markdown",
   "source": [
    "As can beseen from the graph, the median blood-presure before surgery is around 155 and after surgery is 150. The median is closer to the bottom of the box, and if the whisker is shorter on the lower end of the box, then the distribution is positively skewed (skewed right), so it not a normal distribution. Before surgery the data is reange from 140 to over 180 but after it, it range from below 130 to the same level of before surgery. After the surgery, the data is more spread than before surgery."
   ],
   "metadata": {
    "collapsed": false,
    "pycharm": {
     "name": "#%% md\n"
    }
   }
  },
  {
   "cell_type": "markdown",
   "source": [],
   "metadata": {
    "collapsed": false,
    "pycharm": {
     "name": "#%% md\n"
    }
   }
  },
  {
   "cell_type": "code",
   "execution_count": 109,
   "outputs": [
    {
     "data": {
      "text/plain": "(array([ 3.,  9., 12.,  7., 10., 11.,  8.,  4., 12.,  4.,  9.,  6.,  4.,\n         5.,  7.,  3.,  1.,  1.,  0.,  4.]),\n array([138.  , 140.35, 142.7 , 145.05, 147.4 , 149.75, 152.1 , 154.45,\n        156.8 , 159.15, 161.5 , 163.85, 166.2 , 168.55, 170.9 , 173.25,\n        175.6 , 177.95, 180.3 , 182.65, 185.  ]),\n <BarContainer object of 20 artists>)"
     },
     "execution_count": 109,
     "metadata": {},
     "output_type": "execute_result"
    },
    {
     "data": {
      "text/plain": "<Figure size 640x480 with 1 Axes>",
      "image/png": "[encoded data removed]"
     },
     "metadata": {},
     "output_type": "display_data"
    }
   ],
   "source": [
    "plt.hist(blood_pressure['bp_before'], edgecolor='black', bins=20)"
   ],
   "metadata": {
    "collapsed": false,
    "pycharm": {
     "name": "#%%\n"
    }
   }
  },
  {
   "cell_type": "code",
   "execution_count": 110,
   "outputs": [
    {
     "data": {
      "text/plain": "(array([ 3.,  0.,  8., 11.,  6.,  8.,  7., 13., 10.,  9.,  4., 10.,  7.,\n         3.,  8.,  2.,  4.,  3.,  0.,  4.]),\n array([125., 128., 131., 134., 137., 140., 143., 146., 149., 152., 155.,\n        158., 161., 164., 167., 170., 173., 176., 179., 182., 185.]),\n <BarContainer object of 20 artists>)"
     },
     "execution_count": 110,
     "metadata": {},
     "output_type": "execute_result"
    },
    {
     "data": {
      "text/plain": "<Figure size 640x480 with 1 Axes>",
      "image/png": "[encoded data removed]"
     },
     "metadata": {},
     "output_type": "display_data"
    }
   ],
   "source": [
    "plt.hist(blood_pressure['bp_after'], edgecolor='black', bins=20)"
   ],
   "metadata": {
    "collapsed": false,
    "pycharm": {
     "name": "#%%\n"
    }
   }
  },
  {
   "cell_type": "markdown",
   "source": [
    "Perform a Kolmogorov-Smirnov Test"
   ],
   "metadata": {
    "collapsed": false,
    "pycharm": {
     "name": "#%% md\n"
    }
   }
  },
  {
   "cell_type": "code",
   "execution_count": 111,
   "outputs": [
    {
     "data": {
      "text/plain": "ShapiroResult(statistic=0.9547789096832275, pvalue=0.0004928590497002006)"
     },
     "execution_count": 111,
     "metadata": {},
     "output_type": "execute_result"
    }
   ],
   "source": [
    "from scipy.stats._morestats import ShapiroResult\n",
    "from scipy.stats import shapiro\n",
    "\n",
    "#perform Shapiro-Wilk test for normality\n",
    "shapiro(blood_pressure['bp_before'])"
   ],
   "metadata": {
    "collapsed": false,
    "pycharm": {
     "name": "#%%\n"
    }
   }
  },
  {
   "cell_type": "code",
   "execution_count": 112,
   "outputs": [
    {
     "data": {
      "text/plain": "ShapiroResult(statistic=0.974064290523529, pvalue=0.02022933028638363)"
     },
     "execution_count": 112,
     "metadata": {},
     "output_type": "execute_result"
    }
   ],
   "source": [
    "#perform Shapiro-Wilk test for normality\n",
    "shapiro(blood_pressure['bp_after'])"
   ],
   "metadata": {
    "collapsed": false,
    "pycharm": {
     "name": "#%%\n"
    }
   }
  },
  {
   "cell_type": "markdown",
   "source": [
    "From the output we can see that the test statistic is 0.954 ND 0.974 respectively and the corresponding p-value is 0.0004 and 0.02.\n",
    "\n",
    "Since the p-value is less than .05, we reject the null hypothesis of the Shapiro-Wilk test.\n",
    "\n",
    "This means we have sufficient evidence to say that the sample data does not come from a normal distribution."
   ],
   "metadata": {
    "collapsed": false,
    "pycharm": {
     "name": "#%% md\n"
    }
   }
  },
  {
   "cell_type": "markdown",
   "source": [
    "Create a Q-Q plot"
   ],
   "metadata": {
    "collapsed": false,
    "pycharm": {
     "name": "#%% md\n"
    }
   }
  },
  {
   "cell_type": "code",
   "execution_count": 113,
   "outputs": [
    {
     "data": {
      "text/plain": "<Figure size 640x480 with 1 Axes>",
      "image/png": "[encoded data removed]"
     },
     "metadata": {},
     "output_type": "display_data"
    }
   ],
   "source": [
    "import scipy.stats as stats\n",
    "stats.probplot(blood_pressure['bp_before'], plot=plt)\n",
    "plt.title(\"Q-Q plot\")\n",
    "plt.show()"
   ],
   "metadata": {
    "collapsed": false,
    "pycharm": {
     "name": "#%%\n"
    }
   }
  },
  {
   "cell_type": "code",
   "execution_count": 114,
   "outputs": [
    {
     "data": {
      "text/plain": "<Figure size 640x480 with 1 Axes>",
      "image/png": "[encoded data removed]"
     },
     "metadata": {},
     "output_type": "display_data"
    }
   ],
   "source": [
    "import scipy.stats as stats\n",
    "stats.probplot(blood_pressure['bp_after'], plot=plt)\n",
    "plt.title(\"Q-Q plot\")\n",
    "plt.show()"
   ],
   "metadata": {
    "collapsed": false,
    "pycharm": {
     "name": "#%%\n"
    }
   }
  },
  {
   "cell_type": "code",
   "execution_count": 115,
   "outputs": [
    {
     "data": {
      "text/plain": "Ttest_relResult(statistic=3.3371870510833657, pvalue=0.0011297914644840823)"
     },
     "execution_count": 115,
     "metadata": {},
     "output_type": "execute_result"
    }
   ],
   "source": [
    "import scipy.stats as stats\n",
    "stats.ttest_rel(blood_pressure['bp_before'], blood_pressure['bp_after'])"
   ],
   "metadata": {
    "collapsed": false,
    "pycharm": {
     "name": "#%%\n"
    }
   }
  },
  {
   "cell_type": "markdown",
   "source": [
    "As the p-value comes out to be equal to 0.0011 which is less than 0.05 hence we reject the null hypothesis. So, we have enough proof to claim that there is a different before and after surgery .\n",
    "\n",
    "In a two-sample test, we have two independent samples. Of course, by independence, we expect the two sets of measurements will not be correlated. Sample sizes for the two samples need not be equal. (But it often makes sense for them to be approximately equal.)\n",
    "\n",
    "A paired t-test is used to compare a single population before and after some experimental intervention or at two different points in time (for example, measuring student performance on a test before and after being taught the material).\n",
    "I am using the paired t-test and not a two sample one because it is the data before and after. It is the one population, so it not idenpendant from each-other."
   ],
   "metadata": {
    "collapsed": false,
    "pycharm": {
     "name": "#%% md\n"
    }
   }
  },
  {
   "cell_type": "markdown",
   "source": [
    "Exercise 2\n",
    "A Non Gouvernemntal Organization is planning on launching a training program designed\n",
    "to boost incomes. Based on their experiences in running pilot programs in other countries,\n",
    "they have found that older, richer men tend to self-select into the training program. They\n",
    "have collected the data village.csv to assess the effect of the program on participant\n",
    "incomes"
   ],
   "metadata": {
    "collapsed": false,
    "pycharm": {
     "name": "#%% md\n"
    }
   }
  },
  {
   "cell_type": "code",
   "execution_count": 116,
   "outputs": [],
   "source": [
    "df = pd.read_csv('village.csv')"
   ],
   "metadata": {
    "collapsed": false,
    "pycharm": {
     "name": "#%%\n"
    }
   }
  },
  {
   "cell_type": "code",
   "execution_count": 117,
   "outputs": [
    {
     "data": {
      "text/plain": "       id     sex  age  pre_income     program  post_income  sex_num  \\\n0       1    Male   45  979.407453  No program  1281.490982        1   \n1       2  Female   23  663.545110  No program  1041.346836        0   \n2       3  Female   42  729.256002  No program  1247.336819        0   \n3       4  Female   34  744.371565     Program  1248.704147        0   \n4       5  Female   53  768.991891  No program  1342.932254        0   \n..    ...     ...  ...         ...         ...          ...      ...   \n995   996    Male   35  637.734280  No program  1195.449627        1   \n996   997  Female   50  845.625777     Program  1426.746177        0   \n997   998    Male   41  818.407329  No program  1246.869065        1   \n998   999  Female   53  805.797636  No program  1349.237168        0   \n999  1000    Male   46  869.211571  No program  1301.508129        1   \n\n     program_num  \n0              0  \n1              0  \n2              0  \n3              1  \n4              0  \n..           ...  \n995            0  \n996            1  \n997            0  \n998            0  \n999            0  \n\n[1000 rows x 8 columns]",
      "text/html": "<div>\n<style scoped>\n    .dataframe tbody tr th:only-of-type {\n        vertical-align: middle;\n    }\n\n    .dataframe tbody tr th {\n        vertical-align: top;\n    }\n\n    .dataframe thead th {\n        text-align: right;\n    }\n</style>\n<table border=\"1\" class=\"dataframe\">\n  <thead>\n    <tr style=\"text-align: right;\">\n      <th></th>\n      <th>id</th>\n      <th>sex</th>\n      <th>age</th>\n      <th>pre_income</th>\n      <th>program</th>\n      <th>post_income</th>\n      <th>sex_num</th>\n      <th>program_num</th>\n    </tr>\n  </thead>\n  <tbody>\n    <tr>\n      <th>0</th>\n      <td>1</td>\n      <td>Male</td>\n      <td>45</td>\n      <td>979.407453</td>\n      <td>No program</td>\n      <td>1281.490982</td>\n      <td>1</td>\n      <td>0</td>\n    </tr>\n    <tr>\n      <th>1</th>\n      <td>2</td>\n      <td>Female</td>\n      <td>23</td>\n      <td>663.545110</td>\n      <td>No program</td>\n      <td>1041.346836</td>\n      <td>0</td>\n      <td>0</td>\n    </tr>\n    <tr>\n      <th>2</th>\n      <td>3</td>\n      <td>Female</td>\n      <td>42</td>\n      <td>729.256002</td>\n      <td>No program</td>\n      <td>1247.336819</td>\n      <td>0</td>\n      <td>0</td>\n    </tr>\n    <tr>\n      <th>3</th>\n      <td>4</td>\n      <td>Female</td>\n      <td>34</td>\n      <td>744.371565</td>\n      <td>Program</td>\n      <td>1248.704147</td>\n      <td>0</td>\n      <td>1</td>\n    </tr>\n    <tr>\n      <th>4</th>\n      <td>5</td>\n      <td>Female</td>\n      <td>53</td>\n      <td>768.991891</td>\n      <td>No program</td>\n      <td>1342.932254</td>\n      <td>0</td>\n      <td>0</td>\n    </tr>\n    <tr>\n      <th>...</th>\n      <td>...</td>\n      <td>...</td>\n      <td>...</td>\n      <td>...</td>\n      <td>...</td>\n      <td>...</td>\n      <td>...</td>\n      <td>...</td>\n    </tr>\n    <tr>\n      <th>995</th>\n      <td>996</td>\n      <td>Male</td>\n      <td>35</td>\n      <td>637.734280</td>\n      <td>No program</td>\n      <td>1195.449627</td>\n      <td>1</td>\n      <td>0</td>\n    </tr>\n    <tr>\n      <th>996</th>\n      <td>997</td>\n      <td>Female</td>\n      <td>50</td>\n      <td>845.625777</td>\n      <td>Program</td>\n      <td>1426.746177</td>\n      <td>0</td>\n      <td>1</td>\n    </tr>\n    <tr>\n      <th>997</th>\n      <td>998</td>\n      <td>Male</td>\n      <td>41</td>\n      <td>818.407329</td>\n      <td>No program</td>\n      <td>1246.869065</td>\n      <td>1</td>\n      <td>0</td>\n    </tr>\n    <tr>\n      <th>998</th>\n      <td>999</td>\n      <td>Female</td>\n      <td>53</td>\n      <td>805.797636</td>\n      <td>No program</td>\n      <td>1349.237168</td>\n      <td>0</td>\n      <td>0</td>\n    </tr>\n    <tr>\n      <th>999</th>\n      <td>1000</td>\n      <td>Male</td>\n      <td>46</td>\n      <td>869.211571</td>\n      <td>No program</td>\n      <td>1301.508129</td>\n      <td>1</td>\n      <td>0</td>\n    </tr>\n  </tbody>\n</table>\n<p>1000 rows × 8 columns</p>\n</div>"
     },
     "execution_count": 117,
     "metadata": {},
     "output_type": "execute_result"
    }
   ],
   "source": [
    "df"
   ],
   "metadata": {
    "collapsed": false,
    "pycharm": {
     "name": "#%%\n"
    }
   }
  },
  {
   "cell_type": "markdown",
   "source": [
    "We now separate the data into two groups"
   ],
   "metadata": {
    "collapsed": false,
    "pycharm": {
     "name": "#%% md\n"
    }
   }
  },
  {
   "cell_type": "code",
   "execution_count": 118,
   "outputs": [],
   "source": [
    "df_np=df[df['program']=='No program']\n",
    "df_p=df[df['program']=='Program']"
   ],
   "metadata": {
    "collapsed": false,
    "pycharm": {
     "name": "#%%\n"
    }
   }
  },
  {
   "cell_type": "markdown",
   "source": [
    "3. Using the command boxplot of the library seaborn vizualize the distribution of\n",
    "the variable age in these two dataframes. Comment the boxplot"
   ],
   "metadata": {
    "collapsed": false,
    "pycharm": {
     "name": "#%% md\n"
    }
   }
  },
  {
   "cell_type": "code",
   "execution_count": 119,
   "outputs": [
    {
     "name": "stderr",
     "output_type": "stream",
     "text": [
      "No artists with labels found to put in legend.  Note that artists whose label start with an underscore are ignored when legend() is called with no argument.\n"
     ]
    },
    {
     "data": {
      "text/plain": "<Figure size 640x480 with 1 Axes>",
      "image/png": "[encoded data removed]"
     },
     "metadata": {},
     "output_type": "display_data"
    }
   ],
   "source": [
    "sns.boxplot(x=df_np[\"age\"])\n",
    "plt.legend()\n",
    "plt.show()"
   ],
   "metadata": {
    "collapsed": false,
    "pycharm": {
     "name": "#%%\n"
    }
   }
  },
  {
   "cell_type": "code",
   "execution_count": 120,
   "outputs": [
    {
     "data": {
      "text/plain": "<Figure size 640x480 with 1 Axes>",
      "image/png": "[encoded data removed]"
     },
     "metadata": {},
     "output_type": "display_data"
    }
   ],
   "source": [
    "sns.histplot(df_np.age.dropna(), bins=15, label='woman survived')\n",
    "plt.legend()\n",
    "plt.show()"
   ],
   "metadata": {
    "collapsed": false,
    "pycharm": {
     "name": "#%%\n"
    }
   }
  },
  {
   "cell_type": "markdown",
   "source": [
    "By simply looking at this histogram, we can tell the dataset does exhibit a “bell-shape” and is normally distributed."
   ],
   "metadata": {
    "collapsed": false,
    "pycharm": {
     "name": "#%% md\n"
    }
   }
  },
  {
   "cell_type": "code",
   "execution_count": 121,
   "outputs": [
    {
     "name": "stderr",
     "output_type": "stream",
     "text": [
      "No artists with labels found to put in legend.  Note that artists whose label start with an underscore are ignored when legend() is called with no argument.\n"
     ]
    },
    {
     "data": {
      "text/plain": "<Figure size 640x480 with 1 Axes>",
      "image/png": "[encoded data removed]"
     },
     "metadata": {},
     "output_type": "display_data"
    }
   ],
   "source": [
    "sns.boxplot(x=df_p[\"age\"])\n",
    "plt.legend()\n",
    "plt.show()"
   ],
   "metadata": {
    "collapsed": false,
    "pycharm": {
     "name": "#%%\n"
    }
   }
  },
  {
   "cell_type": "code",
   "execution_count": 122,
   "outputs": [
    {
     "data": {
      "text/plain": "<Figure size 640x480 with 1 Axes>",
      "image/png": "[encoded data removed]"
     },
     "metadata": {},
     "output_type": "display_data"
    }
   ],
   "source": [
    "sns.histplot(df_p.age.dropna(), bins=15, label='woman survived')\n",
    "plt.legend()\n",
    "plt.show()"
   ],
   "metadata": {
    "collapsed": false,
    "pycharm": {
     "name": "#%%\n"
    }
   }
  },
  {
   "cell_type": "markdown",
   "source": [
    "By simply looking at this histogram, we can tell the dataset does exhibit a “bell-shape” and is normally distributed."
   ],
   "metadata": {
    "collapsed": false,
    "pycharm": {
     "name": "#%% md\n"
    }
   }
  },
  {
   "cell_type": "markdown",
   "source": [
    "4. Using the command boxplot of the library seaborn vizualize the distribution of\n",
    "the variable pre income in these two dataframes"
   ],
   "metadata": {
    "collapsed": false,
    "pycharm": {
     "name": "#%% md\n"
    }
   }
  },
  {
   "cell_type": "code",
   "execution_count": 123,
   "outputs": [
    {
     "name": "stderr",
     "output_type": "stream",
     "text": [
      "No artists with labels found to put in legend.  Note that artists whose label start with an underscore are ignored when legend() is called with no argument.\n"
     ]
    },
    {
     "data": {
      "text/plain": "<Figure size 640x480 with 1 Axes>",
      "image/png": "[encoded data removed]"
     },
     "metadata": {},
     "output_type": "display_data"
    }
   ],
   "source": [
    "sns.boxplot(x=df_np[\"pre_income\"])\n",
    "plt.legend()\n",
    "plt.show()"
   ],
   "metadata": {
    "collapsed": false,
    "pycharm": {
     "name": "#%%\n"
    }
   }
  },
  {
   "cell_type": "code",
   "execution_count": 124,
   "outputs": [
    {
     "name": "stderr",
     "output_type": "stream",
     "text": [
      "No artists with labels found to put in legend.  Note that artists whose label start with an underscore are ignored when legend() is called with no argument.\n"
     ]
    },
    {
     "data": {
      "text/plain": "<Figure size 640x480 with 1 Axes>",
      "image/png": "[encoded data removed]"
     },
     "metadata": {},
     "output_type": "display_data"
    }
   ],
   "source": [
    "sns.boxplot(x=df_p[\"pre_income\"])\n",
    "plt.legend()\n",
    "plt.show()"
   ],
   "metadata": {
    "collapsed": false,
    "pycharm": {
     "name": "#%%\n"
    }
   }
  },
  {
   "cell_type": "markdown",
   "source": [
    "5. We now want to check that there are not any statistically significant differences between the group. Perform a Kolmogorov Smirnov test using the command ks 2samp to compare the distribution of the variable sex num (gender proportion) in the two\n",
    "dataframes. The risk level is set to α = 0.05"
   ],
   "metadata": {
    "collapsed": false,
    "pycharm": {
     "name": "#%% md\n"
    }
   }
  },
  {
   "cell_type": "code",
   "execution_count": 125,
   "outputs": [
    {
     "data": {
      "text/plain": "KstestResult(statistic=0.01912868863279078, pvalue=0.9999632304521416)"
     },
     "execution_count": 125,
     "metadata": {},
     "output_type": "execute_result"
    }
   ],
   "source": [
    "from scipy.stats import ks_2samp\n",
    "\n",
    "test_stat = ks_2samp(df_p[\"sex_num\"], df_np[\"sex_num\"])\n",
    "test_stat"
   ],
   "metadata": {
    "collapsed": false,
    "pycharm": {
     "name": "#%%\n"
    }
   }
  },
  {
   "cell_type": "markdown",
   "source": [
    "The p-value of 0.999 is not below our threshold of 0.05, so we cannot reject the null hypothesis that they have the same distribution. We can not reject the null hypothesis that there are not any statistically significant differences between the group"
   ],
   "metadata": {
    "collapsed": false,
    "pycharm": {
     "name": "#%% md\n"
    }
   }
  },
  {
   "cell_type": "markdown",
   "source": [
    "Exercise 3\n",
    "We shall illustrate PCA on the hand written digit dataset"
   ],
   "metadata": {
    "collapsed": false,
    "pycharm": {
     "name": "#%% md\n"
    }
   }
  },
  {
   "cell_type": "code",
   "execution_count": 126,
   "outputs": [],
   "source": [
    "import sklearn\n",
    "from sklearn.datasets import load_digits\n",
    "digits = load_digits()"
   ],
   "metadata": {
    "collapsed": false,
    "pycharm": {
     "name": "#%%\n"
    }
   }
  },
  {
   "cell_type": "code",
   "execution_count": 127,
   "outputs": [
    {
     "data": {
      "text/plain": "{'data': array([[ 0.,  0.,  5., ...,  0.,  0.,  0.],\n        [ 0.,  0.,  0., ..., 10.,  0.,  0.],\n        [ 0.,  0.,  0., ..., 16.,  9.,  0.],\n        ...,\n        [ 0.,  0.,  1., ...,  6.,  0.,  0.],\n        [ 0.,  0.,  2., ..., 12.,  0.,  0.],\n        [ 0.,  0., 10., ..., 12.,  1.,  0.]]),\n 'target': array([0, 1, 2, ..., 8, 9, 8]),\n 'frame': None,\n 'feature_names': ['pixel_0_0',\n  'pixel_0_1',\n  'pixel_0_2',\n  'pixel_0_3',\n  'pixel_0_4',\n  'pixel_0_5',\n  'pixel_0_6',\n  'pixel_0_7',\n  'pixel_1_0',\n  'pixel_1_1',\n  'pixel_1_2',\n  'pixel_1_3',\n  'pixel_1_4',\n  'pixel_1_5',\n  'pixel_1_6',\n  'pixel_1_7',\n  'pixel_2_0',\n  'pixel_2_1',\n  'pixel_2_2',\n  'pixel_2_3',\n  'pixel_2_4',\n  'pixel_2_5',\n  'pixel_2_6',\n  'pixel_2_7',\n  'pixel_3_0',\n  'pixel_3_1',\n  'pixel_3_2',\n  'pixel_3_3',\n  'pixel_3_4',\n  'pixel_3_5',\n  'pixel_3_6',\n  'pixel_3_7',\n  'pixel_4_0',\n  'pixel_4_1',\n  'pixel_4_2',\n  'pixel_4_3',\n  'pixel_4_4',\n  'pixel_4_5',\n  'pixel_4_6',\n  'pixel_4_7',\n  'pixel_5_0',\n  'pixel_5_1',\n  'pixel_5_2',\n  'pixel_5_3',\n  'pixel_5_4',\n  'pixel_5_5',\n  'pixel_5_6',\n  'pixel_5_7',\n  'pixel_6_0',\n  'pixel_6_1',\n  'pixel_6_2',\n  'pixel_6_3',\n  'pixel_6_4',\n  'pixel_6_5',\n  'pixel_6_6',\n  'pixel_6_7',\n  'pixel_7_0',\n  'pixel_7_1',\n  'pixel_7_2',\n  'pixel_7_3',\n  'pixel_7_4',\n  'pixel_7_5',\n  'pixel_7_6',\n  'pixel_7_7'],\n 'target_names': array([0, 1, 2, 3, 4, 5, 6, 7, 8, 9]),\n 'images': array([[[ 0.,  0.,  5., ...,  1.,  0.,  0.],\n         [ 0.,  0., 13., ..., 15.,  5.,  0.],\n         [ 0.,  3., 15., ..., 11.,  8.,  0.],\n         ...,\n         [ 0.,  4., 11., ..., 12.,  7.,  0.],\n         [ 0.,  2., 14., ..., 12.,  0.,  0.],\n         [ 0.,  0.,  6., ...,  0.,  0.,  0.]],\n \n        [[ 0.,  0.,  0., ...,  5.,  0.,  0.],\n         [ 0.,  0.,  0., ...,  9.,  0.,  0.],\n         [ 0.,  0.,  3., ...,  6.,  0.,  0.],\n         ...,\n         [ 0.,  0.,  1., ...,  6.,  0.,  0.],\n         [ 0.,  0.,  1., ...,  6.,  0.,  0.],\n         [ 0.,  0.,  0., ..., 10.,  0.,  0.]],\n \n        [[ 0.,  0.,  0., ..., 12.,  0.,  0.],\n         [ 0.,  0.,  3., ..., 14.,  0.,  0.],\n         [ 0.,  0.,  8., ..., 16.,  0.,  0.],\n         ...,\n         [ 0.,  9., 16., ...,  0.,  0.,  0.],\n         [ 0.,  3., 13., ..., 11.,  5.,  0.],\n         [ 0.,  0.,  0., ..., 16.,  9.,  0.]],\n \n        ...,\n \n        [[ 0.,  0.,  1., ...,  1.,  0.,  0.],\n         [ 0.,  0., 13., ...,  2.,  1.,  0.],\n         [ 0.,  0., 16., ..., 16.,  5.,  0.],\n         ...,\n         [ 0.,  0., 16., ..., 15.,  0.,  0.],\n         [ 0.,  0., 15., ..., 16.,  0.,  0.],\n         [ 0.,  0.,  2., ...,  6.,  0.,  0.]],\n \n        [[ 0.,  0.,  2., ...,  0.,  0.,  0.],\n         [ 0.,  0., 14., ..., 15.,  1.,  0.],\n         [ 0.,  4., 16., ..., 16.,  7.,  0.],\n         ...,\n         [ 0.,  0.,  0., ..., 16.,  2.,  0.],\n         [ 0.,  0.,  4., ..., 16.,  2.,  0.],\n         [ 0.,  0.,  5., ..., 12.,  0.,  0.]],\n \n        [[ 0.,  0., 10., ...,  1.,  0.,  0.],\n         [ 0.,  2., 16., ...,  1.,  0.,  0.],\n         [ 0.,  0., 15., ..., 15.,  0.,  0.],\n         ...,\n         [ 0.,  4., 16., ..., 16.,  6.,  0.],\n         [ 0.,  8., 16., ..., 16.,  8.,  0.],\n         [ 0.,  1.,  8., ..., 12.,  1.,  0.]]]),\n 'DESCR': \".. _digits_dataset:\\n\\nOptical recognition of handwritten digits dataset\\n--------------------------------------------------\\n\\n**Data Set Characteristics:**\\n\\n    :Number of Instances: 1797\\n    :Number of Attributes: 64\\n    :Attribute Information: 8x8 image of integer pixels in the range 0..16.\\n    :Missing Attribute Values: None\\n    :Creator: E. Alpaydin (alpaydin '@' boun.edu.tr)\\n    :Date: July; 1998\\n\\nThis is a copy of the test set of the UCI ML hand-written digits datasets\\nhttps://archive.ics.uci.edu/ml/datasets/Optical+Recognition+of+Handwritten+Digits\\n\\nThe data set contains images of hand-written digits: 10 classes where\\neach class refers to a digit.\\n\\nPreprocessing programs made available by NIST were used to extract\\nnormalized bitmaps of handwritten digits from a preprinted form. From a\\ntotal of 43 people, 30 contributed to the training set and different 13\\nto the test set. 32x32 bitmaps are divided into nonoverlapping blocks of\\n4x4 and the number of on pixels are counted in each block. This generates\\nan input matrix of 8x8 where each element is an integer in the range\\n0..16. This reduces dimensionality and gives invariance to small\\ndistortions.\\n\\nFor info on NIST preprocessing routines, see M. D. Garris, J. L. Blue, G.\\nT. Candela, D. L. Dimmick, J. Geist, P. J. Grother, S. A. Janet, and C.\\nL. Wilson, NIST Form-Based Handprint Recognition System, NISTIR 5469,\\n1994.\\n\\n.. topic:: References\\n\\n  - C. Kaynak (1995) Methods of Combining Multiple Classifiers and Their\\n    Applications to Handwritten Digit Recognition, MSc Thesis, Institute of\\n    Graduate Studies in Science and Engineering, Bogazici University.\\n  - E. Alpaydin, C. Kaynak (1998) Cascading Classifiers, Kybernetika.\\n  - Ken Tang and Ponnuthurai N. Suganthan and Xi Yao and A. Kai Qin.\\n    Linear dimensionalityreduction using relevance weighted LDA. School of\\n    Electrical and Electronic Engineering Nanyang Technological University.\\n    2005.\\n  - Claudio Gentile. A New Approximate Maximal Margin Classification\\n    Algorithm. NIPS. 2000.\\n\"}"
     },
     "execution_count": 127,
     "metadata": {},
     "output_type": "execute_result"
    }
   ],
   "source": [
    "digits"
   ],
   "metadata": {
    "collapsed": false,
    "pycharm": {
     "name": "#%%\n"
    }
   }
  },
  {
   "cell_type": "code",
   "execution_count": 128,
   "outputs": [
    {
     "data": {
      "text/plain": "array([ 0.,  0.,  5., 13.,  9.,  1.,  0.,  0.,  0.,  0., 13., 15., 10.,\n       15.,  5.,  0.,  0.,  3., 15.,  2.,  0., 11.,  8.,  0.,  0.,  4.,\n       12.,  0.,  0.,  8.,  8.,  0.,  0.,  5.,  8.,  0.,  0.,  9.,  8.,\n        0.,  0.,  4., 11.,  0.,  1., 12.,  7.,  0.,  0.,  2., 14.,  5.,\n       10., 12.,  0.,  0.,  0.,  0.,  6., 13., 10.,  0.,  0.,  0.])"
     },
     "execution_count": 128,
     "metadata": {},
     "output_type": "execute_result"
    }
   ],
   "source": [
    "digits.data[0]"
   ],
   "metadata": {
    "collapsed": false,
    "pycharm": {
     "name": "#%%\n"
    }
   }
  },
  {
   "cell_type": "markdown",
   "source": [],
   "metadata": {
    "collapsed": false,
    "pycharm": {
     "name": "#%% md\n"
    }
   }
  },
  {
   "cell_type": "code",
   "execution_count": 129,
   "outputs": [
    {
     "data": {
      "text/plain": "array([[ 0.,  0.,  5., 13.,  9.,  1.,  0.,  0.],\n       [ 0.,  0., 13., 15., 10., 15.,  5.,  0.],\n       [ 0.,  3., 15.,  2.,  0., 11.,  8.,  0.],\n       [ 0.,  4., 12.,  0.,  0.,  8.,  8.,  0.],\n       [ 0.,  5.,  8.,  0.,  0.,  9.,  8.,  0.],\n       [ 0.,  4., 11.,  0.,  1., 12.,  7.,  0.],\n       [ 0.,  2., 14.,  5., 10., 12.,  0.,  0.],\n       [ 0.,  0.,  6., 13., 10.,  0.,  0.,  0.]])"
     },
     "execution_count": 129,
     "metadata": {},
     "output_type": "execute_result"
    }
   ],
   "source": [
    "# visualize digits data\n",
    "digits.data[0].reshape(8,8)"
   ],
   "metadata": {
    "collapsed": false,
    "pycharm": {
     "name": "#%%\n"
    }
   }
  },
  {
   "cell_type": "code",
   "execution_count": 130,
   "outputs": [
    {
     "data": {
      "text/plain": "<matplotlib.image.AxesImage at 0x192298bcd60>"
     },
     "execution_count": 130,
     "metadata": {},
     "output_type": "execute_result"
    },
    {
     "data": {
      "text/plain": "<Figure size 640x480 with 0 Axes>"
     },
     "metadata": {},
     "output_type": "display_data"
    },
    {
     "data": {
      "text/plain": "<Figure size 480x480 with 1 Axes>",
      "image/png": "[encoded data removed]"
     },
     "metadata": {},
     "output_type": "display_data"
    }
   ],
   "source": [
    "from matplotlib import pyplot as plt\n",
    "%matplotlib inline\n",
    "plt.gray()\n",
    "plt.matshow(digits.data[0].reshape(8,8))"
   ],
   "metadata": {
    "collapsed": false,
    "pycharm": {
     "name": "#%%\n"
    }
   }
  },
  {
   "cell_type": "code",
   "execution_count": 131,
   "outputs": [
    {
     "data": {
      "text/plain": "   pixel_0_0  pixel_0_1  pixel_0_2  pixel_0_3  pixel_0_4  pixel_0_5  \\\n0        0.0        0.0        5.0       13.0        9.0        1.0   \n1        0.0        0.0        0.0       12.0       13.0        5.0   \n2        0.0        0.0        0.0        4.0       15.0       12.0   \n3        0.0        0.0        7.0       15.0       13.0        1.0   \n4        0.0        0.0        0.0        1.0       11.0        0.0   \n\n   pixel_0_6  pixel_0_7  pixel_1_0  pixel_1_1  ...  pixel_6_6  pixel_6_7  \\\n0        0.0        0.0        0.0        0.0  ...        0.0        0.0   \n1        0.0        0.0        0.0        0.0  ...        0.0        0.0   \n2        0.0        0.0        0.0        0.0  ...        5.0        0.0   \n3        0.0        0.0        0.0        8.0  ...        9.0        0.0   \n4        0.0        0.0        0.0        0.0  ...        0.0        0.0   \n\n   pixel_7_0  pixel_7_1  pixel_7_2  pixel_7_3  pixel_7_4  pixel_7_5  \\\n0        0.0        0.0        6.0       13.0       10.0        0.0   \n1        0.0        0.0        0.0       11.0       16.0       10.0   \n2        0.0        0.0        0.0        3.0       11.0       16.0   \n3        0.0        0.0        7.0       13.0       13.0        9.0   \n4        0.0        0.0        0.0        2.0       16.0        4.0   \n\n   pixel_7_6  pixel_7_7  \n0        0.0        0.0  \n1        0.0        0.0  \n2        9.0        0.0  \n3        0.0        0.0  \n4        0.0        0.0  \n\n[5 rows x 64 columns]",
      "text/html": "<div>\n<style scoped>\n    .dataframe tbody tr th:only-of-type {\n        vertical-align: middle;\n    }\n\n    .dataframe tbody tr th {\n        vertical-align: top;\n    }\n\n    .dataframe thead th {\n        text-align: right;\n    }\n</style>\n<table border=\"1\" class=\"dataframe\">\n  <thead>\n    <tr style=\"text-align: right;\">\n      <th></th>\n      <th>pixel_0_0</th>\n      <th>pixel_0_1</th>\n      <th>pixel_0_2</th>\n      <th>pixel_0_3</th>\n      <th>pixel_0_4</th>\n      <th>pixel_0_5</th>\n      <th>pixel_0_6</th>\n      <th>pixel_0_7</th>\n      <th>pixel_1_0</th>\n      <th>pixel_1_1</th>\n      <th>...</th>\n      <th>pixel_6_6</th>\n      <th>pixel_6_7</th>\n      <th>pixel_7_0</th>\n      <th>pixel_7_1</th>\n      <th>pixel_7_2</th>\n      <th>pixel_7_3</th>\n      <th>pixel_7_4</th>\n      <th>pixel_7_5</th>\n      <th>pixel_7_6</th>\n      <th>pixel_7_7</th>\n    </tr>\n  </thead>\n  <tbody>\n    <tr>\n      <th>0</th>\n      <td>0.0</td>\n      <td>0.0</td>\n      <td>5.0</td>\n      <td>13.0</td>\n      <td>9.0</td>\n      <td>1.0</td>\n      <td>0.0</td>\n      <td>0.0</td>\n      <td>0.0</td>\n      <td>0.0</td>\n      <td>...</td>\n      <td>0.0</td>\n      <td>0.0</td>\n      <td>0.0</td>\n      <td>0.0</td>\n      <td>6.0</td>\n      <td>13.0</td>\n      <td>10.0</td>\n      <td>0.0</td>\n      <td>0.0</td>\n      <td>0.0</td>\n    </tr>\n    <tr>\n      <th>1</th>\n      <td>0.0</td>\n      <td>0.0</td>\n      <td>0.0</td>\n      <td>12.0</td>\n      <td>13.0</td>\n      <td>5.0</td>\n      <td>0.0</td>\n      <td>0.0</td>\n      <td>0.0</td>\n      <td>0.0</td>\n      <td>...</td>\n      <td>0.0</td>\n      <td>0.0</td>\n      <td>0.0</td>\n      <td>0.0</td>\n      <td>0.0</td>\n      <td>11.0</td>\n      <td>16.0</td>\n      <td>10.0</td>\n      <td>0.0</td>\n      <td>0.0</td>\n    </tr>\n    <tr>\n      <th>2</th>\n      <td>0.0</td>\n      <td>0.0</td>\n      <td>0.0</td>\n      <td>4.0</td>\n      <td>15.0</td>\n      <td>12.0</td>\n      <td>0.0</td>\n      <td>0.0</td>\n      <td>0.0</td>\n      <td>0.0</td>\n      <td>...</td>\n      <td>5.0</td>\n      <td>0.0</td>\n      <td>0.0</td>\n      <td>0.0</td>\n      <td>0.0</td>\n      <td>3.0</td>\n      <td>11.0</td>\n      <td>16.0</td>\n      <td>9.0</td>\n      <td>0.0</td>\n    </tr>\n    <tr>\n      <th>3</th>\n      <td>0.0</td>\n      <td>0.0</td>\n      <td>7.0</td>\n      <td>15.0</td>\n      <td>13.0</td>\n      <td>1.0</td>\n      <td>0.0</td>\n      <td>0.0</td>\n      <td>0.0</td>\n      <td>8.0</td>\n      <td>...</td>\n      <td>9.0</td>\n      <td>0.0</td>\n      <td>0.0</td>\n      <td>0.0</td>\n      <td>7.0</td>\n      <td>13.0</td>\n      <td>13.0</td>\n      <td>9.0</td>\n      <td>0.0</td>\n      <td>0.0</td>\n    </tr>\n    <tr>\n      <th>4</th>\n      <td>0.0</td>\n      <td>0.0</td>\n      <td>0.0</td>\n      <td>1.0</td>\n      <td>11.0</td>\n      <td>0.0</td>\n      <td>0.0</td>\n      <td>0.0</td>\n      <td>0.0</td>\n      <td>0.0</td>\n      <td>...</td>\n      <td>0.0</td>\n      <td>0.0</td>\n      <td>0.0</td>\n      <td>0.0</td>\n      <td>0.0</td>\n      <td>2.0</td>\n      <td>16.0</td>\n      <td>4.0</td>\n      <td>0.0</td>\n      <td>0.0</td>\n    </tr>\n  </tbody>\n</table>\n<p>5 rows × 64 columns</p>\n</div>"
     },
     "execution_count": 131,
     "metadata": {},
     "output_type": "execute_result"
    }
   ],
   "source": [
    "df = pd.DataFrame(digits.data, columns=digits.feature_names)\n",
    "df.head()"
   ],
   "metadata": {
    "collapsed": false,
    "pycharm": {
     "name": "#%%\n"
    }
   }
  },
  {
   "cell_type": "code",
   "execution_count": 132,
   "outputs": [
    {
     "data": {
      "text/plain": "       pixel_0_0    pixel_0_1    pixel_0_2    pixel_0_3    pixel_0_4  \\\ncount     1797.0  1797.000000  1797.000000  1797.000000  1797.000000   \nmean         0.0     0.303840     5.204786    11.835838    11.848080   \nstd          0.0     0.907192     4.754826     4.248842     4.287388   \nmin          0.0     0.000000     0.000000     0.000000     0.000000   \n25%          0.0     0.000000     1.000000    10.000000    10.000000   \n50%          0.0     0.000000     4.000000    13.000000    13.000000   \n75%          0.0     0.000000     9.000000    15.000000    15.000000   \nmax          0.0     8.000000    16.000000    16.000000    16.000000   \n\n         pixel_0_5    pixel_0_6    pixel_0_7    pixel_1_0    pixel_1_1  ...  \\\ncount  1797.000000  1797.000000  1797.000000  1797.000000  1797.000000  ...   \nmean      5.781859     1.362270     0.129661     0.005565     1.993879  ...   \nstd       5.666418     3.325775     1.037383     0.094222     3.196160  ...   \nmin       0.000000     0.000000     0.000000     0.000000     0.000000  ...   \n25%       0.000000     0.000000     0.000000     0.000000     0.000000  ...   \n50%       4.000000     0.000000     0.000000     0.000000     0.000000  ...   \n75%      11.000000     0.000000     0.000000     0.000000     3.000000  ...   \nmax      16.000000    16.000000    15.000000     2.000000    16.000000  ...   \n\n         pixel_6_6    pixel_6_7    pixel_7_0    pixel_7_1    pixel_7_2  \\\ncount  1797.000000  1797.000000  1797.000000  1797.000000  1797.000000   \nmean      3.725097     0.206455     0.000556     0.279354     5.557596   \nstd       4.919406     0.984401     0.023590     0.934302     5.103019   \nmin       0.000000     0.000000     0.000000     0.000000     0.000000   \n25%       0.000000     0.000000     0.000000     0.000000     1.000000   \n50%       1.000000     0.000000     0.000000     0.000000     4.000000   \n75%       7.000000     0.000000     0.000000     0.000000    10.000000   \nmax      16.000000    13.000000     1.000000     9.000000    16.000000   \n\n         pixel_7_3    pixel_7_4    pixel_7_5    pixel_7_6    pixel_7_7  \ncount  1797.000000  1797.000000  1797.000000  1797.000000  1797.000000  \nmean     12.089037    11.809126     6.764051     2.067891     0.364496  \nstd       4.374694     4.933947     5.900623     4.090548     1.860122  \nmin       0.000000     0.000000     0.000000     0.000000     0.000000  \n25%      11.000000    10.000000     0.000000     0.000000     0.000000  \n50%      13.000000    14.000000     6.000000     0.000000     0.000000  \n75%      16.000000    16.000000    12.000000     2.000000     0.000000  \nmax      16.000000    16.000000    16.000000    16.000000    16.000000  \n\n[8 rows x 64 columns]",
      "text/html": "<div>\n<style scoped>\n    .dataframe tbody tr th:only-of-type {\n        vertical-align: middle;\n    }\n\n    .dataframe tbody tr th {\n        vertical-align: top;\n    }\n\n    .dataframe thead th {\n        text-align: right;\n    }\n</style>\n<table border=\"1\" class=\"dataframe\">\n  <thead>\n    <tr style=\"text-align: right;\">\n      <th></th>\n      <th>pixel_0_0</th>\n      <th>pixel_0_1</th>\n      <th>pixel_0_2</th>\n      <th>pixel_0_3</th>\n      <th>pixel_0_4</th>\n      <th>pixel_0_5</th>\n      <th>pixel_0_6</th>\n      <th>pixel_0_7</th>\n      <th>pixel_1_0</th>\n      <th>pixel_1_1</th>\n      <th>...</th>\n      <th>pixel_6_6</th>\n      <th>pixel_6_7</th>\n      <th>pixel_7_0</th>\n      <th>pixel_7_1</th>\n      <th>pixel_7_2</th>\n      <th>pixel_7_3</th>\n      <th>pixel_7_4</th>\n      <th>pixel_7_5</th>\n      <th>pixel_7_6</th>\n      <th>pixel_7_7</th>\n    </tr>\n  </thead>\n  <tbody>\n    <tr>\n      <th>count</th>\n      <td>1797.0</td>\n      <td>1797.000000</td>\n      <td>1797.000000</td>\n      <td>1797.000000</td>\n      <td>1797.000000</td>\n      <td>1797.000000</td>\n      <td>1797.000000</td>\n      <td>1797.000000</td>\n      <td>1797.000000</td>\n      <td>1797.000000</td>\n      <td>...</td>\n      <td>1797.000000</td>\n      <td>1797.000000</td>\n      <td>1797.000000</td>\n      <td>1797.000000</td>\n      <td>1797.000000</td>\n      <td>1797.000000</td>\n      <td>1797.000000</td>\n      <td>1797.000000</td>\n      <td>1797.000000</td>\n      <td>1797.000000</td>\n    </tr>\n    <tr>\n      <th>mean</th>\n      <td>0.0</td>\n      <td>0.303840</td>\n      <td>5.204786</td>\n      <td>11.835838</td>\n      <td>11.848080</td>\n      <td>5.781859</td>\n      <td>1.362270</td>\n      <td>0.129661</td>\n      <td>0.005565</td>\n      <td>1.993879</td>\n      <td>...</td>\n      <td>3.725097</td>\n      <td>0.206455</td>\n      <td>0.000556</td>\n      <td>0.279354</td>\n      <td>5.557596</td>\n      <td>12.089037</td>\n      <td>11.809126</td>\n      <td>6.764051</td>\n      <td>2.067891</td>\n      <td>0.364496</td>\n    </tr>\n    <tr>\n      <th>std</th>\n      <td>0.0</td>\n      <td>0.907192</td>\n      <td>4.754826</td>\n      <td>4.248842</td>\n      <td>4.287388</td>\n      <td>5.666418</td>\n      <td>3.325775</td>\n      <td>1.037383</td>\n      <td>0.094222</td>\n      <td>3.196160</td>\n      <td>...</td>\n      <td>4.919406</td>\n      <td>0.984401</td>\n      <td>0.023590</td>\n      <td>0.934302</td>\n      <td>5.103019</td>\n      <td>4.374694</td>\n      <td>4.933947</td>\n      <td>5.900623</td>\n      <td>4.090548</td>\n      <td>1.860122</td>\n    </tr>\n    <tr>\n      <th>min</th>\n      <td>0.0</td>\n      <td>0.000000</td>\n      <td>0.000000</td>\n      <td>0.000000</td>\n      <td>0.000000</td>\n      <td>0.000000</td>\n      <td>0.000000</td>\n      <td>0.000000</td>\n      <td>0.000000</td>\n      <td>0.000000</td>\n      <td>...</td>\n      <td>0.000000</td>\n      <td>0.000000</td>\n      <td>0.000000</td>\n      <td>0.000000</td>\n      <td>0.000000</td>\n      <td>0.000000</td>\n      <td>0.000000</td>\n      <td>0.000000</td>\n      <td>0.000000</td>\n      <td>0.000000</td>\n    </tr>\n    <tr>\n      <th>25%</th>\n      <td>0.0</td>\n      <td>0.000000</td>\n      <td>1.000000</td>\n      <td>10.000000</td>\n      <td>10.000000</td>\n      <td>0.000000</td>\n      <td>0.000000</td>\n      <td>0.000000</td>\n      <td>0.000000</td>\n      <td>0.000000</td>\n      <td>...</td>\n      <td>0.000000</td>\n      <td>0.000000</td>\n      <td>0.000000</td>\n      <td>0.000000</td>\n      <td>1.000000</td>\n      <td>11.000000</td>\n      <td>10.000000</td>\n      <td>0.000000</td>\n      <td>0.000000</td>\n      <td>0.000000</td>\n    </tr>\n    <tr>\n      <th>50%</th>\n      <td>0.0</td>\n      <td>0.000000</td>\n      <td>4.000000</td>\n      <td>13.000000</td>\n      <td>13.000000</td>\n      <td>4.000000</td>\n      <td>0.000000</td>\n      <td>0.000000</td>\n      <td>0.000000</td>\n      <td>0.000000</td>\n      <td>...</td>\n      <td>1.000000</td>\n      <td>0.000000</td>\n      <td>0.000000</td>\n      <td>0.000000</td>\n      <td>4.000000</td>\n      <td>13.000000</td>\n      <td>14.000000</td>\n      <td>6.000000</td>\n      <td>0.000000</td>\n      <td>0.000000</td>\n    </tr>\n    <tr>\n      <th>75%</th>\n      <td>0.0</td>\n      <td>0.000000</td>\n      <td>9.000000</td>\n      <td>15.000000</td>\n      <td>15.000000</td>\n      <td>11.000000</td>\n      <td>0.000000</td>\n      <td>0.000000</td>\n      <td>0.000000</td>\n      <td>3.000000</td>\n      <td>...</td>\n      <td>7.000000</td>\n      <td>0.000000</td>\n      <td>0.000000</td>\n      <td>0.000000</td>\n      <td>10.000000</td>\n      <td>16.000000</td>\n      <td>16.000000</td>\n      <td>12.000000</td>\n      <td>2.000000</td>\n      <td>0.000000</td>\n    </tr>\n    <tr>\n      <th>max</th>\n      <td>0.0</td>\n      <td>8.000000</td>\n      <td>16.000000</td>\n      <td>16.000000</td>\n      <td>16.000000</td>\n      <td>16.000000</td>\n      <td>16.000000</td>\n      <td>15.000000</td>\n      <td>2.000000</td>\n      <td>16.000000</td>\n      <td>...</td>\n      <td>16.000000</td>\n      <td>13.000000</td>\n      <td>1.000000</td>\n      <td>9.000000</td>\n      <td>16.000000</td>\n      <td>16.000000</td>\n      <td>16.000000</td>\n      <td>16.000000</td>\n      <td>16.000000</td>\n      <td>16.000000</td>\n    </tr>\n  </tbody>\n</table>\n<p>8 rows × 64 columns</p>\n</div>"
     },
     "execution_count": 132,
     "metadata": {},
     "output_type": "execute_result"
    }
   ],
   "source": [
    "df.describe()"
   ],
   "metadata": {
    "collapsed": false,
    "pycharm": {
     "name": "#%%\n"
    }
   }
  },
  {
   "cell_type": "code",
   "execution_count": 133,
   "outputs": [
    {
     "data": {
      "text/plain": "array([[ 0.        , -0.33501649, -0.04308102, ..., -1.14664746,\n        -0.5056698 , -0.19600752],\n       [ 0.        , -0.33501649, -1.09493684, ...,  0.54856067,\n        -0.5056698 , -0.19600752],\n       [ 0.        , -0.33501649, -1.09493684, ...,  1.56568555,\n         1.6951369 , -0.19600752],\n       ...,\n       [ 0.        , -0.33501649, -0.88456568, ..., -0.12952258,\n        -0.5056698 , -0.19600752],\n       [ 0.        , -0.33501649, -0.67419451, ...,  0.8876023 ,\n        -0.5056698 , -0.19600752],\n       [ 0.        , -0.33501649,  1.00877481, ...,  0.8876023 ,\n        -0.26113572, -0.19600752]])"
     },
     "execution_count": 133,
     "metadata": {},
     "output_type": "execute_result"
    }
   ],
   "source": [
    "# Scale features\n",
    "from sklearn.preprocessing import StandardScaler\n",
    "scaler = StandardScaler()\n",
    "x = scaler.fit_transform(df)\n",
    "x"
   ],
   "metadata": {
    "collapsed": false,
    "pycharm": {
     "name": "#%%\n"
    }
   }
  },
  {
   "cell_type": "code",
   "execution_count": 134,
   "outputs": [
    {
     "data": {
      "text/plain": "array([[ 0.        , -0.33501649, -0.25345218, ..., -0.63808502,\n        -0.5056698 , -0.19600752],\n       [ 0.        , -0.33501649,  1.00877481, ...,  0.20951905,\n         2.91780729,  3.56823458],\n       [ 0.        , -0.33501649, -1.09493684, ..., -1.14664746,\n        -0.5056698 , -0.19600752],\n       ...,\n       [ 0.        , -0.33501649,  0.79840364, ...,  0.20951905,\n        -0.26113572, -0.19600752],\n       [ 0.        , -0.33501649, -0.46382335, ..., -1.14664746,\n        -0.5056698 , -0.19600752],\n       [ 0.        , -0.33501649, -0.25345218, ..., -0.29904339,\n        -0.5056698 , -0.19600752]])"
     },
     "execution_count": 134,
     "metadata": {},
     "output_type": "execute_result"
    }
   ],
   "source": [
    "from sklearn.model_selection import train_test_split\n",
    "train_X, validation_X, train_Y, validation_Y = train_test_split(x, digits.target, test_size=0.2)\n",
    "train_X"
   ],
   "metadata": {
    "collapsed": false,
    "pycharm": {
     "name": "#%%\n"
    }
   }
  },
  {
   "cell_type": "code",
   "execution_count": 135,
   "outputs": [
    {
     "data": {
      "text/plain": "0.9694444444444444"
     },
     "execution_count": 135,
     "metadata": {},
     "output_type": "execute_result"
    }
   ],
   "source": [
    "from sklearn.linear_model import LogisticRegression\n",
    "model = LogisticRegression(solver='liblinear')\n",
    "model.fit(train_X, train_Y)\n",
    "model.score(validation_X, validation_Y)"
   ],
   "metadata": {
    "collapsed": false,
    "pycharm": {
     "name": "#%%\n"
    }
   }
  },
  {
   "cell_type": "code",
   "execution_count": 136,
   "outputs": [
    {
     "data": {
      "text/plain": "(1797, 40)"
     },
     "execution_count": 136,
     "metadata": {},
     "output_type": "execute_result"
    }
   ],
   "source": [
    "from sklearn.decomposition import PCA\n",
    "pca = PCA(0.95) # Retain 95% of useful feature and create new dimension\n",
    "x_pca = pca.fit_transform(x)\n",
    "x_pca.shape"
   ],
   "metadata": {
    "collapsed": false,
    "pycharm": {
     "name": "#%%\n"
    }
   }
  },
  {
   "cell_type": "code",
   "execution_count": 137,
   "outputs": [
    {
     "data": {
      "text/plain": "array([0.12033916, 0.09561054, 0.08444415, 0.06498408, 0.04860155,\n       0.0421412 , 0.03942083, 0.03389381, 0.02998221, 0.02932003,\n       0.02781805, 0.02577055, 0.02275303, 0.0222718 , 0.02165229,\n       0.01914167, 0.01775547, 0.01638069, 0.0159646 , 0.01489191,\n       0.0134797 , 0.01271931, 0.01165837, 0.01057647, 0.00975316,\n       0.00944559, 0.00863014, 0.00836643, 0.00797693, 0.00746471,\n       0.00725582, 0.00691911, 0.00653909, 0.00640793, 0.00591384,\n       0.00571162, 0.00523637, 0.00481808, 0.00453719, 0.00423163])"
     },
     "execution_count": 137,
     "metadata": {},
     "output_type": "execute_result"
    }
   ],
   "source": [
    "pca.explained_variance_ratio_"
   ],
   "metadata": {
    "collapsed": false,
    "pycharm": {
     "name": "#%%\n"
    }
   }
  },
  {
   "cell_type": "code",
   "execution_count": 138,
   "outputs": [
    {
     "data": {
      "text/plain": "40"
     },
     "execution_count": 138,
     "metadata": {},
     "output_type": "execute_result"
    }
   ],
   "source": [
    "pca.n_components_"
   ],
   "metadata": {
    "collapsed": false,
    "pycharm": {
     "name": "#%%\n"
    }
   }
  },
  {
   "cell_type": "code",
   "execution_count": 139,
   "outputs": [
    {
     "data": {
      "text/plain": "(1437, 40)"
     },
     "execution_count": 139,
     "metadata": {},
     "output_type": "execute_result"
    }
   ],
   "source": [
    "from sklearn.model_selection import train_test_split\n",
    "train_X, validation_X, train_Y, validation_Y = train_test_split(x_pca, digits.target, test_size=0.2)\n",
    "train_X.shape"
   ],
   "metadata": {
    "collapsed": false,
    "pycharm": {
     "name": "#%%\n"
    }
   }
  },
  {
   "cell_type": "code",
   "execution_count": 140,
   "outputs": [
    {
     "data": {
      "text/plain": "0.9666666666666667"
     },
     "execution_count": 140,
     "metadata": {},
     "output_type": "execute_result"
    }
   ],
   "source": [
    "from sklearn.linear_model import LogisticRegression\n",
    "model = LogisticRegression(solver='liblinear')\n",
    "model.fit(train_X, train_Y)\n",
    "model.score(validation_X, validation_Y)"
   ],
   "metadata": {
    "collapsed": false,
    "pycharm": {
     "name": "#%%\n"
    }
   }
  },
  {
   "cell_type": "code",
   "execution_count": 141,
   "outputs": [
    {
     "data": {
      "text/plain": "(1797, 2)"
     },
     "execution_count": 141,
     "metadata": {},
     "output_type": "execute_result"
    }
   ],
   "source": [
    "pca = PCA(n_components=2)\n",
    "x_pca = pca.fit_transform(x)\n",
    "x_pca.shape"
   ],
   "metadata": {
    "collapsed": false,
    "pycharm": {
     "name": "#%%\n"
    }
   }
  },
  {
   "cell_type": "code",
   "execution_count": 142,
   "outputs": [
    {
     "data": {
      "text/plain": "(1437, 2)"
     },
     "execution_count": 142,
     "metadata": {},
     "output_type": "execute_result"
    }
   ],
   "source": [
    "from sklearn.model_selection import train_test_split\n",
    "train_X, validation_X, train_Y, validation_Y = train_test_split(x_pca, digits.target, test_size=0.2)\n",
    "train_X.shape"
   ],
   "metadata": {
    "collapsed": false,
    "pycharm": {
     "name": "#%%\n"
    }
   }
  },
  {
   "cell_type": "code",
   "execution_count": 143,
   "outputs": [
    {
     "data": {
      "text/plain": "0.5222222222222223"
     },
     "execution_count": 143,
     "metadata": {},
     "output_type": "execute_result"
    }
   ],
   "source": [
    "from sklearn.linear_model import LogisticRegression\n",
    "model = LogisticRegression(solver='liblinear')\n",
    "model.fit(train_X, train_Y)\n",
    "model.score(validation_X, validation_Y)"
   ],
   "metadata": {
    "collapsed": false,
    "pycharm": {
     "name": "#%%\n"
    }
   }
  }
 ],
 "metadata": {
  "kernelspec": {
   "display_name": "Python 3",
   "language": "python",
   "name": "python3"
  },
  "language_info": {
   "codemirror_mode": {
    "name": "ipython",
    "version": 2
   },
   "file_extension": ".py",
   "mimetype": "text/x-python",
   "name": "python",
   "nbconvert_exporter": "python",
   "pygments_lexer": "ipython2",
   "version": "2.7.6"
  }
 },
 "nbformat": 4,
 "nbformat_minor": 0
}