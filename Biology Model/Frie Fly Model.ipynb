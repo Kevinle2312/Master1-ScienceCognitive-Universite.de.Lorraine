{
 "cells": [
  {
   "cell_type": "code",
   "execution_count": 21,
   "metadata": {
    "pycharm": {
     "is_executing": true
    }
   },
   "outputs": [],
   "source": [
    "import numpy as np\n",
    "import random\n",
    "import matplotlib.pyplot as plt\n",
    "from plotnine import *\n",
    "import pandas as pd\n",
    "%matplotlib inline\n",
    "\n",
    "from mesa import Agent,Model\n",
    "from mesa.time import SimultaneousActivation\n",
    "from mesa.space import MultiGrid\n",
    "from mesa.datacollection import DataCollector"
   ]
  },
  {
   "cell_type": "code",
   "execution_count": 22,
   "metadata": {
    "pycharm": {
     "is_executing": true
    }
   },
   "outputs": [],
   "source": [
    "import numpy as np\n",
    "import matplotlib.pyplot as plt\n",
    "from plotnine import *\n",
    "import pandas as pd\n",
    "%matplotlib inline\n",
    "\n",
    "from mesa import Agent,Model\n",
    "from mesa.time import SimultaneousActivation\n",
    "from mesa.space import MultiGrid\n",
    "from mesa.datacollection import DataCollector\n",
    "class Firefly(Agent):\n",
    "    def __init__(self,unique_id,pos,model):\n",
    "        super().__init__(unique_id,model)\n",
    "        self.pos = pos\n",
    "        self.clock = self.random.randint(1,self.model.cycle_length)\n",
    "        self.flashes_seen = 3  # track number of flashes seen in a tick\n",
    "\n",
    "    def is_flashing(self):\n",
    "        return self.clock <= self.model.flash_length\n",
    "\n",
    "    def step(self):\n",
    "        # self.clock = self.clock+1\n",
    "        self._next = self.clock+1\n",
    "        if self._next > self.model.cycle_length:\n",
    "            self._next = 1\n",
    "\n",
    "        if not self.is_flashing():\n",
    "            neighbours = self.model.grid.get_neighbors(self.pos,True)\n",
    "            for neighbour in neighbours:\n",
    "                if neighbour.is_flashing():\n",
    "                    self.flashes_seen += 1\n",
    "                    self._next = self.model.flash_length + 1\n",
    "                    if self.flashes_seen >= self.model.flashes_to_reset:\n",
    "                        self.clock = 1  # reset clock if enough flashes seen\n",
    "                        self.flashes_seen = 0  # reset flashes seen count\n",
    "                        return\n",
    "            self.flashes_seen = 0  # reset flashes seen count if no flashes seen in tick\n",
    "        else:\n",
    "            neighbours_flashing = self.model.grid.get_neighbors(self.pos,True)\n",
    "            for neighbour in neighbours_flashing:\n",
    "                if neighbour.is_flashing():\n",
    "                    self.flashes_seen += 1\n",
    "                if self.flashes_seen >= self.model.flashes_to_reset:\n",
    "                    self._next = self.model.flash_length + 1\n",
    "            self.flashes_seen = 0\n",
    "\n",
    "    def advance(self):\n",
    "        self.clock = self._next\n",
    "        self.move()\n",
    "\n",
    "    def move(self):\n",
    "        next_moves = self.model.grid.get_neighborhood(self.pos,True,True)\n",
    "        next_move = self.random.choice(next_moves)\n",
    "        self.model.grid.move_agent(self,next_move)\n",
    "\n",
    "class FireflyWorld(Model):\n",
    "    def __init__(self, height=30, width=30, cycle_length=10, flash_length=1, fly_number = 200, flashes_to_reset = 3):\n",
    "        super().__init__()\n",
    "        self.cycle_length = cycle_length\n",
    "        self.flash_length = flash_length\n",
    "        self.fly_number = fly_number\n",
    "        self.flashes_to_reset = flashes_to_reset\n",
    "\n",
    "        self.schedule = SimultaneousActivation(self)\n",
    "        self.grid = MultiGrid(height,width, torus=True)\n",
    "        self.dc = DataCollector({\"Flashing\":lambda m: self.count_flashing()})\n",
    "\n",
    "        for i in range(self.fly_number):\n",
    "            pos = (self.random.randint(0,width-1),\n",
    "                   self.random.randint(0,height-1))\n",
    "            f = Firefly(self.next_id(),pos,self)\n",
    "            self.grid.place_agent(f,pos)\n",
    "            self.schedule.add(f)\n",
    "\n",
    "        self.running = True\n",
    "\n",
    "    def step(self):\n",
    "        self.schedule.step()\n",
    "        self.dc.collect(self)\n",
    "\n",
    "        if self.schedule.time > 1500:\n",
    "            self.running = False\n",
    "\n",
    "    def count_flashing(self):\n",
    "        count = 0\n",
    "        for f in self.schedule.agents:\n",
    "            if f.is_flashing():\n",
    "                count+=1\n",
    "        return count"
   ]
  },
  {
   "cell_type": "code",
   "execution_count": 23,
   "metadata": {
    "pycharm": {
     "is_executing": true
    }
   },
   "outputs": [],
   "source": [
    "ff = FireflyWorld(30,30,30,1)"
   ]
  },
  {
   "cell_type": "code",
   "execution_count": 24,
   "metadata": {
    "pycharm": {
     "is_executing": true
    }
   },
   "outputs": [],
   "source": [
    "ff.run_model()"
   ]
  },
  {
   "cell_type": "code",
   "execution_count": 25,
   "metadata": {
    "pycharm": {
     "is_executing": true
    }
   },
   "outputs": [],
   "source": [
    "result = ff.dc.get_model_vars_dataframe()"
   ]
  },
  {
   "cell_type": "code",
   "execution_count": 26,
   "metadata": {
    "pycharm": {
     "is_executing": true
    }
   },
   "outputs": [
    {
     "data": {
      "text/html": [
       "<div>\n",
       "<style scoped>\n",
       "    .dataframe tbody tr th:only-of-type {\n",
       "        vertical-align: middle;\n",
       "    }\n",
       "\n",
       "    .dataframe tbody tr th {\n",
       "        vertical-align: top;\n",
       "    }\n",
       "\n",
       "    .dataframe thead th {\n",
       "        text-align: right;\n",
       "    }\n",
       "</style>\n",
       "<table border=\"1\" class=\"dataframe\">\n",
       "  <thead>\n",
       "    <tr style=\"text-align: right;\">\n",
       "      <th></th>\n",
       "      <th>Flashing</th>\n",
       "    </tr>\n",
       "  </thead>\n",
       "  <tbody>\n",
       "    <tr>\n",
       "      <th>0</th>\n",
       "      <td>3</td>\n",
       "    </tr>\n",
       "    <tr>\n",
       "      <th>1</th>\n",
       "      <td>10</td>\n",
       "    </tr>\n",
       "    <tr>\n",
       "      <th>2</th>\n",
       "      <td>6</td>\n",
       "    </tr>\n",
       "    <tr>\n",
       "      <th>3</th>\n",
       "      <td>4</td>\n",
       "    </tr>\n",
       "    <tr>\n",
       "      <th>4</th>\n",
       "      <td>7</td>\n",
       "    </tr>\n",
       "    <tr>\n",
       "      <th>...</th>\n",
       "      <td>...</td>\n",
       "    </tr>\n",
       "    <tr>\n",
       "      <th>1496</th>\n",
       "      <td>0</td>\n",
       "    </tr>\n",
       "    <tr>\n",
       "      <th>1497</th>\n",
       "      <td>0</td>\n",
       "    </tr>\n",
       "    <tr>\n",
       "      <th>1498</th>\n",
       "      <td>0</td>\n",
       "    </tr>\n",
       "    <tr>\n",
       "      <th>1499</th>\n",
       "      <td>0</td>\n",
       "    </tr>\n",
       "    <tr>\n",
       "      <th>1500</th>\n",
       "      <td>0</td>\n",
       "    </tr>\n",
       "  </tbody>\n",
       "</table>\n",
       "<p>1501 rows × 1 columns</p>\n",
       "</div>"
      ],
      "text/plain": [
       "      Flashing\n",
       "0            3\n",
       "1           10\n",
       "2            6\n",
       "3            4\n",
       "4            7\n",
       "...        ...\n",
       "1496         0\n",
       "1497         0\n",
       "1498         0\n",
       "1499         0\n",
       "1500         0\n",
       "\n",
       "[1501 rows x 1 columns]"
      ]
     },
     "execution_count": 26,
     "metadata": {},
     "output_type": "execute_result"
    }
   ],
   "source": [
    "result"
   ]
  },
  {
   "cell_type": "code",
   "execution_count": 27,
   "metadata": {
    "pycharm": {
     "is_executing": true
    }
   },
   "outputs": [],
   "source": [
    "result[\"time\"] = np.linspace(0,len(result) - 1, len(result))"
   ]
  },
  {
   "cell_type": "code",
   "execution_count": 28,
   "metadata": {
    "pycharm": {
     "is_executing": true
    }
   },
   "outputs": [
    {
     "data": {
      "text/html": [
       "<div>\n",
       "<style scoped>\n",
       "    .dataframe tbody tr th:only-of-type {\n",
       "        vertical-align: middle;\n",
       "    }\n",
       "\n",
       "    .dataframe tbody tr th {\n",
       "        vertical-align: top;\n",
       "    }\n",
       "\n",
       "    .dataframe thead th {\n",
       "        text-align: right;\n",
       "    }\n",
       "</style>\n",
       "<table border=\"1\" class=\"dataframe\">\n",
       "  <thead>\n",
       "    <tr style=\"text-align: right;\">\n",
       "      <th></th>\n",
       "      <th>Flashing</th>\n",
       "      <th>time</th>\n",
       "    </tr>\n",
       "  </thead>\n",
       "  <tbody>\n",
       "    <tr>\n",
       "      <th>0</th>\n",
       "      <td>3</td>\n",
       "      <td>0.0</td>\n",
       "    </tr>\n",
       "    <tr>\n",
       "      <th>1</th>\n",
       "      <td>10</td>\n",
       "      <td>1.0</td>\n",
       "    </tr>\n",
       "    <tr>\n",
       "      <th>2</th>\n",
       "      <td>6</td>\n",
       "      <td>2.0</td>\n",
       "    </tr>\n",
       "    <tr>\n",
       "      <th>3</th>\n",
       "      <td>4</td>\n",
       "      <td>3.0</td>\n",
       "    </tr>\n",
       "    <tr>\n",
       "      <th>4</th>\n",
       "      <td>7</td>\n",
       "      <td>4.0</td>\n",
       "    </tr>\n",
       "    <tr>\n",
       "      <th>...</th>\n",
       "      <td>...</td>\n",
       "      <td>...</td>\n",
       "    </tr>\n",
       "    <tr>\n",
       "      <th>1496</th>\n",
       "      <td>0</td>\n",
       "      <td>1496.0</td>\n",
       "    </tr>\n",
       "    <tr>\n",
       "      <th>1497</th>\n",
       "      <td>0</td>\n",
       "      <td>1497.0</td>\n",
       "    </tr>\n",
       "    <tr>\n",
       "      <th>1498</th>\n",
       "      <td>0</td>\n",
       "      <td>1498.0</td>\n",
       "    </tr>\n",
       "    <tr>\n",
       "      <th>1499</th>\n",
       "      <td>0</td>\n",
       "      <td>1499.0</td>\n",
       "    </tr>\n",
       "    <tr>\n",
       "      <th>1500</th>\n",
       "      <td>0</td>\n",
       "      <td>1500.0</td>\n",
       "    </tr>\n",
       "  </tbody>\n",
       "</table>\n",
       "<p>1501 rows × 2 columns</p>\n",
       "</div>"
      ],
      "text/plain": [
       "      Flashing    time\n",
       "0            3     0.0\n",
       "1           10     1.0\n",
       "2            6     2.0\n",
       "3            4     3.0\n",
       "4            7     4.0\n",
       "...        ...     ...\n",
       "1496         0  1496.0\n",
       "1497         0  1497.0\n",
       "1498         0  1498.0\n",
       "1499         0  1499.0\n",
       "1500         0  1500.0\n",
       "\n",
       "[1501 rows x 2 columns]"
      ]
     },
     "execution_count": 28,
     "metadata": {},
     "output_type": "execute_result"
    }
   ],
   "source": [
    "result"
   ]
  },
  {
   "cell_type": "code",
   "execution_count": 29,
   "metadata": {
    "pycharm": {
     "is_executing": true
    }
   },
   "outputs": [
    {
     "data": {
      "image/png": "[encoded data removed]",
      "text/plain": [
       "<Figure size 640x480 with 1 Axes>"
      ]
     },
     "metadata": {},
     "output_type": "display_data"
    },
    {
     "data": {
      "text/plain": [
       "<ggplot: (139401684842)>"
      ]
     },
     "execution_count": 29,
     "metadata": {},
     "output_type": "execute_result"
    }
   ],
   "source": [
    "ggplot(result,aes(x=\"time\",y=\"Flashing\"))\\\n",
    "+geom_line() + geom_point()"
   ]
  },
  {
   "cell_type": "code",
   "execution_count": 20,
   "metadata": {
    "pycharm": {
     "is_executing": true
    }
   },
   "outputs": [
    {
     "ename": "TypeError",
     "evalue": "__init__() got an unexpected keyword argument 'fly_number'",
     "output_type": "error",
     "traceback": [
      "\u001B[1;31m---------------------------------------------------------------------------\u001B[0m",
      "\u001B[1;31mTypeError\u001B[0m                                 Traceback (most recent call last)",
      "\u001B[1;32m~\\AppData\\Local\\Temp\\ipykernel_23428\\3841366988.py\u001B[0m in \u001B[0;36m<module>\u001B[1;34m\u001B[0m\n\u001B[0;32m     41\u001B[0m }\n\u001B[0;32m     42\u001B[0m \u001B[1;33m\u001B[0m\u001B[0m\n\u001B[1;32m---> 43\u001B[1;33m server = ModularServer(FireflyWorld,\n\u001B[0m\u001B[0;32m     44\u001B[0m                        \u001B[1;33m[\u001B[0m\u001B[0mcanvas_element\u001B[0m\u001B[1;33m]\u001B[0m\u001B[1;33m,\u001B[0m\u001B[1;33m\u001B[0m\u001B[1;33m\u001B[0m\u001B[0m\n\u001B[0;32m     45\u001B[0m                        \u001B[1;34m\"Firefly Model\"\u001B[0m\u001B[1;33m,\u001B[0m\u001B[1;33m\u001B[0m\u001B[1;33m\u001B[0m\u001B[0m\n",
      "\u001B[1;32m~\\AppData\\Roaming\\Python\\Python39\\site-packages\\mesa\\visualization\\ModularVisualization.py\u001B[0m in \u001B[0;36m__init__\u001B[1;34m(self, model_cls, visualization_elements, name, model_params, port)\u001B[0m\n\u001B[0;32m    353\u001B[0m \u001B[1;33m\u001B[0m\u001B[0m\n\u001B[0;32m    354\u001B[0m         \u001B[0mself\u001B[0m\u001B[1;33m.\u001B[0m\u001B[0mmodel_kwargs\u001B[0m \u001B[1;33m=\u001B[0m \u001B[0mmodel_params\u001B[0m\u001B[1;33m\u001B[0m\u001B[1;33m\u001B[0m\u001B[0m\n\u001B[1;32m--> 355\u001B[1;33m         \u001B[0mself\u001B[0m\u001B[1;33m.\u001B[0m\u001B[0mreset_model\u001B[0m\u001B[1;33m(\u001B[0m\u001B[1;33m)\u001B[0m\u001B[1;33m\u001B[0m\u001B[1;33m\u001B[0m\u001B[0m\n\u001B[0m\u001B[0;32m    356\u001B[0m \u001B[1;33m\u001B[0m\u001B[0m\n\u001B[0;32m    357\u001B[0m         \u001B[1;31m# Initializing the application itself:\u001B[0m\u001B[1;33m\u001B[0m\u001B[1;33m\u001B[0m\u001B[0m\n",
      "\u001B[1;32m~\\AppData\\Roaming\\Python\\Python39\\site-packages\\mesa\\visualization\\ModularVisualization.py\u001B[0m in \u001B[0;36mreset_model\u001B[1;34m(self)\u001B[0m\n\u001B[0;32m    380\u001B[0m                 \u001B[0mmodel_params\u001B[0m\u001B[1;33m[\u001B[0m\u001B[0mkey\u001B[0m\u001B[1;33m]\u001B[0m \u001B[1;33m=\u001B[0m \u001B[0mval\u001B[0m\u001B[1;33m\u001B[0m\u001B[1;33m\u001B[0m\u001B[0m\n\u001B[0;32m    381\u001B[0m \u001B[1;33m\u001B[0m\u001B[0m\n\u001B[1;32m--> 382\u001B[1;33m         \u001B[0mself\u001B[0m\u001B[1;33m.\u001B[0m\u001B[0mmodel\u001B[0m \u001B[1;33m=\u001B[0m \u001B[0mself\u001B[0m\u001B[1;33m.\u001B[0m\u001B[0mmodel_cls\u001B[0m\u001B[1;33m(\u001B[0m\u001B[1;33m**\u001B[0m\u001B[0mmodel_params\u001B[0m\u001B[1;33m)\u001B[0m\u001B[1;33m\u001B[0m\u001B[1;33m\u001B[0m\u001B[0m\n\u001B[0m\u001B[0;32m    383\u001B[0m         \u001B[1;31m# We specify the `running` attribute here so that the user doesn't have\u001B[0m\u001B[1;33m\u001B[0m\u001B[1;33m\u001B[0m\u001B[0m\n\u001B[0;32m    384\u001B[0m         \u001B[1;31m# to define it explicitly in their model's __init__.\u001B[0m\u001B[1;33m\u001B[0m\u001B[1;33m\u001B[0m\u001B[0m\n",
      "\u001B[1;31mTypeError\u001B[0m: __init__() got an unexpected keyword argument 'fly_number'"
     ]
    }
   ],
   "source": [
    "from mesa.visualization.modules import CanvasGrid\n",
    "from mesa.visualization.ModularVisualization import ModularServer\n",
    "from mesa.visualization.UserParam import UserParam, Slider\n",
    "from Enviroment import FireflyWorld\n",
    "from Agent import Firefly\n",
    "\n",
    "\n",
    "def firefly_portrayal(agent):\n",
    "    if agent is None:\n",
    "        return\n",
    "\n",
    "    portrayal = {}\n",
    "    if isinstance(agent, Firefly):\n",
    "        portrayal[\"Shape\"] = \"circle\"\n",
    "        portrayal[\"r\"] = 0.5\n",
    "        portrayal[\"Filled\"] = \"true\"\n",
    "        portrayal[\"Layer\"] = 0\n",
    "\n",
    "        if agent.is_flashing():\n",
    "            portrayal[\"Color\"] = \"orange\"\n",
    "        else:\n",
    "            portrayal[\"Color\"] = \"grey\"\n",
    "    else:\n",
    "        portrayal[\"Shape\"] = \"rect\"\n",
    "        portrayal[\"w\"] = 1\n",
    "        portrayal[\"h\"] = 1\n",
    "        portrayal[\"Filled\"] = \"true\"\n",
    "        portrayal[\"Layer\"] = 0\n",
    "        portrayal[\"Color\"] = \"#FFFFFF\"\n",
    "    return portrayal\n",
    "\n",
    "\n",
    "canvas_element = CanvasGrid(firefly_portrayal, 30, 30, 500, 500)\n",
    "\n",
    "model_params = {\n",
    "    \"height\": 30,\n",
    "    \"width\": 30,\n",
    "    \"cycle_length\": Slider(\"Cycle length\", 1, 10, 20, 1),\n",
    "    \"flash_length\": Slider(\"Flash duration\", 1, 1, 5, 1),\n",
    "    \"fly_number\": Slider(\"NUmber of FLy\", 100, 100, 2000, 100)\n",
    "}\n",
    "\n",
    "server = ModularServer(FireflyWorld,\n",
    "                       [canvas_element],\n",
    "                       \"Firefly Model\",\n",
    "                       model_params)\n",
    "\n",
    "server.port = 8521\n",
    "server.launch()\n"
   ]
  },
  {
   "cell_type": "markdown",
   "metadata": {},
   "source": [
    "Video to fix: https://www.youtube.com/watch?v=MpyA_RKZ6A8&list=PLBnmWnLGF3aaNXgdunV3yiNchqfEEJfHP&index=4"
   ]
  }
 ],
 "metadata": {
  "kernelspec": {
   "display_name": "Python 3 (ipykernel)",
   "language": "python",
   "name": "python3"
  },
  "language_info": {
   "codemirror_mode": {
    "name": "ipython",
    "version": 3
   },
   "file_extension": ".py",
   "mimetype": "text/x-python",
   "name": "python",
   "nbconvert_exporter": "python",
   "pygments_lexer": "ipython3",
   "version": "3.9.13"
  }
 },
 "nbformat": 4,
 "nbformat_minor": 1
}
