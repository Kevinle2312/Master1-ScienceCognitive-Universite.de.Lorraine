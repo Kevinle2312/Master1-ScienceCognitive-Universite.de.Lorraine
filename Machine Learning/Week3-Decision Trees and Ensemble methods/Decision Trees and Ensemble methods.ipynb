{
 "cells": [
  {
   "cell_type": "markdown",
   "source": [
    "We shall work on a dataset allowing to predict if a company is in financial distress or not.\n",
    "This data set deals with the financial distress prediction for a sample of companies and can\n",
    "be downloaded at https://www.kaggle.com/shebrahimi/financial-distress\n",
    "The column of this dataset are as follows\n",
    "• First column: Company represents sample companies.\n",
    "• Second column: Time shows different time periods that data belongs to. Time series\n",
    "length varies between 1 to 14 for each company.\n",
    "• Third column: The target variable is denoted by ”Financial Distress” if it is greater\n",
    "than -0.50 the company should be considered as healthy (0). Otherwise, it would be\n",
    "regarded as financially distressed (1).\n",
    "• Fourth column to the last column: The features denoted by x1 to x83, are some financial\n",
    "and non-financial characteristics of the sampled companies. These features belong to\n",
    "the previous time period, which should be used to predict whether the company will be\n",
    "financially distressed or not (classification). Feature x80 is a categorical variable.\n",
    "For example, company 1 is financially distressed at time 4 but company 2 is still healthy\n",
    "at time 14."
   ],
   "metadata": {
    "collapsed": false
   }
  },
  {
   "cell_type": "code",
   "execution_count": 50,
   "metadata": {
    "collapsed": true
   },
   "outputs": [
    {
     "data": {
      "text/plain": "   Company  Time  Financial Distress      x1        x2       x3       x4  \\\n0        1     1            0.010636  1.2810  0.022934  0.87454  1.21640   \n1        1     2           -0.455970  1.2700  0.006454  0.82067  1.00490   \n2        1     3           -0.325390  1.0529 -0.059379  0.92242  0.72926   \n3        1     4           -0.566570  1.1131 -0.015229  0.85888  0.80974   \n4        2     1            1.357300  1.0623  0.107020  0.81460  0.83593   \n\n         x5        x6       x7  ...      x74    x75     x76     x77   x78  \\\n0  0.060940  0.188270  0.52510  ...   85.437  27.07  26.102  16.000  16.0   \n1 -0.014080  0.181040  0.62288  ...  107.090  31.31  30.194  17.000  16.0   \n2  0.020476  0.044865  0.43292  ...  120.870  36.07  35.273  17.000  15.0   \n3  0.076037  0.091033  0.67546  ...   54.806  39.80  38.377  17.167  16.0   \n4  0.199960  0.047800  0.74200  ...   85.437  27.07  26.102  16.000  16.0   \n\n   x79  x80       x81  x82  x83  \n0  0.2   22  0.060390   30   49  \n1  0.4   22  0.010636   31   50  \n2 -0.2   22 -0.455970   32   51  \n3  5.6   22 -0.325390   33   52  \n4  0.2   29  1.251000    7   27  \n\n[5 rows x 86 columns]",
      "text/html": "<div>\n<style scoped>\n    .dataframe tbody tr th:only-of-type {\n        vertical-align: middle;\n    }\n\n    .dataframe tbody tr th {\n        vertical-align: top;\n    }\n\n    .dataframe thead th {\n        text-align: right;\n    }\n</style>\n<table border=\"1\" class=\"dataframe\">\n  <thead>\n    <tr style=\"text-align: right;\">\n      <th></th>\n      <th>Company</th>\n      <th>Time</th>\n      <th>Financial Distress</th>\n      <th>x1</th>\n      <th>x2</th>\n      <th>x3</th>\n      <th>x4</th>\n      <th>x5</th>\n      <th>x6</th>\n      <th>x7</th>\n      <th>...</th>\n      <th>x74</th>\n      <th>x75</th>\n      <th>x76</th>\n      <th>x77</th>\n      <th>x78</th>\n      <th>x79</th>\n      <th>x80</th>\n      <th>x81</th>\n      <th>x82</th>\n      <th>x83</th>\n    </tr>\n  </thead>\n  <tbody>\n    <tr>\n      <th>0</th>\n      <td>1</td>\n      <td>1</td>\n      <td>0.010636</td>\n      <td>1.2810</td>\n      <td>0.022934</td>\n      <td>0.87454</td>\n      <td>1.21640</td>\n      <td>0.060940</td>\n      <td>0.188270</td>\n      <td>0.52510</td>\n      <td>...</td>\n      <td>85.437</td>\n      <td>27.07</td>\n      <td>26.102</td>\n      <td>16.000</td>\n      <td>16.0</td>\n      <td>0.2</td>\n      <td>22</td>\n      <td>0.060390</td>\n      <td>30</td>\n      <td>49</td>\n    </tr>\n    <tr>\n      <th>1</th>\n      <td>1</td>\n      <td>2</td>\n      <td>-0.455970</td>\n      <td>1.2700</td>\n      <td>0.006454</td>\n      <td>0.82067</td>\n      <td>1.00490</td>\n      <td>-0.014080</td>\n      <td>0.181040</td>\n      <td>0.62288</td>\n      <td>...</td>\n      <td>107.090</td>\n      <td>31.31</td>\n      <td>30.194</td>\n      <td>17.000</td>\n      <td>16.0</td>\n      <td>0.4</td>\n      <td>22</td>\n      <td>0.010636</td>\n      <td>31</td>\n      <td>50</td>\n    </tr>\n    <tr>\n      <th>2</th>\n      <td>1</td>\n      <td>3</td>\n      <td>-0.325390</td>\n      <td>1.0529</td>\n      <td>-0.059379</td>\n      <td>0.92242</td>\n      <td>0.72926</td>\n      <td>0.020476</td>\n      <td>0.044865</td>\n      <td>0.43292</td>\n      <td>...</td>\n      <td>120.870</td>\n      <td>36.07</td>\n      <td>35.273</td>\n      <td>17.000</td>\n      <td>15.0</td>\n      <td>-0.2</td>\n      <td>22</td>\n      <td>-0.455970</td>\n      <td>32</td>\n      <td>51</td>\n    </tr>\n    <tr>\n      <th>3</th>\n      <td>1</td>\n      <td>4</td>\n      <td>-0.566570</td>\n      <td>1.1131</td>\n      <td>-0.015229</td>\n      <td>0.85888</td>\n      <td>0.80974</td>\n      <td>0.076037</td>\n      <td>0.091033</td>\n      <td>0.67546</td>\n      <td>...</td>\n      <td>54.806</td>\n      <td>39.80</td>\n      <td>38.377</td>\n      <td>17.167</td>\n      <td>16.0</td>\n      <td>5.6</td>\n      <td>22</td>\n      <td>-0.325390</td>\n      <td>33</td>\n      <td>52</td>\n    </tr>\n    <tr>\n      <th>4</th>\n      <td>2</td>\n      <td>1</td>\n      <td>1.357300</td>\n      <td>1.0623</td>\n      <td>0.107020</td>\n      <td>0.81460</td>\n      <td>0.83593</td>\n      <td>0.199960</td>\n      <td>0.047800</td>\n      <td>0.74200</td>\n      <td>...</td>\n      <td>85.437</td>\n      <td>27.07</td>\n      <td>26.102</td>\n      <td>16.000</td>\n      <td>16.0</td>\n      <td>0.2</td>\n      <td>29</td>\n      <td>1.251000</td>\n      <td>7</td>\n      <td>27</td>\n    </tr>\n  </tbody>\n</table>\n<p>5 rows × 86 columns</p>\n</div>"
     },
     "execution_count": 50,
     "metadata": {},
     "output_type": "execute_result"
    }
   ],
   "source": [
    "import numpy as np\n",
    "import pandas as pd\n",
    "\n",
    "FinancialDistress = pd.read_csv('FinancialDistress.csv')\n",
    "FinancialDistress.head()"
   ]
  },
  {
   "cell_type": "markdown",
   "source": [
    "Isolate the column of labels and transform this vector into 0/1 labels"
   ],
   "metadata": {
    "collapsed": false
   }
  },
  {
   "cell_type": "code",
   "execution_count": 51,
   "outputs": [
    {
     "data": {
      "text/plain": "      Company  Time  Financial Distress      x1        x2       x3       x4  \\\n0           1     1            0.010636  1.2810  0.022934  0.87454  1.21640   \n1           1     2           -0.455970  1.2700  0.006454  0.82067  1.00490   \n2           1     3           -0.325390  1.0529 -0.059379  0.92242  0.72926   \n3           1     4           -0.566570  1.1131 -0.015229  0.85888  0.80974   \n4           2     1            1.357300  1.0623  0.107020  0.81460  0.83593   \n...       ...   ...                 ...     ...       ...      ...      ...   \n3667      422    10            0.438020  2.2605  0.202890  0.16037  0.18588   \n3668      422    11            0.482410  1.9615  0.216440  0.20095  0.21642   \n3669      422    12            0.500770  1.7099  0.207970  0.26136  0.21399   \n3670      422    13            0.611030  1.5590  0.185450  0.30728  0.19307   \n3671      422    14            0.518650  1.6148  0.176760  0.36369  0.18442   \n\n            x5        x6       x7  ...      x74     x75      x76     x77  \\\n0     0.060940  0.188270  0.52510  ...   85.437   27.07   26.102  16.000   \n1    -0.014080  0.181040  0.62288  ...  107.090   31.31   30.194  17.000   \n2     0.020476  0.044865  0.43292  ...  120.870   36.07   35.273  17.000   \n3     0.076037  0.091033  0.67546  ...   54.806   39.80   38.377  17.167   \n4     0.199960  0.047800  0.74200  ...   85.437   27.07   26.102  16.000   \n...        ...       ...      ...  ...      ...     ...      ...     ...   \n3667  0.175970  0.198400  2.22360  ...  100.000  100.00  100.000  17.125   \n3668  0.203590  0.189870  1.93820  ...   91.500  130.50  132.400  20.000   \n3669  0.193670  0.183890  1.68980  ...   87.100  175.90  178.100  20.000   \n3670  0.172140  0.170680  1.53890  ...   92.900  203.20  204.500  22.000   \n3671  0.169550  0.197860  1.58420  ...   91.700  227.50  214.500  21.000   \n\n       x78   x79  x80       x81  x82  x83  \n0     16.0   0.2   22  0.060390   30   49  \n1     16.0   0.4   22  0.010636   31   50  \n2     15.0  -0.2   22 -0.455970   32   51  \n3     16.0   5.6   22 -0.325390   33   52  \n4     16.0   0.2   29  1.251000    7   27  \n...    ...   ...  ...       ...  ...  ...  \n3667  14.5  -7.0   37  0.436380    4   41  \n3668  14.5 -16.0   37  0.438020    5   42  \n3669  14.5 -20.2   37  0.482410    6   43  \n3670  22.0   6.4   37  0.500770    7   44  \n3671  20.5   8.6   37  0.611030    8   45  \n\n[3672 rows x 86 columns]",
      "text/html": "<div>\n<style scoped>\n    .dataframe tbody tr th:only-of-type {\n        vertical-align: middle;\n    }\n\n    .dataframe tbody tr th {\n        vertical-align: top;\n    }\n\n    .dataframe thead th {\n        text-align: right;\n    }\n</style>\n<table border=\"1\" class=\"dataframe\">\n  <thead>\n    <tr style=\"text-align: right;\">\n      <th></th>\n      <th>Company</th>\n      <th>Time</th>\n      <th>Financial Distress</th>\n      <th>x1</th>\n      <th>x2</th>\n      <th>x3</th>\n      <th>x4</th>\n      <th>x5</th>\n      <th>x6</th>\n      <th>x7</th>\n      <th>...</th>\n      <th>x74</th>\n      <th>x75</th>\n      <th>x76</th>\n      <th>x77</th>\n      <th>x78</th>\n      <th>x79</th>\n      <th>x80</th>\n      <th>x81</th>\n      <th>x82</th>\n      <th>x83</th>\n    </tr>\n  </thead>\n  <tbody>\n    <tr>\n      <th>0</th>\n      <td>1</td>\n      <td>1</td>\n      <td>0.010636</td>\n      <td>1.2810</td>\n      <td>0.022934</td>\n      <td>0.87454</td>\n      <td>1.21640</td>\n      <td>0.060940</td>\n      <td>0.188270</td>\n      <td>0.52510</td>\n      <td>...</td>\n      <td>85.437</td>\n      <td>27.07</td>\n      <td>26.102</td>\n      <td>16.000</td>\n      <td>16.0</td>\n      <td>0.2</td>\n      <td>22</td>\n      <td>0.060390</td>\n      <td>30</td>\n      <td>49</td>\n    </tr>\n    <tr>\n      <th>1</th>\n      <td>1</td>\n      <td>2</td>\n      <td>-0.455970</td>\n      <td>1.2700</td>\n      <td>0.006454</td>\n      <td>0.82067</td>\n      <td>1.00490</td>\n      <td>-0.014080</td>\n      <td>0.181040</td>\n      <td>0.62288</td>\n      <td>...</td>\n      <td>107.090</td>\n      <td>31.31</td>\n      <td>30.194</td>\n      <td>17.000</td>\n      <td>16.0</td>\n      <td>0.4</td>\n      <td>22</td>\n      <td>0.010636</td>\n      <td>31</td>\n      <td>50</td>\n    </tr>\n    <tr>\n      <th>2</th>\n      <td>1</td>\n      <td>3</td>\n      <td>-0.325390</td>\n      <td>1.0529</td>\n      <td>-0.059379</td>\n      <td>0.92242</td>\n      <td>0.72926</td>\n      <td>0.020476</td>\n      <td>0.044865</td>\n      <td>0.43292</td>\n      <td>...</td>\n      <td>120.870</td>\n      <td>36.07</td>\n      <td>35.273</td>\n      <td>17.000</td>\n      <td>15.0</td>\n      <td>-0.2</td>\n      <td>22</td>\n      <td>-0.455970</td>\n      <td>32</td>\n      <td>51</td>\n    </tr>\n    <tr>\n      <th>3</th>\n      <td>1</td>\n      <td>4</td>\n      <td>-0.566570</td>\n      <td>1.1131</td>\n      <td>-0.015229</td>\n      <td>0.85888</td>\n      <td>0.80974</td>\n      <td>0.076037</td>\n      <td>0.091033</td>\n      <td>0.67546</td>\n      <td>...</td>\n      <td>54.806</td>\n      <td>39.80</td>\n      <td>38.377</td>\n      <td>17.167</td>\n      <td>16.0</td>\n      <td>5.6</td>\n      <td>22</td>\n      <td>-0.325390</td>\n      <td>33</td>\n      <td>52</td>\n    </tr>\n    <tr>\n      <th>4</th>\n      <td>2</td>\n      <td>1</td>\n      <td>1.357300</td>\n      <td>1.0623</td>\n      <td>0.107020</td>\n      <td>0.81460</td>\n      <td>0.83593</td>\n      <td>0.199960</td>\n      <td>0.047800</td>\n      <td>0.74200</td>\n      <td>...</td>\n      <td>85.437</td>\n      <td>27.07</td>\n      <td>26.102</td>\n      <td>16.000</td>\n      <td>16.0</td>\n      <td>0.2</td>\n      <td>29</td>\n      <td>1.251000</td>\n      <td>7</td>\n      <td>27</td>\n    </tr>\n    <tr>\n      <th>...</th>\n      <td>...</td>\n      <td>...</td>\n      <td>...</td>\n      <td>...</td>\n      <td>...</td>\n      <td>...</td>\n      <td>...</td>\n      <td>...</td>\n      <td>...</td>\n      <td>...</td>\n      <td>...</td>\n      <td>...</td>\n      <td>...</td>\n      <td>...</td>\n      <td>...</td>\n      <td>...</td>\n      <td>...</td>\n      <td>...</td>\n      <td>...</td>\n      <td>...</td>\n      <td>...</td>\n    </tr>\n    <tr>\n      <th>3667</th>\n      <td>422</td>\n      <td>10</td>\n      <td>0.438020</td>\n      <td>2.2605</td>\n      <td>0.202890</td>\n      <td>0.16037</td>\n      <td>0.18588</td>\n      <td>0.175970</td>\n      <td>0.198400</td>\n      <td>2.22360</td>\n      <td>...</td>\n      <td>100.000</td>\n      <td>100.00</td>\n      <td>100.000</td>\n      <td>17.125</td>\n      <td>14.5</td>\n      <td>-7.0</td>\n      <td>37</td>\n      <td>0.436380</td>\n      <td>4</td>\n      <td>41</td>\n    </tr>\n    <tr>\n      <th>3668</th>\n      <td>422</td>\n      <td>11</td>\n      <td>0.482410</td>\n      <td>1.9615</td>\n      <td>0.216440</td>\n      <td>0.20095</td>\n      <td>0.21642</td>\n      <td>0.203590</td>\n      <td>0.189870</td>\n      <td>1.93820</td>\n      <td>...</td>\n      <td>91.500</td>\n      <td>130.50</td>\n      <td>132.400</td>\n      <td>20.000</td>\n      <td>14.5</td>\n      <td>-16.0</td>\n      <td>37</td>\n      <td>0.438020</td>\n      <td>5</td>\n      <td>42</td>\n    </tr>\n    <tr>\n      <th>3669</th>\n      <td>422</td>\n      <td>12</td>\n      <td>0.500770</td>\n      <td>1.7099</td>\n      <td>0.207970</td>\n      <td>0.26136</td>\n      <td>0.21399</td>\n      <td>0.193670</td>\n      <td>0.183890</td>\n      <td>1.68980</td>\n      <td>...</td>\n      <td>87.100</td>\n      <td>175.90</td>\n      <td>178.100</td>\n      <td>20.000</td>\n      <td>14.5</td>\n      <td>-20.2</td>\n      <td>37</td>\n      <td>0.482410</td>\n      <td>6</td>\n      <td>43</td>\n    </tr>\n    <tr>\n      <th>3670</th>\n      <td>422</td>\n      <td>13</td>\n      <td>0.611030</td>\n      <td>1.5590</td>\n      <td>0.185450</td>\n      <td>0.30728</td>\n      <td>0.19307</td>\n      <td>0.172140</td>\n      <td>0.170680</td>\n      <td>1.53890</td>\n      <td>...</td>\n      <td>92.900</td>\n      <td>203.20</td>\n      <td>204.500</td>\n      <td>22.000</td>\n      <td>22.0</td>\n      <td>6.4</td>\n      <td>37</td>\n      <td>0.500770</td>\n      <td>7</td>\n      <td>44</td>\n    </tr>\n    <tr>\n      <th>3671</th>\n      <td>422</td>\n      <td>14</td>\n      <td>0.518650</td>\n      <td>1.6148</td>\n      <td>0.176760</td>\n      <td>0.36369</td>\n      <td>0.18442</td>\n      <td>0.169550</td>\n      <td>0.197860</td>\n      <td>1.58420</td>\n      <td>...</td>\n      <td>91.700</td>\n      <td>227.50</td>\n      <td>214.500</td>\n      <td>21.000</td>\n      <td>20.5</td>\n      <td>8.6</td>\n      <td>37</td>\n      <td>0.611030</td>\n      <td>8</td>\n      <td>45</td>\n    </tr>\n  </tbody>\n</table>\n<p>3672 rows × 86 columns</p>\n</div>"
     },
     "execution_count": 51,
     "metadata": {},
     "output_type": "execute_result"
    }
   ],
   "source": [
    "FinancialDistress"
   ],
   "metadata": {
    "collapsed": false
   }
  },
  {
   "cell_type": "code",
   "execution_count": 52,
   "outputs": [],
   "source": [
    "# y = FinancialDistress.iloc[:,[2]] # and notice here is still data frame , when you convert to the training table , please make sure adding `ravel` at the end\n",
    "# x = FinancialDistress.drop(y.columns,axis = 1)"
   ],
   "metadata": {
    "collapsed": false
   }
  },
  {
   "cell_type": "code",
   "execution_count": 53,
   "outputs": [],
   "source": [
    "# isolate the column of labels and transform this vector into 0/1 labels (0 if the value is > -0.5, 1 otherwise)\n",
    "FinancialDistress['Financial Distress'] = FinancialDistress['Financial Distress'].apply(lambda x: 0 if x > -0.5 else 1)\n",
    "y = FinancialDistress['Financial Distress']\n",
    "x = FinancialDistress.drop('Financial Distress', axis=1)"
   ],
   "metadata": {
    "collapsed": false
   }
  },
  {
   "cell_type": "code",
   "execution_count": 54,
   "outputs": [
    {
     "data": {
      "text/plain": "      Company  Time  Financial Distress      x1        x2       x3       x4  \\\n0           1     1                   0  1.2810  0.022934  0.87454  1.21640   \n1           1     2                   0  1.2700  0.006454  0.82067  1.00490   \n2           1     3                   0  1.0529 -0.059379  0.92242  0.72926   \n3           1     4                   1  1.1131 -0.015229  0.85888  0.80974   \n4           2     1                   0  1.0623  0.107020  0.81460  0.83593   \n...       ...   ...                 ...     ...       ...      ...      ...   \n3667      422    10                   0  2.2605  0.202890  0.16037  0.18588   \n3668      422    11                   0  1.9615  0.216440  0.20095  0.21642   \n3669      422    12                   0  1.7099  0.207970  0.26136  0.21399   \n3670      422    13                   0  1.5590  0.185450  0.30728  0.19307   \n3671      422    14                   0  1.6148  0.176760  0.36369  0.18442   \n\n            x5        x6       x7  ...      x74     x75      x76     x77  \\\n0     0.060940  0.188270  0.52510  ...   85.437   27.07   26.102  16.000   \n1    -0.014080  0.181040  0.62288  ...  107.090   31.31   30.194  17.000   \n2     0.020476  0.044865  0.43292  ...  120.870   36.07   35.273  17.000   \n3     0.076037  0.091033  0.67546  ...   54.806   39.80   38.377  17.167   \n4     0.199960  0.047800  0.74200  ...   85.437   27.07   26.102  16.000   \n...        ...       ...      ...  ...      ...     ...      ...     ...   \n3667  0.175970  0.198400  2.22360  ...  100.000  100.00  100.000  17.125   \n3668  0.203590  0.189870  1.93820  ...   91.500  130.50  132.400  20.000   \n3669  0.193670  0.183890  1.68980  ...   87.100  175.90  178.100  20.000   \n3670  0.172140  0.170680  1.53890  ...   92.900  203.20  204.500  22.000   \n3671  0.169550  0.197860  1.58420  ...   91.700  227.50  214.500  21.000   \n\n       x78   x79  x80       x81  x82  x83  \n0     16.0   0.2   22  0.060390   30   49  \n1     16.0   0.4   22  0.010636   31   50  \n2     15.0  -0.2   22 -0.455970   32   51  \n3     16.0   5.6   22 -0.325390   33   52  \n4     16.0   0.2   29  1.251000    7   27  \n...    ...   ...  ...       ...  ...  ...  \n3667  14.5  -7.0   37  0.436380    4   41  \n3668  14.5 -16.0   37  0.438020    5   42  \n3669  14.5 -20.2   37  0.482410    6   43  \n3670  22.0   6.4   37  0.500770    7   44  \n3671  20.5   8.6   37  0.611030    8   45  \n\n[3672 rows x 86 columns]",
      "text/html": "<div>\n<style scoped>\n    .dataframe tbody tr th:only-of-type {\n        vertical-align: middle;\n    }\n\n    .dataframe tbody tr th {\n        vertical-align: top;\n    }\n\n    .dataframe thead th {\n        text-align: right;\n    }\n</style>\n<table border=\"1\" class=\"dataframe\">\n  <thead>\n    <tr style=\"text-align: right;\">\n      <th></th>\n      <th>Company</th>\n      <th>Time</th>\n      <th>Financial Distress</th>\n      <th>x1</th>\n      <th>x2</th>\n      <th>x3</th>\n      <th>x4</th>\n      <th>x5</th>\n      <th>x6</th>\n      <th>x7</th>\n      <th>...</th>\n      <th>x74</th>\n      <th>x75</th>\n      <th>x76</th>\n      <th>x77</th>\n      <th>x78</th>\n      <th>x79</th>\n      <th>x80</th>\n      <th>x81</th>\n      <th>x82</th>\n      <th>x83</th>\n    </tr>\n  </thead>\n  <tbody>\n    <tr>\n      <th>0</th>\n      <td>1</td>\n      <td>1</td>\n      <td>0</td>\n      <td>1.2810</td>\n      <td>0.022934</td>\n      <td>0.87454</td>\n      <td>1.21640</td>\n      <td>0.060940</td>\n      <td>0.188270</td>\n      <td>0.52510</td>\n      <td>...</td>\n      <td>85.437</td>\n      <td>27.07</td>\n      <td>26.102</td>\n      <td>16.000</td>\n      <td>16.0</td>\n      <td>0.2</td>\n      <td>22</td>\n      <td>0.060390</td>\n      <td>30</td>\n      <td>49</td>\n    </tr>\n    <tr>\n      <th>1</th>\n      <td>1</td>\n      <td>2</td>\n      <td>0</td>\n      <td>1.2700</td>\n      <td>0.006454</td>\n      <td>0.82067</td>\n      <td>1.00490</td>\n      <td>-0.014080</td>\n      <td>0.181040</td>\n      <td>0.62288</td>\n      <td>...</td>\n      <td>107.090</td>\n      <td>31.31</td>\n      <td>30.194</td>\n      <td>17.000</td>\n      <td>16.0</td>\n      <td>0.4</td>\n      <td>22</td>\n      <td>0.010636</td>\n      <td>31</td>\n      <td>50</td>\n    </tr>\n    <tr>\n      <th>2</th>\n      <td>1</td>\n      <td>3</td>\n      <td>0</td>\n      <td>1.0529</td>\n      <td>-0.059379</td>\n      <td>0.92242</td>\n      <td>0.72926</td>\n      <td>0.020476</td>\n      <td>0.044865</td>\n      <td>0.43292</td>\n      <td>...</td>\n      <td>120.870</td>\n      <td>36.07</td>\n      <td>35.273</td>\n      <td>17.000</td>\n      <td>15.0</td>\n      <td>-0.2</td>\n      <td>22</td>\n      <td>-0.455970</td>\n      <td>32</td>\n      <td>51</td>\n    </tr>\n    <tr>\n      <th>3</th>\n      <td>1</td>\n      <td>4</td>\n      <td>1</td>\n      <td>1.1131</td>\n      <td>-0.015229</td>\n      <td>0.85888</td>\n      <td>0.80974</td>\n      <td>0.076037</td>\n      <td>0.091033</td>\n      <td>0.67546</td>\n      <td>...</td>\n      <td>54.806</td>\n      <td>39.80</td>\n      <td>38.377</td>\n      <td>17.167</td>\n      <td>16.0</td>\n      <td>5.6</td>\n      <td>22</td>\n      <td>-0.325390</td>\n      <td>33</td>\n      <td>52</td>\n    </tr>\n    <tr>\n      <th>4</th>\n      <td>2</td>\n      <td>1</td>\n      <td>0</td>\n      <td>1.0623</td>\n      <td>0.107020</td>\n      <td>0.81460</td>\n      <td>0.83593</td>\n      <td>0.199960</td>\n      <td>0.047800</td>\n      <td>0.74200</td>\n      <td>...</td>\n      <td>85.437</td>\n      <td>27.07</td>\n      <td>26.102</td>\n      <td>16.000</td>\n      <td>16.0</td>\n      <td>0.2</td>\n      <td>29</td>\n      <td>1.251000</td>\n      <td>7</td>\n      <td>27</td>\n    </tr>\n    <tr>\n      <th>...</th>\n      <td>...</td>\n      <td>...</td>\n      <td>...</td>\n      <td>...</td>\n      <td>...</td>\n      <td>...</td>\n      <td>...</td>\n      <td>...</td>\n      <td>...</td>\n      <td>...</td>\n      <td>...</td>\n      <td>...</td>\n      <td>...</td>\n      <td>...</td>\n      <td>...</td>\n      <td>...</td>\n      <td>...</td>\n      <td>...</td>\n      <td>...</td>\n      <td>...</td>\n      <td>...</td>\n    </tr>\n    <tr>\n      <th>3667</th>\n      <td>422</td>\n      <td>10</td>\n      <td>0</td>\n      <td>2.2605</td>\n      <td>0.202890</td>\n      <td>0.16037</td>\n      <td>0.18588</td>\n      <td>0.175970</td>\n      <td>0.198400</td>\n      <td>2.22360</td>\n      <td>...</td>\n      <td>100.000</td>\n      <td>100.00</td>\n      <td>100.000</td>\n      <td>17.125</td>\n      <td>14.5</td>\n      <td>-7.0</td>\n      <td>37</td>\n      <td>0.436380</td>\n      <td>4</td>\n      <td>41</td>\n    </tr>\n    <tr>\n      <th>3668</th>\n      <td>422</td>\n      <td>11</td>\n      <td>0</td>\n      <td>1.9615</td>\n      <td>0.216440</td>\n      <td>0.20095</td>\n      <td>0.21642</td>\n      <td>0.203590</td>\n      <td>0.189870</td>\n      <td>1.93820</td>\n      <td>...</td>\n      <td>91.500</td>\n      <td>130.50</td>\n      <td>132.400</td>\n      <td>20.000</td>\n      <td>14.5</td>\n      <td>-16.0</td>\n      <td>37</td>\n      <td>0.438020</td>\n      <td>5</td>\n      <td>42</td>\n    </tr>\n    <tr>\n      <th>3669</th>\n      <td>422</td>\n      <td>12</td>\n      <td>0</td>\n      <td>1.7099</td>\n      <td>0.207970</td>\n      <td>0.26136</td>\n      <td>0.21399</td>\n      <td>0.193670</td>\n      <td>0.183890</td>\n      <td>1.68980</td>\n      <td>...</td>\n      <td>87.100</td>\n      <td>175.90</td>\n      <td>178.100</td>\n      <td>20.000</td>\n      <td>14.5</td>\n      <td>-20.2</td>\n      <td>37</td>\n      <td>0.482410</td>\n      <td>6</td>\n      <td>43</td>\n    </tr>\n    <tr>\n      <th>3670</th>\n      <td>422</td>\n      <td>13</td>\n      <td>0</td>\n      <td>1.5590</td>\n      <td>0.185450</td>\n      <td>0.30728</td>\n      <td>0.19307</td>\n      <td>0.172140</td>\n      <td>0.170680</td>\n      <td>1.53890</td>\n      <td>...</td>\n      <td>92.900</td>\n      <td>203.20</td>\n      <td>204.500</td>\n      <td>22.000</td>\n      <td>22.0</td>\n      <td>6.4</td>\n      <td>37</td>\n      <td>0.500770</td>\n      <td>7</td>\n      <td>44</td>\n    </tr>\n    <tr>\n      <th>3671</th>\n      <td>422</td>\n      <td>14</td>\n      <td>0</td>\n      <td>1.6148</td>\n      <td>0.176760</td>\n      <td>0.36369</td>\n      <td>0.18442</td>\n      <td>0.169550</td>\n      <td>0.197860</td>\n      <td>1.58420</td>\n      <td>...</td>\n      <td>91.700</td>\n      <td>227.50</td>\n      <td>214.500</td>\n      <td>21.000</td>\n      <td>20.5</td>\n      <td>8.6</td>\n      <td>37</td>\n      <td>0.611030</td>\n      <td>8</td>\n      <td>45</td>\n    </tr>\n  </tbody>\n</table>\n<p>3672 rows × 86 columns</p>\n</div>"
     },
     "execution_count": 54,
     "metadata": {},
     "output_type": "execute_result"
    }
   ],
   "source": [
    "FinancialDistress"
   ],
   "metadata": {
    "collapsed": false
   }
  },
  {
   "cell_type": "code",
   "execution_count": 55,
   "outputs": [
    {
     "data": {
      "text/plain": "      Company  Time      x1        x2       x3       x4        x5        x6  \\\n0           1     1  1.2810  0.022934  0.87454  1.21640  0.060940  0.188270   \n1           1     2  1.2700  0.006454  0.82067  1.00490 -0.014080  0.181040   \n2           1     3  1.0529 -0.059379  0.92242  0.72926  0.020476  0.044865   \n3           1     4  1.1131 -0.015229  0.85888  0.80974  0.076037  0.091033   \n4           2     1  1.0623  0.107020  0.81460  0.83593  0.199960  0.047800   \n...       ...   ...     ...       ...      ...      ...       ...       ...   \n3667      422    10  2.2605  0.202890  0.16037  0.18588  0.175970  0.198400   \n3668      422    11  1.9615  0.216440  0.20095  0.21642  0.203590  0.189870   \n3669      422    12  1.7099  0.207970  0.26136  0.21399  0.193670  0.183890   \n3670      422    13  1.5590  0.185450  0.30728  0.19307  0.172140  0.170680   \n3671      422    14  1.6148  0.176760  0.36369  0.18442  0.169550  0.197860   \n\n           x7        x8  ...      x74     x75      x76     x77   x78   x79  \\\n0     0.52510  0.018854  ...   85.437   27.07   26.102  16.000  16.0   0.2   \n1     0.62288  0.006423  ...  107.090   31.31   30.194  17.000  16.0   0.4   \n2     0.43292 -0.081423  ...  120.870   36.07   35.273  17.000  15.0  -0.2   \n3     0.67546 -0.018807  ...   54.806   39.80   38.377  17.167  16.0   5.6   \n4     0.74200  0.128030  ...   85.437   27.07   26.102  16.000  16.0   0.2   \n...       ...       ...  ...      ...     ...      ...     ...   ...   ...   \n3667  2.22360  1.091500  ...  100.000  100.00  100.000  17.125  14.5  -7.0   \n3668  1.93820  1.000100  ...   91.500  130.50  132.400  20.000  14.5 -16.0   \n3669  1.68980  0.971860  ...   87.100  175.90  178.100  20.000  14.5 -20.2   \n3670  1.53890  0.960570  ...   92.900  203.20  204.500  22.000  22.0   6.4   \n3671  1.58420  0.958450  ...   91.700  227.50  214.500  21.000  20.5   8.6   \n\n      x80       x81  x82  x83  \n0      22  0.060390   30   49  \n1      22  0.010636   31   50  \n2      22 -0.455970   32   51  \n3      22 -0.325390   33   52  \n4      29  1.251000    7   27  \n...   ...       ...  ...  ...  \n3667   37  0.436380    4   41  \n3668   37  0.438020    5   42  \n3669   37  0.482410    6   43  \n3670   37  0.500770    7   44  \n3671   37  0.611030    8   45  \n\n[3672 rows x 85 columns]",
      "text/html": "<div>\n<style scoped>\n    .dataframe tbody tr th:only-of-type {\n        vertical-align: middle;\n    }\n\n    .dataframe tbody tr th {\n        vertical-align: top;\n    }\n\n    .dataframe thead th {\n        text-align: right;\n    }\n</style>\n<table border=\"1\" class=\"dataframe\">\n  <thead>\n    <tr style=\"text-align: right;\">\n      <th></th>\n      <th>Company</th>\n      <th>Time</th>\n      <th>x1</th>\n      <th>x2</th>\n      <th>x3</th>\n      <th>x4</th>\n      <th>x5</th>\n      <th>x6</th>\n      <th>x7</th>\n      <th>x8</th>\n      <th>...</th>\n      <th>x74</th>\n      <th>x75</th>\n      <th>x76</th>\n      <th>x77</th>\n      <th>x78</th>\n      <th>x79</th>\n      <th>x80</th>\n      <th>x81</th>\n      <th>x82</th>\n      <th>x83</th>\n    </tr>\n  </thead>\n  <tbody>\n    <tr>\n      <th>0</th>\n      <td>1</td>\n      <td>1</td>\n      <td>1.2810</td>\n      <td>0.022934</td>\n      <td>0.87454</td>\n      <td>1.21640</td>\n      <td>0.060940</td>\n      <td>0.188270</td>\n      <td>0.52510</td>\n      <td>0.018854</td>\n      <td>...</td>\n      <td>85.437</td>\n      <td>27.07</td>\n      <td>26.102</td>\n      <td>16.000</td>\n      <td>16.0</td>\n      <td>0.2</td>\n      <td>22</td>\n      <td>0.060390</td>\n      <td>30</td>\n      <td>49</td>\n    </tr>\n    <tr>\n      <th>1</th>\n      <td>1</td>\n      <td>2</td>\n      <td>1.2700</td>\n      <td>0.006454</td>\n      <td>0.82067</td>\n      <td>1.00490</td>\n      <td>-0.014080</td>\n      <td>0.181040</td>\n      <td>0.62288</td>\n      <td>0.006423</td>\n      <td>...</td>\n      <td>107.090</td>\n      <td>31.31</td>\n      <td>30.194</td>\n      <td>17.000</td>\n      <td>16.0</td>\n      <td>0.4</td>\n      <td>22</td>\n      <td>0.010636</td>\n      <td>31</td>\n      <td>50</td>\n    </tr>\n    <tr>\n      <th>2</th>\n      <td>1</td>\n      <td>3</td>\n      <td>1.0529</td>\n      <td>-0.059379</td>\n      <td>0.92242</td>\n      <td>0.72926</td>\n      <td>0.020476</td>\n      <td>0.044865</td>\n      <td>0.43292</td>\n      <td>-0.081423</td>\n      <td>...</td>\n      <td>120.870</td>\n      <td>36.07</td>\n      <td>35.273</td>\n      <td>17.000</td>\n      <td>15.0</td>\n      <td>-0.2</td>\n      <td>22</td>\n      <td>-0.455970</td>\n      <td>32</td>\n      <td>51</td>\n    </tr>\n    <tr>\n      <th>3</th>\n      <td>1</td>\n      <td>4</td>\n      <td>1.1131</td>\n      <td>-0.015229</td>\n      <td>0.85888</td>\n      <td>0.80974</td>\n      <td>0.076037</td>\n      <td>0.091033</td>\n      <td>0.67546</td>\n      <td>-0.018807</td>\n      <td>...</td>\n      <td>54.806</td>\n      <td>39.80</td>\n      <td>38.377</td>\n      <td>17.167</td>\n      <td>16.0</td>\n      <td>5.6</td>\n      <td>22</td>\n      <td>-0.325390</td>\n      <td>33</td>\n      <td>52</td>\n    </tr>\n    <tr>\n      <th>4</th>\n      <td>2</td>\n      <td>1</td>\n      <td>1.0623</td>\n      <td>0.107020</td>\n      <td>0.81460</td>\n      <td>0.83593</td>\n      <td>0.199960</td>\n      <td>0.047800</td>\n      <td>0.74200</td>\n      <td>0.128030</td>\n      <td>...</td>\n      <td>85.437</td>\n      <td>27.07</td>\n      <td>26.102</td>\n      <td>16.000</td>\n      <td>16.0</td>\n      <td>0.2</td>\n      <td>29</td>\n      <td>1.251000</td>\n      <td>7</td>\n      <td>27</td>\n    </tr>\n    <tr>\n      <th>...</th>\n      <td>...</td>\n      <td>...</td>\n      <td>...</td>\n      <td>...</td>\n      <td>...</td>\n      <td>...</td>\n      <td>...</td>\n      <td>...</td>\n      <td>...</td>\n      <td>...</td>\n      <td>...</td>\n      <td>...</td>\n      <td>...</td>\n      <td>...</td>\n      <td>...</td>\n      <td>...</td>\n      <td>...</td>\n      <td>...</td>\n      <td>...</td>\n      <td>...</td>\n      <td>...</td>\n    </tr>\n    <tr>\n      <th>3667</th>\n      <td>422</td>\n      <td>10</td>\n      <td>2.2605</td>\n      <td>0.202890</td>\n      <td>0.16037</td>\n      <td>0.18588</td>\n      <td>0.175970</td>\n      <td>0.198400</td>\n      <td>2.22360</td>\n      <td>1.091500</td>\n      <td>...</td>\n      <td>100.000</td>\n      <td>100.00</td>\n      <td>100.000</td>\n      <td>17.125</td>\n      <td>14.5</td>\n      <td>-7.0</td>\n      <td>37</td>\n      <td>0.436380</td>\n      <td>4</td>\n      <td>41</td>\n    </tr>\n    <tr>\n      <th>3668</th>\n      <td>422</td>\n      <td>11</td>\n      <td>1.9615</td>\n      <td>0.216440</td>\n      <td>0.20095</td>\n      <td>0.21642</td>\n      <td>0.203590</td>\n      <td>0.189870</td>\n      <td>1.93820</td>\n      <td>1.000100</td>\n      <td>...</td>\n      <td>91.500</td>\n      <td>130.50</td>\n      <td>132.400</td>\n      <td>20.000</td>\n      <td>14.5</td>\n      <td>-16.0</td>\n      <td>37</td>\n      <td>0.438020</td>\n      <td>5</td>\n      <td>42</td>\n    </tr>\n    <tr>\n      <th>3669</th>\n      <td>422</td>\n      <td>12</td>\n      <td>1.7099</td>\n      <td>0.207970</td>\n      <td>0.26136</td>\n      <td>0.21399</td>\n      <td>0.193670</td>\n      <td>0.183890</td>\n      <td>1.68980</td>\n      <td>0.971860</td>\n      <td>...</td>\n      <td>87.100</td>\n      <td>175.90</td>\n      <td>178.100</td>\n      <td>20.000</td>\n      <td>14.5</td>\n      <td>-20.2</td>\n      <td>37</td>\n      <td>0.482410</td>\n      <td>6</td>\n      <td>43</td>\n    </tr>\n    <tr>\n      <th>3670</th>\n      <td>422</td>\n      <td>13</td>\n      <td>1.5590</td>\n      <td>0.185450</td>\n      <td>0.30728</td>\n      <td>0.19307</td>\n      <td>0.172140</td>\n      <td>0.170680</td>\n      <td>1.53890</td>\n      <td>0.960570</td>\n      <td>...</td>\n      <td>92.900</td>\n      <td>203.20</td>\n      <td>204.500</td>\n      <td>22.000</td>\n      <td>22.0</td>\n      <td>6.4</td>\n      <td>37</td>\n      <td>0.500770</td>\n      <td>7</td>\n      <td>44</td>\n    </tr>\n    <tr>\n      <th>3671</th>\n      <td>422</td>\n      <td>14</td>\n      <td>1.6148</td>\n      <td>0.176760</td>\n      <td>0.36369</td>\n      <td>0.18442</td>\n      <td>0.169550</td>\n      <td>0.197860</td>\n      <td>1.58420</td>\n      <td>0.958450</td>\n      <td>...</td>\n      <td>91.700</td>\n      <td>227.50</td>\n      <td>214.500</td>\n      <td>21.000</td>\n      <td>20.5</td>\n      <td>8.6</td>\n      <td>37</td>\n      <td>0.611030</td>\n      <td>8</td>\n      <td>45</td>\n    </tr>\n  </tbody>\n</table>\n<p>3672 rows × 85 columns</p>\n</div>"
     },
     "execution_count": 55,
     "metadata": {},
     "output_type": "execute_result"
    }
   ],
   "source": [
    "x"
   ],
   "metadata": {
    "collapsed": false
   }
  },
  {
   "cell_type": "code",
   "execution_count": 56,
   "outputs": [
    {
     "data": {
      "text/plain": "0       0\n1       0\n2       0\n3       1\n4       0\n       ..\n3667    0\n3668    0\n3669    0\n3670    0\n3671    0\nName: Financial Distress, Length: 3672, dtype: int64"
     },
     "execution_count": 56,
     "metadata": {},
     "output_type": "execute_result"
    }
   ],
   "source": [
    "y"
   ],
   "metadata": {
    "collapsed": false
   }
  },
  {
   "cell_type": "markdown",
   "source": [
    "Analyse now the data using Decision trees, Random Forest and GBT"
   ],
   "metadata": {
    "collapsed": false
   }
  },
  {
   "cell_type": "markdown",
   "source": [
    "1. Decision Tree"
   ],
   "metadata": {
    "collapsed": false
   }
  },
  {
   "cell_type": "code",
   "execution_count": 57,
   "outputs": [],
   "source": [
    "from sklearn.model_selection import train_test_split\n",
    "\n",
    "x_train,x_test,y_train,y_test = train_test_split(x,y)"
   ],
   "metadata": {
    "collapsed": false
   }
  },
  {
   "cell_type": "code",
   "execution_count": 58,
   "outputs": [],
   "source": [
    "from sklearn import tree\n",
    "reg = tree.DecisionTreeClassifier()\n",
    "reg = reg.fit(x_train, y_train)\n",
    "y_pred=reg.predict(x_test)"
   ],
   "metadata": {
    "collapsed": false
   }
  },
  {
   "cell_type": "code",
   "execution_count": 59,
   "outputs": [
    {
     "data": {
      "text/plain": "0.9455337690631809"
     },
     "execution_count": 59,
     "metadata": {},
     "output_type": "execute_result"
    }
   ],
   "source": [
    "reg.score(x_test,y_test)"
   ],
   "metadata": {
    "collapsed": false
   }
  },
  {
   "cell_type": "code",
   "execution_count": 60,
   "outputs": [
    {
     "data": {
      "text/plain": "array([0.04667502, 0.        , 0.        , 0.        , 0.        ,\n       0.02279987, 0.01454428, 0.        , 0.00954468, 0.04128679,\n       0.00533811, 0.00763575, 0.00678733, 0.00459833, 0.        ,\n       0.        , 0.        , 0.00983129, 0.        , 0.        ,\n       0.01628959, 0.00495475, 0.00763575, 0.        , 0.01458847,\n       0.00043781, 0.01509682, 0.00044772, 0.0101466 , 0.00911354,\n       0.        , 0.        , 0.01759125, 0.00971822, 0.0081448 ,\n       0.        , 0.        , 0.19556054, 0.        , 0.        ,\n       0.00848416, 0.0114415 , 0.0175445 , 0.01527149, 0.        ,\n       0.03340262, 0.00939194, 0.        , 0.01665981, 0.02978554,\n       0.07305475, 0.        , 0.        , 0.        , 0.01937335,\n       0.00989819, 0.        , 0.02548271, 0.02130137, 0.03202557,\n       0.00763575, 0.        , 0.        , 0.        , 0.0050905 ,\n       0.        , 0.        , 0.01739582, 0.00242109, 0.        ,\n       0.        , 0.        , 0.04300462, 0.        , 0.02458644,\n       0.00181508, 0.        , 0.        , 0.        , 0.        ,\n       0.        , 0.        , 0.05905458, 0.02243519, 0.01467611])"
     },
     "execution_count": 60,
     "metadata": {},
     "output_type": "execute_result"
    }
   ],
   "source": [
    "reg.feature_importances_"
   ],
   "metadata": {
    "collapsed": false
   }
  },
  {
   "cell_type": "markdown",
   "source": [
    "2. Random Forest"
   ],
   "metadata": {
    "collapsed": false
   }
  },
  {
   "cell_type": "code",
   "execution_count": 61,
   "outputs": [
    {
     "data": {
      "text/plain": "0.9694989106753813"
     },
     "execution_count": 61,
     "metadata": {},
     "output_type": "execute_result"
    }
   ],
   "source": [
    "from sklearn.ensemble import RandomForestClassifier\n",
    "rf = RandomForestClassifier(n_estimators=200)\n",
    "rf.fit(x_train, y_train)\n",
    "Z = rf.predict(x_test)\n",
    "accuracy=rf.score(x_test,y_test)\n",
    "accuracy"
   ],
   "metadata": {
    "collapsed": false
   }
  },
  {
   "cell_type": "code",
   "execution_count": 62,
   "outputs": [
    {
     "data": {
      "text/plain": "array([0.01107004, 0.00456077, 0.0081433 , 0.02683157, 0.01835244,\n       0.01147368, 0.02225603, 0.00608036, 0.00643628, 0.02458009,\n       0.03046335, 0.02104512, 0.00711611, 0.02435163, 0.01575493,\n       0.01887964, 0.00564665, 0.01537598, 0.00635169, 0.00906716,\n       0.00822356, 0.00932057, 0.00967948, 0.00830929, 0.0136489 ,\n       0.01546453, 0.03837793, 0.0087442 , 0.01424763, 0.01176656,\n       0.01003657, 0.00991494, 0.00832108, 0.00789479, 0.00948709,\n       0.00774332, 0.00709072, 0.01912945, 0.01244094, 0.00886487,\n       0.01107912, 0.00771655, 0.01054397, 0.01712984, 0.01011056,\n       0.02484456, 0.01127162, 0.02432148, 0.02264401, 0.02812912,\n       0.0189008 , 0.01577115, 0.00833253, 0.01624167, 0.0127441 ,\n       0.00932215, 0.0087651 , 0.00857204, 0.01449564, 0.00731454,\n       0.00806643, 0.0069039 , 0.00749547, 0.00607807, 0.00774321,\n       0.00679137, 0.00761319, 0.00616277, 0.00623887, 0.00403838,\n       0.0038689 , 0.00388376, 0.00555053, 0.0022553 , 0.00504153,\n       0.00648503, 0.00532203, 0.00432447, 0.00325082, 0.00377562,\n       0.00347172, 0.00699858, 0.03805759, 0.00893423, 0.01085443])"
     },
     "execution_count": 62,
     "metadata": {},
     "output_type": "execute_result"
    }
   ],
   "source": [
    "rf.feature_importances_"
   ],
   "metadata": {
    "collapsed": false
   }
  },
  {
   "cell_type": "code",
   "execution_count": 63,
   "outputs": [
    {
     "data": {
      "text/plain": "array([26, 82, 10, 49,  3, 45,  9, 13, 47, 48,  6, 11, 37, 50, 15,  4, 43,\n       53, 51, 14, 25, 17, 58, 28, 24, 54, 38, 29,  5, 46, 40,  0, 84, 42,\n       44, 30, 31, 22, 34, 55, 21, 19, 83, 39, 56, 27, 57, 52, 32, 23, 20,\n        2, 60, 33, 35, 64, 41, 66, 62, 59, 12, 36, 81, 61, 65, 75,  8, 18,\n       68, 67,  7, 63, 16, 72, 76, 74,  1, 77, 69, 71, 70, 79, 80, 78, 73],\n      dtype=int64)"
     },
     "execution_count": 63,
     "metadata": {},
     "output_type": "execute_result"
    }
   ],
   "source": [
    "sorted_idx = rf.feature_importances_.argsort()\n",
    "np.flip(sorted_idx)"
   ],
   "metadata": {
    "collapsed": false
   }
  },
  {
   "cell_type": "code",
   "execution_count": 64,
   "outputs": [
    {
     "data": {
      "text/plain": "array([0.        , 0.        , 0.        , 0.        , 0.        ,\n       0.        , 0.        , 0.        , 0.        , 0.        ,\n       0.        , 0.        , 0.        , 0.00021786, 0.        ,\n       0.        , 0.        , 0.        , 0.        , 0.        ,\n       0.        , 0.        , 0.        , 0.        , 0.        ,\n       0.00036311, 0.        , 0.        , 0.00036311, 0.        ,\n       0.        , 0.        , 0.        , 0.        , 0.        ,\n       0.        , 0.        , 0.00029049, 0.        , 0.        ,\n       0.00021786, 0.        , 0.        , 0.        , 0.        ,\n       0.        , 0.        , 0.00036311, 0.00058097, 0.        ,\n       0.        , 0.        , 0.        , 0.        , 0.        ,\n       0.        , 0.        , 0.        , 0.        , 0.        ,\n       0.        , 0.00036311, 0.        , 0.        , 0.        ,\n       0.        , 0.        , 0.        , 0.        , 0.        ,\n       0.        , 0.        , 0.        , 0.        , 0.        ,\n       0.        , 0.        , 0.        , 0.        , 0.        ,\n       0.        , 0.        , 0.00058097, 0.        , 0.00036311])"
     },
     "execution_count": 64,
     "metadata": {},
     "output_type": "execute_result"
    }
   ],
   "source": [
    "from sklearn.inspection import permutation_importance\n",
    "results = permutation_importance(rf, x_train, y_train)\n",
    "# get importance\n",
    "importance = results.importances_mean\n",
    "importance"
   ],
   "metadata": {
    "collapsed": false
   }
  },
  {
   "cell_type": "code",
   "execution_count": 65,
   "outputs": [
    {
     "data": {
      "text/plain": "array([82, 48, 84, 47, 28, 25, 61, 37, 13, 40,  8,  3, 27,  4, 29, 30, 31,\n       32,  2,  5, 33, 34, 35, 36,  1, 38, 26, 24,  9, 16, 10, 11, 12,  7,\n       14, 15, 17, 23, 18, 19, 39,  6, 21, 22, 20, 42, 41, 73, 66, 67, 68,\n       69, 70, 71, 72, 74, 64, 75, 76, 77, 78, 79, 80, 81, 65, 63, 83, 52,\n       43, 44, 45, 46, 49, 50, 51, 53, 62, 54, 55, 56, 57, 58, 59, 60,  0],\n      dtype=int64)"
     },
     "execution_count": 65,
     "metadata": {},
     "output_type": "execute_result"
    }
   ],
   "source": [
    "np.flip(importance.argsort())"
   ],
   "metadata": {
    "collapsed": false
   }
  },
  {
   "cell_type": "markdown",
   "source": [
    "3. GBT"
   ],
   "metadata": {
    "collapsed": false
   }
  },
  {
   "cell_type": "code",
   "execution_count": 66,
   "outputs": [
    {
     "data": {
      "text/plain": "GradientBoostingClassifier(learning_rate=1.0, max_depth=2, n_estimators=3)"
     },
     "execution_count": 66,
     "metadata": {},
     "output_type": "execute_result"
    }
   ],
   "source": [
    "from sklearn.ensemble import GradientBoostingClassifier\n",
    "regressor = GradientBoostingClassifier(\n",
    "    max_depth=2,\n",
    "    n_estimators=3,\n",
    "    learning_rate=1.0\n",
    ")\n",
    "regressor.fit(x_train, y_train)"
   ],
   "metadata": {
    "collapsed": false
   }
  },
  {
   "cell_type": "code",
   "execution_count": 67,
   "outputs": [],
   "source": [
    "from sklearn.metrics import mean_squared_error\n",
    "\n",
    "errors = [mean_squared_error(y_test, y_pred) for y_pred in regressor.staged_predict(x_test)]\n",
    "best_n_estimators = np.argmin(errors)"
   ],
   "metadata": {
    "collapsed": false
   }
  },
  {
   "cell_type": "code",
   "execution_count": 68,
   "outputs": [
    {
     "data": {
      "text/plain": "1"
     },
     "execution_count": 68,
     "metadata": {},
     "output_type": "execute_result"
    }
   ],
   "source": [
    "best_n_estimators"
   ],
   "metadata": {
    "collapsed": false
   }
  },
  {
   "cell_type": "code",
   "execution_count": 69,
   "outputs": [
    {
     "data": {
      "text/plain": "GradientBoostingClassifier(learning_rate=1.0, max_depth=2, n_estimators=1)"
     },
     "execution_count": 69,
     "metadata": {},
     "output_type": "execute_result"
    }
   ],
   "source": [
    "best_regressor = GradientBoostingClassifier(\n",
    "    max_depth=2,\n",
    "    n_estimators=best_n_estimators,\n",
    "    learning_rate=1.0\n",
    ")\n",
    "best_regressor.fit(x_train, y_train)"
   ],
   "metadata": {
    "collapsed": false
   }
  },
  {
   "cell_type": "code",
   "execution_count": 70,
   "outputs": [
    {
     "data": {
      "text/plain": "1"
     },
     "execution_count": 70,
     "metadata": {},
     "output_type": "execute_result"
    }
   ],
   "source": [
    "best_n_estimators"
   ],
   "metadata": {
    "collapsed": false
   }
  },
  {
   "cell_type": "code",
   "execution_count": 71,
   "outputs": [
    {
     "data": {
      "text/plain": "0.9466230936819172"
     },
     "execution_count": 71,
     "metadata": {},
     "output_type": "execute_result"
    }
   ],
   "source": [
    "accuracy=regressor.score(x_test,y_test)\n",
    "accuracy"
   ],
   "metadata": {
    "collapsed": false
   }
  },
  {
   "cell_type": "code",
   "execution_count": null,
   "outputs": [],
   "source": [],
   "metadata": {
    "collapsed": false
   }
  },
  {
   "cell_type": "markdown",
   "source": [
    "Exercise 2\n",
    "In this exercise, we consider the results of a survey given to visitors of hostels listed on\n",
    "Booking.com and TripAdvisor.com. Our features here are the average ratings for different\n",
    "categories\n",
    "• ”f1”: ”Staff”\n",
    "• ”f2”: ”Hostel booking”\n",
    "• ”f3”: ”Check-in and check-out”\n",
    "• ”f4”: ”Room condition”\n",
    "• ”f5”: ”Shared kitchen condition”\n",
    "• ”f6”: ”Shared space condition”\n",
    "• ”f7”: ”Extra services”\n",
    "• ”f8”: ”General conditions & conveniences”\n",
    "• ”f9”: ”Value for money”\n",
    "• ”f10”: ”Customer Co-creation”\n",
    "Our target variable is the hostel’s overall rating on the website. The dataset is hostel factors.csv\n",
    "and can be downloaded on the website\n",
    "To avoid troubles with some Python versions, one may have to import the following\n",
    "modules"
   ],
   "metadata": {
    "collapsed": false
   }
  },
  {
   "cell_type": "code",
   "execution_count": 72,
   "outputs": [],
   "source": [
    "import sklearn\n",
    "import six\n",
    "import sys\n",
    "sys.modules['sklearn.externals.six'] = six"
   ],
   "metadata": {
    "collapsed": false
   }
  },
  {
   "cell_type": "code",
   "execution_count": 72,
   "outputs": [],
   "source": [],
   "metadata": {
    "collapsed": false
   }
  }
 ],
 "metadata": {
  "kernelspec": {
   "display_name": "Python 3",
   "language": "python",
   "name": "python3"
  },
  "language_info": {
   "codemirror_mode": {
    "name": "ipython",
    "version": 2
   },
   "file_extension": ".py",
   "mimetype": "text/x-python",
   "name": "python",
   "nbconvert_exporter": "python",
   "pygments_lexer": "ipython2",
   "version": "2.7.6"
  }
 },
 "nbformat": 4,
 "nbformat_minor": 0
}
